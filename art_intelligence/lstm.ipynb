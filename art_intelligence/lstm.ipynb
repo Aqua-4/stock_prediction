{
 "cells": [
  {
   "cell_type": "markdown",
   "metadata": {},
   "source": [
    "# LSTM (Long Short-Term Memory)\n",
    "\n",
    " \n",
    "### A popular neural network model used to predict future stock prices.\n"
   ]
  },
  {
   "cell_type": "code",
   "execution_count": 24,
   "metadata": {},
   "outputs": [
    {
     "data": {
      "text/html": [
       "<div>\n",
       "<style scoped>\n",
       "    .dataframe tbody tr th:only-of-type {\n",
       "        vertical-align: middle;\n",
       "    }\n",
       "\n",
       "    .dataframe tbody tr th {\n",
       "        vertical-align: top;\n",
       "    }\n",
       "\n",
       "    .dataframe thead th {\n",
       "        text-align: right;\n",
       "    }\n",
       "</style>\n",
       "<table border=\"1\" class=\"dataframe\">\n",
       "  <thead>\n",
       "    <tr style=\"text-align: right;\">\n",
       "      <th></th>\n",
       "      <th>open</th>\n",
       "      <th>high</th>\n",
       "      <th>low</th>\n",
       "      <th>close</th>\n",
       "      <th>volume</th>\n",
       "    </tr>\n",
       "    <tr>\n",
       "      <th>datetime</th>\n",
       "      <th></th>\n",
       "      <th></th>\n",
       "      <th></th>\n",
       "      <th></th>\n",
       "      <th></th>\n",
       "    </tr>\n",
       "  </thead>\n",
       "  <tbody>\n",
       "    <tr>\n",
       "      <th>2024-06-15 00:00:00</th>\n",
       "      <td>142.973</td>\n",
       "      <td>143.995</td>\n",
       "      <td>142.854</td>\n",
       "      <td>143.483</td>\n",
       "      <td>242491.00</td>\n",
       "    </tr>\n",
       "    <tr>\n",
       "      <th>2024-06-15 01:00:00</th>\n",
       "      <td>143.483</td>\n",
       "      <td>144.466</td>\n",
       "      <td>143.134</td>\n",
       "      <td>143.240</td>\n",
       "      <td>218125.00</td>\n",
       "    </tr>\n",
       "    <tr>\n",
       "      <th>2024-06-15 02:00:00</th>\n",
       "      <td>143.240</td>\n",
       "      <td>143.948</td>\n",
       "      <td>143.113</td>\n",
       "      <td>143.693</td>\n",
       "      <td>127771.00</td>\n",
       "    </tr>\n",
       "    <tr>\n",
       "      <th>2024-06-15 03:00:00</th>\n",
       "      <td>143.693</td>\n",
       "      <td>144.921</td>\n",
       "      <td>143.677</td>\n",
       "      <td>144.903</td>\n",
       "      <td>217645.00</td>\n",
       "    </tr>\n",
       "    <tr>\n",
       "      <th>2024-06-15 04:00:00</th>\n",
       "      <td>144.903</td>\n",
       "      <td>145.172</td>\n",
       "      <td>144.000</td>\n",
       "      <td>144.714</td>\n",
       "      <td>404695.00</td>\n",
       "    </tr>\n",
       "    <tr>\n",
       "      <th>...</th>\n",
       "      <td>...</td>\n",
       "      <td>...</td>\n",
       "      <td>...</td>\n",
       "      <td>...</td>\n",
       "      <td>...</td>\n",
       "    </tr>\n",
       "    <tr>\n",
       "      <th>2025-06-05 09:00:00</th>\n",
       "      <td>152.000</td>\n",
       "      <td>152.970</td>\n",
       "      <td>151.980</td>\n",
       "      <td>152.950</td>\n",
       "      <td>337017.50</td>\n",
       "    </tr>\n",
       "    <tr>\n",
       "      <th>2025-06-05 10:00:00</th>\n",
       "      <td>152.940</td>\n",
       "      <td>152.970</td>\n",
       "      <td>151.350</td>\n",
       "      <td>151.860</td>\n",
       "      <td>656915.88</td>\n",
       "    </tr>\n",
       "    <tr>\n",
       "      <th>2025-06-05 11:00:00</th>\n",
       "      <td>151.860</td>\n",
       "      <td>152.350</td>\n",
       "      <td>151.160</td>\n",
       "      <td>152.300</td>\n",
       "      <td>591522.48</td>\n",
       "    </tr>\n",
       "    <tr>\n",
       "      <th>2025-06-05 12:00:00</th>\n",
       "      <td>152.310</td>\n",
       "      <td>154.300</td>\n",
       "      <td>152.100</td>\n",
       "      <td>153.860</td>\n",
       "      <td>1358114.98</td>\n",
       "    </tr>\n",
       "    <tr>\n",
       "      <th>2025-06-05 13:00:00</th>\n",
       "      <td>153.870</td>\n",
       "      <td>154.350</td>\n",
       "      <td>149.500</td>\n",
       "      <td>150.260</td>\n",
       "      <td>2378329.00</td>\n",
       "    </tr>\n",
       "  </tbody>\n",
       "</table>\n",
       "<p>8534 rows × 5 columns</p>\n",
       "</div>"
      ],
      "text/plain": [
       "                        open     high      low    close      volume\n",
       "datetime                                                           \n",
       "2024-06-15 00:00:00  142.973  143.995  142.854  143.483   242491.00\n",
       "2024-06-15 01:00:00  143.483  144.466  143.134  143.240   218125.00\n",
       "2024-06-15 02:00:00  143.240  143.948  143.113  143.693   127771.00\n",
       "2024-06-15 03:00:00  143.693  144.921  143.677  144.903   217645.00\n",
       "2024-06-15 04:00:00  144.903  145.172  144.000  144.714   404695.00\n",
       "...                      ...      ...      ...      ...         ...\n",
       "2025-06-05 09:00:00  152.000  152.970  151.980  152.950   337017.50\n",
       "2025-06-05 10:00:00  152.940  152.970  151.350  151.860   656915.88\n",
       "2025-06-05 11:00:00  151.860  152.350  151.160  152.300   591522.48\n",
       "2025-06-05 12:00:00  152.310  154.300  152.100  153.860  1358114.98\n",
       "2025-06-05 13:00:00  153.870  154.350  149.500  150.260  2378329.00\n",
       "\n",
       "[8534 rows x 5 columns]"
      ]
     },
     "execution_count": 24,
     "metadata": {},
     "output_type": "execute_result"
    }
   ],
   "source": [
    "import pandas as pd\n",
    "\n",
    "file_name='SOL_USDT.csv'\n",
    "# Load stock price data\n",
    "data = pd.read_csv(f'../data/raw/{file_name}', parse_dates=True)\n",
    "data['datetime'] = pd.to_datetime(data['datetime'])\n",
    "\n",
    "data.set_index('datetime', inplace=True)\n",
    "data = data[['open', 'high', 'low', 'close', 'volume']]\n",
    "\n",
    "data"
   ]
  },
  {
   "cell_type": "markdown",
   "metadata": {},
   "source": [
    "### Resample data to daily frequency using OHLC dictionary\n"
   ]
  },
  {
   "cell_type": "code",
   "execution_count": 25,
   "metadata": {},
   "outputs": [
    {
     "data": {
      "text/html": [
       "<div>\n",
       "<style scoped>\n",
       "    .dataframe tbody tr th:only-of-type {\n",
       "        vertical-align: middle;\n",
       "    }\n",
       "\n",
       "    .dataframe tbody tr th {\n",
       "        vertical-align: top;\n",
       "    }\n",
       "\n",
       "    .dataframe thead th {\n",
       "        text-align: right;\n",
       "    }\n",
       "</style>\n",
       "<table border=\"1\" class=\"dataframe\">\n",
       "  <thead>\n",
       "    <tr style=\"text-align: right;\">\n",
       "      <th></th>\n",
       "      <th>open</th>\n",
       "      <th>high</th>\n",
       "      <th>low</th>\n",
       "      <th>close</th>\n",
       "      <th>volume</th>\n",
       "    </tr>\n",
       "    <tr>\n",
       "      <th>datetime</th>\n",
       "      <th></th>\n",
       "      <th></th>\n",
       "      <th></th>\n",
       "      <th></th>\n",
       "      <th></th>\n",
       "    </tr>\n",
       "  </thead>\n",
       "  <tbody>\n",
       "    <tr>\n",
       "      <th>2024-06-15</th>\n",
       "      <td>142.973</td>\n",
       "      <td>145.740</td>\n",
       "      <td>142.854</td>\n",
       "      <td>145.450</td>\n",
       "      <td>5510166.00</td>\n",
       "    </tr>\n",
       "    <tr>\n",
       "      <th>2024-06-16</th>\n",
       "      <td>145.450</td>\n",
       "      <td>151.347</td>\n",
       "      <td>143.020</td>\n",
       "      <td>151.245</td>\n",
       "      <td>7365593.00</td>\n",
       "    </tr>\n",
       "    <tr>\n",
       "      <th>2024-06-17</th>\n",
       "      <td>151.244</td>\n",
       "      <td>151.747</td>\n",
       "      <td>139.765</td>\n",
       "      <td>143.197</td>\n",
       "      <td>14392716.00</td>\n",
       "    </tr>\n",
       "    <tr>\n",
       "      <th>2024-06-18</th>\n",
       "      <td>143.197</td>\n",
       "      <td>143.749</td>\n",
       "      <td>127.000</td>\n",
       "      <td>137.359</td>\n",
       "      <td>25248935.00</td>\n",
       "    </tr>\n",
       "    <tr>\n",
       "      <th>2024-06-19</th>\n",
       "      <td>137.359</td>\n",
       "      <td>141.876</td>\n",
       "      <td>134.402</td>\n",
       "      <td>135.557</td>\n",
       "      <td>13715932.00</td>\n",
       "    </tr>\n",
       "    <tr>\n",
       "      <th>...</th>\n",
       "      <td>...</td>\n",
       "      <td>...</td>\n",
       "      <td>...</td>\n",
       "      <td>...</td>\n",
       "      <td>...</td>\n",
       "    </tr>\n",
       "    <tr>\n",
       "      <th>2025-05-30</th>\n",
       "      <td>166.610</td>\n",
       "      <td>167.410</td>\n",
       "      <td>155.010</td>\n",
       "      <td>156.120</td>\n",
       "      <td>25265495.15</td>\n",
       "    </tr>\n",
       "    <tr>\n",
       "      <th>2025-05-31</th>\n",
       "      <td>156.110</td>\n",
       "      <td>157.920</td>\n",
       "      <td>152.060</td>\n",
       "      <td>156.350</td>\n",
       "      <td>16603647.07</td>\n",
       "    </tr>\n",
       "    <tr>\n",
       "      <th>2025-06-01</th>\n",
       "      <td>156.360</td>\n",
       "      <td>157.850</td>\n",
       "      <td>150.480</td>\n",
       "      <td>157.620</td>\n",
       "      <td>15529303.58</td>\n",
       "    </tr>\n",
       "    <tr>\n",
       "      <th>2025-06-02</th>\n",
       "      <td>157.610</td>\n",
       "      <td>158.840</td>\n",
       "      <td>151.520</td>\n",
       "      <td>156.740</td>\n",
       "      <td>19012258.20</td>\n",
       "    </tr>\n",
       "    <tr>\n",
       "      <th>2025-06-03</th>\n",
       "      <td>156.750</td>\n",
       "      <td>163.570</td>\n",
       "      <td>154.000</td>\n",
       "      <td>155.080</td>\n",
       "      <td>21721022.99</td>\n",
       "    </tr>\n",
       "  </tbody>\n",
       "</table>\n",
       "<p>354 rows × 5 columns</p>\n",
       "</div>"
      ],
      "text/plain": [
       "               open     high      low    close       volume\n",
       "datetime                                                   \n",
       "2024-06-15  142.973  145.740  142.854  145.450   5510166.00\n",
       "2024-06-16  145.450  151.347  143.020  151.245   7365593.00\n",
       "2024-06-17  151.244  151.747  139.765  143.197  14392716.00\n",
       "2024-06-18  143.197  143.749  127.000  137.359  25248935.00\n",
       "2024-06-19  137.359  141.876  134.402  135.557  13715932.00\n",
       "...             ...      ...      ...      ...          ...\n",
       "2025-05-30  166.610  167.410  155.010  156.120  25265495.15\n",
       "2025-05-31  156.110  157.920  152.060  156.350  16603647.07\n",
       "2025-06-01  156.360  157.850  150.480  157.620  15529303.58\n",
       "2025-06-02  157.610  158.840  151.520  156.740  19012258.20\n",
       "2025-06-03  156.750  163.570  154.000  155.080  21721022.99\n",
       "\n",
       "[354 rows x 5 columns]"
      ]
     },
     "execution_count": 25,
     "metadata": {},
     "output_type": "execute_result"
    }
   ],
   "source": [
    "ohlc_dict = {                                                                                                             \n",
    "    'open': 'first',                                                                                                    \n",
    "    'high': 'max',                                                                                                       \n",
    "    'low': 'min',                                                                                                        \n",
    "    'close': 'last',                                                                                                    \n",
    "    'volume': 'sum',\n",
    "}\n",
    "\n",
    "data = data.resample('D', closed='left', label='left').apply(ohlc_dict)\n",
    "# data = pd.DatetimeIndex(data, freq='D')\n",
    "\n",
    "data.drop(data.tail(2).index, inplace=True)\n",
    "data = data.asfreq('D')\n",
    "data.dropna(inplace=True)\n",
    "\n",
    "\n",
    "data"
   ]
  },
  {
   "cell_type": "code",
   "execution_count": 26,
   "metadata": {},
   "outputs": [
    {
     "data": {
      "application/vnd.plotly.v1+json": {
       "config": {
        "plotlyServerURL": "https://plot.ly"
       },
       "data": [
        {
         "close": {
          "bdata": "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",
          "dtype": "f8"
         },
         "high": {
          "bdata": "SOF6FK43YkDJdr6fGutiQJZDi2zn92JAhxbZzvf3YUB56SYxCLxhQFyPwvUoqGFAMzMzMzPrYEB9PzVeuhVhQDVeukkM4mBASgwCK4eSYECBlUOLbHthQFyPwvUojGFAAAAAAADoYkBU46WbxNxiQD0K16Nw5WFA7nw/NV5yYkDpJjEIrKxiQOF6FK5HXWNA001iEFhNY0BSuB6F69VhQCPb+X5qDGFAAAAAAAAQYkDhehSuR+lhQMP1KFyPvmFAWmQ7308JYkDb+X5qvERiQIPAyqFFQmJAAAAAAACQYUCDwMqhRfJhQAAAAAAAkGJAMzMzMzP7Y0D8qfHSTU5kQMl2vp8ad2RA30+Nl24yZEAfhetRuJJlQJZDi2zn72VACtejcD0qZ0AUrkfheiBnQAAAAAAAkGZAAAAAAADQZkAAAAAAAHBmQAAAAAAAAGdAexSuR+GKZ0BiEFg5tFRnQH9qvHSTPGhA2/l+arwYZ0D8qfHSTRJnQHNoke18m2VAgZVDi2wrZUAdWmQ73z9jQHNoke18P2JA5dAi2/lqYUAAAAAAALBiQCPb+X5qXGNAEFg5tMh2ZEAdWmQ7329kQMP1KFyP1mNAZmZmZma+Y0AlBoGVQ9diQEa28/3UuGJAXI/C9SgEY0CF61G4HnViQFYOLbKdG2JAzczMzMy8YUAK16NwPW5iQGZmZmZmRmJAN4lBYOWYYkCamZmZmQliQNEi2/l+GmJAhxbZzvc/Y0BmZmZmZkpkQBSuR+F6PGRAAAAAAABAZECWQ4ts5/NjQFCNl24Sm2JAtMh2vp9qYkC28/3UeKFhQIXrUbgeZWFAx0s3iUEEYUDl0CLb+epgQAAAAAAAMGFAhetRuB7dYEAxCKwcWvBgQNejcD0Kx2BAzczMzMwsYECoxks3iXVgQDVeukkMImFA+n5qvHQ/YUCuR+F6FPpgQBBYObTIFmFA0SLb+X56YUCWQ4ts53dhQA4tsp3vO2FA16NwPQqLYEAAAAAAAPBgQKrx0k1izGBAAAAAAAAAYkAAAAAAABBjQM3MzMzMuGJAHVpkO9+7YkAAAAAAAKBiQO58PzVeQmNAsp3vp8Y7Y0AUrkfheshjQPCnxks3KWRAeekmMQjsY0AxCKwcWjhkQCuHFtnO92NA8KfGSzepY0DHSzeJQZxiQAAAAAAA3GFADi2yne8PYkB/arx0kxxiQCuHFtnOV2JAKVyPwvUIY0DpJjEIrDBiQIXrUbgeKWJAzczMzMycYUB1kxgEVk5iQGZmZmZmZmJASgwCK4eaYkAAAAAAAOBjQI/C9Shc/2NA7FG4HoXLY0BmZmZmZnZjQBSuR+F6lGNAKVyPwvX4Y0BmZmZmZv5kQPYoXI/CfWVAZmZmZmZeZUAK16NwPcplQJqZmZmZaWZAUrgehesxZkBmZmZmZqZlQNejcD0KR2ZAmpmZmZl5ZkB7FK5H4epmQBSuR+F6rGZAmpmZmZkRZkBI4XoUrr9lQArXo3A9EmVA4XoUrkfRZEDRItv5fp5kQGZmZmZmJmVA9ihcj8LFZ0CuR+F6FL5oQMP1KFyPqmlAUrgehetxaUAUrkfhevRqQDMzMzMzC2xArkfhehQ2bEBxPQrXo5hrQOF6FK5H4WtAmpmZmZmha0CF61G4HsVrQEjhehSuT25AhetRuB4Vb0AK16NwPfpuQMP1KFyPUm5AFK5H4XpEcEAK16NwPYpwQGZmZmZmhnBAPQrXo3BBcEBxPQrXoxBwQEjhehSu921APQrXo3BtbkBcj8L1KKxuQFyPwvUo3G5AexSuR+GybkBSuB6F6wFuQHsUrkfh0m1AUrgehev5bUAK16NwPSJuQKRwPQrXo25ACtejcD3qbkAUrkfhenxuQLgehetROG5AAAAAAACwbUBxPQrXo6BrQM3MzMzM1GxAhetRuB5VbUDNzMzMzIxsQM3MzMzMbGxAuB6F61EwbECF61G4Hm1sQM3MzMzMnGxASOF6FK4/bEBI4XoUrn9qQOxRuB6F82hArkfhehQ+aUBxPQrXo3hnQFyPwvUoLGhAzczMzMzcaEBxPQrXozhpQFyPwvUo9GhA4XoUrkdJaECPwvUoXH9oQPYoXI/CtWhAzczMzMyMaECF61G4HuVoQOF6FK5HaWhA16NwPQpPakCuR+F6FHZrQMP1KFyPQmtAj8L1KFxfa0AUrkfheuRrQOF6FK5HYWtAZmZmZmZmaUCPwvUoXN9oQPYoXI/CHWhACtejcD36Z0CPwvUoXN9nQK5H4XoU/mdAw/UoXI/CZ0CuR+F6FL5pQBSuR+F6JGtAexSuR+HCa0AzMzMzM+twQJqZmZmZeXJAAAAAAAAQcUAK16NwPT5wQM3MzMzMAHFArkfhehQmcED2KFyPwuFwQFyPwvUoTHBApHA9Ctc/cEApXI/C9VBuQHE9CtejeG5AexSuR+HSbUB7FK5H4ZJuQJqZmZmZOW5AcT0K16NAbUAfhetRuFZrQD0K16NwTWtAFK5H4Xp8a0C4HoXrUShqQOxRuB6Fe2lAUrgehetpaUAAAAAAABhpQLgehetR6GlAzczMzMwcakAK16NwPcJpQEjhehSuz2hAzczMzMzMaECamZmZmalpQB+F61G4BmlA9ihcj8KFaEDsUbgehbNnQEjhehSuX2ZASOF6FK7HZUB7FK5H4RJmQI/C9Shcj2ZAPQrXo3DVZUBI4XoUrp9lQMP1KFyPMmVAAAAAAABgYkCF61G4HiViQJqZmZmZ2WFArkfhehSWYkDNzMzMzORiQAAAAAAAgGZArkfhehRuZkCamZmZmVliQIXrUbgetWJAMzMzMzMbY0DsUbgehdtiQEjhehSun2FA4XoUrkd5YUAAAAAAAHBgQOxRuB6FC2BAuB6F61FoYEDhehSuRxlgQArXo3A9AmFA16NwPQoPYUD2KFyPwhVhQFK4HoXrUWBAMzMzMzMDYEBSuB6F6wFhQMP1KFyPAmFAXI/C9ShMYEBxPQrXo3hgQEjhehSuv2BAzczMzMwcYkCF61G4Hm1iQIXrUbgeLWJAFK5H4XqEYUCPwvUoXF9hQGZmZmZmTmBAcT0K16PAX0CkcD0K1/NfQBSuR+F6TGBAZmZmZmYGYUApXI/C9TheQD0K16Nw/V5AMzMzMzOzXkCF61G4HkVeQOxRuB6FS1xAAAAAAAAgXEBcj8L1KCxeQMP1KFyP0l1AmpmZmZmpXkAAAAAAAMBgQK5H4XoUvmBAexSuR+ECYUCF61G4Hs1gQFyPwvUovGBAuB6F61EIYUBmZmZmZv5gQB+F61G4lmFApHA9Cte7YUAAAAAAAOhhQOF6FK5HyWJAFK5H4XpEY0AfhetRuB5jQEjhehSup2NAzczMzMwkY0CkcD0K18tiQDMzMzMzK2NApHA9CtfLYkAUrkfhepRiQFyPwvUoPGNA7FG4HoX7YkAAAAAAAKBiQOF6FK5HeWJAPQrXo3B1YkA9CtejcGViQNejcD0Kr2JA7FG4HoWTZECF61G4HgVmQPYoXI/CXWZA4XoUrkeJZkCuR+F6FK5mQJqZmZmZGWdApHA9CtcbZ0CPwvUoXEdmQIXrUbgexWVAZmZmZmY+ZUCPwvUoXBdmQKRwPQrXu2VAUrgeheuhZUA9CtejcP1lQArXo3A9mmZAPQrXo3B1Z0DXo3A9CkdmQArXo3A9GmZAH4XrUbheZkCkcD0K12tmQFyPwvUoLGZAKVyPwvXoZUCF61G4Hu1kQD0K16NwvWNAMzMzMzO7Y0B7FK5H4dpjQArXo3A9cmRA",
          "dtype": "f8"
         },
         "low": {
          "bdata": "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",
          "dtype": "f8"
         },
         "name": "Candle",
         "open": {
          "bdata": "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",
          "dtype": "f8"
         },
         "type": "candlestick",
         "x": [
          "2024-06-15T00:00:00.000000000",
          "2024-06-16T00:00:00.000000000",
          "2024-06-17T00:00:00.000000000",
          "2024-06-18T00:00:00.000000000",
          "2024-06-19T00:00:00.000000000",
          "2024-06-20T00:00:00.000000000",
          "2024-06-21T00:00:00.000000000",
          "2024-06-22T00:00:00.000000000",
          "2024-06-23T00:00:00.000000000",
          "2024-06-24T00:00:00.000000000",
          "2024-06-25T00:00:00.000000000",
          "2024-06-26T00:00:00.000000000",
          "2024-06-27T00:00:00.000000000",
          "2024-06-28T00:00:00.000000000",
          "2024-06-29T00:00:00.000000000",
          "2024-06-30T00:00:00.000000000",
          "2024-07-01T00:00:00.000000000",
          "2024-07-02T00:00:00.000000000",
          "2024-07-03T00:00:00.000000000",
          "2024-07-04T00:00:00.000000000",
          "2024-07-05T00:00:00.000000000",
          "2024-07-06T00:00:00.000000000",
          "2024-07-07T00:00:00.000000000",
          "2024-07-08T00:00:00.000000000",
          "2024-07-09T00:00:00.000000000",
          "2024-07-10T00:00:00.000000000",
          "2024-07-11T00:00:00.000000000",
          "2024-07-12T00:00:00.000000000",
          "2024-07-13T00:00:00.000000000",
          "2024-07-14T00:00:00.000000000",
          "2024-07-15T00:00:00.000000000",
          "2024-07-16T00:00:00.000000000",
          "2024-07-17T00:00:00.000000000",
          "2024-07-18T00:00:00.000000000",
          "2024-07-19T00:00:00.000000000",
          "2024-07-20T00:00:00.000000000",
          "2024-07-21T00:00:00.000000000",
          "2024-07-22T00:00:00.000000000",
          "2024-07-23T00:00:00.000000000",
          "2024-07-24T00:00:00.000000000",
          "2024-07-25T00:00:00.000000000",
          "2024-07-26T00:00:00.000000000",
          "2024-07-27T00:00:00.000000000",
          "2024-07-28T00:00:00.000000000",
          "2024-07-29T00:00:00.000000000",
          "2024-07-30T00:00:00.000000000",
          "2024-07-31T00:00:00.000000000",
          "2024-08-01T00:00:00.000000000",
          "2024-08-02T00:00:00.000000000",
          "2024-08-03T00:00:00.000000000",
          "2024-08-04T00:00:00.000000000",
          "2024-08-05T00:00:00.000000000",
          "2024-08-06T00:00:00.000000000",
          "2024-08-07T00:00:00.000000000",
          "2024-08-08T00:00:00.000000000",
          "2024-08-09T00:00:00.000000000",
          "2024-08-10T00:00:00.000000000",
          "2024-08-11T00:00:00.000000000",
          "2024-08-12T00:00:00.000000000",
          "2024-08-13T00:00:00.000000000",
          "2024-08-14T00:00:00.000000000",
          "2024-08-15T00:00:00.000000000",
          "2024-08-16T00:00:00.000000000",
          "2024-08-17T00:00:00.000000000",
          "2024-08-18T00:00:00.000000000",
          "2024-08-19T00:00:00.000000000",
          "2024-08-20T00:00:00.000000000",
          "2024-08-21T00:00:00.000000000",
          "2024-08-22T00:00:00.000000000",
          "2024-08-23T00:00:00.000000000",
          "2024-08-24T00:00:00.000000000",
          "2024-08-25T00:00:00.000000000",
          "2024-08-26T00:00:00.000000000",
          "2024-08-27T00:00:00.000000000",
          "2024-08-28T00:00:00.000000000",
          "2024-08-29T00:00:00.000000000",
          "2024-08-30T00:00:00.000000000",
          "2024-08-31T00:00:00.000000000",
          "2024-09-01T00:00:00.000000000",
          "2024-09-02T00:00:00.000000000",
          "2024-09-03T00:00:00.000000000",
          "2024-09-04T00:00:00.000000000",
          "2024-09-05T00:00:00.000000000",
          "2024-09-06T00:00:00.000000000",
          "2024-09-07T00:00:00.000000000",
          "2024-09-08T00:00:00.000000000",
          "2024-09-09T00:00:00.000000000",
          "2024-09-10T00:00:00.000000000",
          "2024-09-11T00:00:00.000000000",
          "2024-09-12T00:00:00.000000000",
          "2024-09-13T00:00:00.000000000",
          "2024-09-14T00:00:00.000000000",
          "2024-09-15T00:00:00.000000000",
          "2024-09-16T00:00:00.000000000",
          "2024-09-17T00:00:00.000000000",
          "2024-09-18T00:00:00.000000000",
          "2024-09-19T00:00:00.000000000",
          "2024-09-20T00:00:00.000000000",
          "2024-09-21T00:00:00.000000000",
          "2024-09-22T00:00:00.000000000",
          "2024-09-23T00:00:00.000000000",
          "2024-09-24T00:00:00.000000000",
          "2024-09-25T00:00:00.000000000",
          "2024-09-26T00:00:00.000000000",
          "2024-09-27T00:00:00.000000000",
          "2024-09-28T00:00:00.000000000",
          "2024-09-29T00:00:00.000000000",
          "2024-09-30T00:00:00.000000000",
          "2024-10-01T00:00:00.000000000",
          "2024-10-02T00:00:00.000000000",
          "2024-10-03T00:00:00.000000000",
          "2024-10-04T00:00:00.000000000",
          "2024-10-05T00:00:00.000000000",
          "2024-10-06T00:00:00.000000000",
          "2024-10-07T00:00:00.000000000",
          "2024-10-08T00:00:00.000000000",
          "2024-10-09T00:00:00.000000000",
          "2024-10-10T00:00:00.000000000",
          "2024-10-11T00:00:00.000000000",
          "2024-10-12T00:00:00.000000000",
          "2024-10-13T00:00:00.000000000",
          "2024-10-14T00:00:00.000000000",
          "2024-10-15T00:00:00.000000000",
          "2024-10-16T00:00:00.000000000",
          "2024-10-17T00:00:00.000000000",
          "2024-10-18T00:00:00.000000000",
          "2024-10-19T00:00:00.000000000",
          "2024-10-20T00:00:00.000000000",
          "2024-10-21T00:00:00.000000000",
          "2024-10-22T00:00:00.000000000",
          "2024-10-23T00:00:00.000000000",
          "2024-10-24T00:00:00.000000000",
          "2024-10-25T00:00:00.000000000",
          "2024-10-26T00:00:00.000000000",
          "2024-10-27T00:00:00.000000000",
          "2024-10-28T00:00:00.000000000",
          "2024-10-29T00:00:00.000000000",
          "2024-10-30T00:00:00.000000000",
          "2024-10-31T00:00:00.000000000",
          "2024-11-01T00:00:00.000000000",
          "2024-11-02T00:00:00.000000000",
          "2024-11-03T00:00:00.000000000",
          "2024-11-04T00:00:00.000000000",
          "2024-11-05T00:00:00.000000000",
          "2024-11-06T00:00:00.000000000",
          "2024-11-07T00:00:00.000000000",
          "2024-11-08T00:00:00.000000000",
          "2024-11-09T00:00:00.000000000",
          "2024-11-10T00:00:00.000000000",
          "2024-11-11T00:00:00.000000000",
          "2024-11-12T00:00:00.000000000",
          "2024-11-13T00:00:00.000000000",
          "2024-11-14T00:00:00.000000000",
          "2024-11-15T00:00:00.000000000",
          "2024-11-16T00:00:00.000000000",
          "2024-11-17T00:00:00.000000000",
          "2024-11-18T00:00:00.000000000",
          "2024-11-19T00:00:00.000000000",
          "2024-11-20T00:00:00.000000000",
          "2024-11-21T00:00:00.000000000",
          "2024-11-22T00:00:00.000000000",
          "2024-11-23T00:00:00.000000000",
          "2024-11-24T00:00:00.000000000",
          "2024-11-25T00:00:00.000000000",
          "2024-11-26T00:00:00.000000000",
          "2024-11-27T00:00:00.000000000",
          "2024-11-28T00:00:00.000000000",
          "2024-11-29T00:00:00.000000000",
          "2024-11-30T00:00:00.000000000",
          "2024-12-01T00:00:00.000000000",
          "2024-12-02T00:00:00.000000000",
          "2024-12-03T00:00:00.000000000",
          "2024-12-04T00:00:00.000000000",
          "2024-12-05T00:00:00.000000000",
          "2024-12-06T00:00:00.000000000",
          "2024-12-07T00:00:00.000000000",
          "2024-12-08T00:00:00.000000000",
          "2024-12-09T00:00:00.000000000",
          "2024-12-10T00:00:00.000000000",
          "2024-12-11T00:00:00.000000000",
          "2024-12-12T00:00:00.000000000",
          "2024-12-13T00:00:00.000000000",
          "2024-12-14T00:00:00.000000000",
          "2024-12-15T00:00:00.000000000",
          "2024-12-16T00:00:00.000000000",
          "2024-12-17T00:00:00.000000000",
          "2024-12-18T00:00:00.000000000",
          "2024-12-19T00:00:00.000000000",
          "2024-12-20T00:00:00.000000000",
          "2024-12-21T00:00:00.000000000",
          "2024-12-22T00:00:00.000000000",
          "2024-12-23T00:00:00.000000000",
          "2024-12-24T00:00:00.000000000",
          "2024-12-25T00:00:00.000000000",
          "2024-12-26T00:00:00.000000000",
          "2024-12-27T00:00:00.000000000",
          "2024-12-28T00:00:00.000000000",
          "2024-12-29T00:00:00.000000000",
          "2024-12-30T00:00:00.000000000",
          "2024-12-31T00:00:00.000000000",
          "2025-01-01T00:00:00.000000000",
          "2025-01-02T00:00:00.000000000",
          "2025-01-03T00:00:00.000000000",
          "2025-01-04T00:00:00.000000000",
          "2025-01-05T00:00:00.000000000",
          "2025-01-06T00:00:00.000000000",
          "2025-01-07T00:00:00.000000000",
          "2025-01-08T00:00:00.000000000",
          "2025-01-09T00:00:00.000000000",
          "2025-01-10T00:00:00.000000000",
          "2025-01-11T00:00:00.000000000",
          "2025-01-12T00:00:00.000000000",
          "2025-01-13T00:00:00.000000000",
          "2025-01-14T00:00:00.000000000",
          "2025-01-15T00:00:00.000000000",
          "2025-01-16T00:00:00.000000000",
          "2025-01-17T00:00:00.000000000",
          "2025-01-18T00:00:00.000000000",
          "2025-01-19T00:00:00.000000000",
          "2025-01-20T00:00:00.000000000",
          "2025-01-21T00:00:00.000000000",
          "2025-01-22T00:00:00.000000000",
          "2025-01-23T00:00:00.000000000",
          "2025-01-24T00:00:00.000000000",
          "2025-01-25T00:00:00.000000000",
          "2025-01-26T00:00:00.000000000",
          "2025-01-27T00:00:00.000000000",
          "2025-01-28T00:00:00.000000000",
          "2025-01-29T00:00:00.000000000",
          "2025-01-30T00:00:00.000000000",
          "2025-01-31T00:00:00.000000000",
          "2025-02-01T00:00:00.000000000",
          "2025-02-02T00:00:00.000000000",
          "2025-02-03T00:00:00.000000000",
          "2025-02-04T00:00:00.000000000",
          "2025-02-05T00:00:00.000000000",
          "2025-02-06T00:00:00.000000000",
          "2025-02-07T00:00:00.000000000",
          "2025-02-08T00:00:00.000000000",
          "2025-02-09T00:00:00.000000000",
          "2025-02-10T00:00:00.000000000",
          "2025-02-11T00:00:00.000000000",
          "2025-02-12T00:00:00.000000000",
          "2025-02-13T00:00:00.000000000",
          "2025-02-14T00:00:00.000000000",
          "2025-02-15T00:00:00.000000000",
          "2025-02-16T00:00:00.000000000",
          "2025-02-17T00:00:00.000000000",
          "2025-02-18T00:00:00.000000000",
          "2025-02-19T00:00:00.000000000",
          "2025-02-20T00:00:00.000000000",
          "2025-02-21T00:00:00.000000000",
          "2025-02-22T00:00:00.000000000",
          "2025-02-23T00:00:00.000000000",
          "2025-02-24T00:00:00.000000000",
          "2025-02-25T00:00:00.000000000",
          "2025-02-26T00:00:00.000000000",
          "2025-02-27T00:00:00.000000000",
          "2025-02-28T00:00:00.000000000",
          "2025-03-01T00:00:00.000000000",
          "2025-03-02T00:00:00.000000000",
          "2025-03-03T00:00:00.000000000",
          "2025-03-04T00:00:00.000000000",
          "2025-03-05T00:00:00.000000000",
          "2025-03-06T00:00:00.000000000",
          "2025-03-07T00:00:00.000000000",
          "2025-03-08T00:00:00.000000000",
          "2025-03-09T00:00:00.000000000",
          "2025-03-10T00:00:00.000000000",
          "2025-03-11T00:00:00.000000000",
          "2025-03-12T00:00:00.000000000",
          "2025-03-13T00:00:00.000000000",
          "2025-03-14T00:00:00.000000000",
          "2025-03-15T00:00:00.000000000",
          "2025-03-16T00:00:00.000000000",
          "2025-03-17T00:00:00.000000000",
          "2025-03-18T00:00:00.000000000",
          "2025-03-19T00:00:00.000000000",
          "2025-03-20T00:00:00.000000000",
          "2025-03-21T00:00:00.000000000",
          "2025-03-22T00:00:00.000000000",
          "2025-03-23T00:00:00.000000000",
          "2025-03-24T00:00:00.000000000",
          "2025-03-25T00:00:00.000000000",
          "2025-03-26T00:00:00.000000000",
          "2025-03-27T00:00:00.000000000",
          "2025-03-28T00:00:00.000000000",
          "2025-03-29T00:00:00.000000000",
          "2025-03-30T00:00:00.000000000",
          "2025-03-31T00:00:00.000000000",
          "2025-04-01T00:00:00.000000000",
          "2025-04-02T00:00:00.000000000",
          "2025-04-03T00:00:00.000000000",
          "2025-04-04T00:00:00.000000000",
          "2025-04-05T00:00:00.000000000",
          "2025-04-06T00:00:00.000000000",
          "2025-04-07T00:00:00.000000000",
          "2025-04-08T00:00:00.000000000",
          "2025-04-09T00:00:00.000000000",
          "2025-04-10T00:00:00.000000000",
          "2025-04-11T00:00:00.000000000",
          "2025-04-12T00:00:00.000000000",
          "2025-04-13T00:00:00.000000000",
          "2025-04-14T00:00:00.000000000",
          "2025-04-15T00:00:00.000000000",
          "2025-04-16T00:00:00.000000000",
          "2025-04-17T00:00:00.000000000",
          "2025-04-18T00:00:00.000000000",
          "2025-04-19T00:00:00.000000000",
          "2025-04-20T00:00:00.000000000",
          "2025-04-21T00:00:00.000000000",
          "2025-04-22T00:00:00.000000000",
          "2025-04-23T00:00:00.000000000",
          "2025-04-24T00:00:00.000000000",
          "2025-04-25T00:00:00.000000000",
          "2025-04-26T00:00:00.000000000",
          "2025-04-27T00:00:00.000000000",
          "2025-04-28T00:00:00.000000000",
          "2025-04-29T00:00:00.000000000",
          "2025-04-30T00:00:00.000000000",
          "2025-05-01T00:00:00.000000000",
          "2025-05-02T00:00:00.000000000",
          "2025-05-03T00:00:00.000000000",
          "2025-05-04T00:00:00.000000000",
          "2025-05-05T00:00:00.000000000",
          "2025-05-06T00:00:00.000000000",
          "2025-05-07T00:00:00.000000000",
          "2025-05-08T00:00:00.000000000",
          "2025-05-09T00:00:00.000000000",
          "2025-05-10T00:00:00.000000000",
          "2025-05-11T00:00:00.000000000",
          "2025-05-12T00:00:00.000000000",
          "2025-05-13T00:00:00.000000000",
          "2025-05-14T00:00:00.000000000",
          "2025-05-15T00:00:00.000000000",
          "2025-05-16T00:00:00.000000000",
          "2025-05-17T00:00:00.000000000",
          "2025-05-18T00:00:00.000000000",
          "2025-05-19T00:00:00.000000000",
          "2025-05-20T00:00:00.000000000",
          "2025-05-21T00:00:00.000000000",
          "2025-05-22T00:00:00.000000000",
          "2025-05-23T00:00:00.000000000",
          "2025-05-24T00:00:00.000000000",
          "2025-05-25T00:00:00.000000000",
          "2025-05-26T00:00:00.000000000",
          "2025-05-27T00:00:00.000000000",
          "2025-05-28T00:00:00.000000000",
          "2025-05-29T00:00:00.000000000",
          "2025-05-30T00:00:00.000000000",
          "2025-05-31T00:00:00.000000000",
          "2025-06-01T00:00:00.000000000",
          "2025-06-02T00:00:00.000000000",
          "2025-06-03T00:00:00.000000000"
         ],
         "xaxis": "x",
         "yaxis": "y2"
        },
        {
         "marker": {
          "color": "gray"
         },
         "name": "Volume",
         "opacity": 0.5,
         "type": "bar",
         "x": [
          "2024-06-15T00:00:00.000000000",
          "2024-06-16T00:00:00.000000000",
          "2024-06-17T00:00:00.000000000",
          "2024-06-18T00:00:00.000000000",
          "2024-06-19T00:00:00.000000000",
          "2024-06-20T00:00:00.000000000",
          "2024-06-21T00:00:00.000000000",
          "2024-06-22T00:00:00.000000000",
          "2024-06-23T00:00:00.000000000",
          "2024-06-24T00:00:00.000000000",
          "2024-06-25T00:00:00.000000000",
          "2024-06-26T00:00:00.000000000",
          "2024-06-27T00:00:00.000000000",
          "2024-06-28T00:00:00.000000000",
          "2024-06-29T00:00:00.000000000",
          "2024-06-30T00:00:00.000000000",
          "2024-07-01T00:00:00.000000000",
          "2024-07-02T00:00:00.000000000",
          "2024-07-03T00:00:00.000000000",
          "2024-07-04T00:00:00.000000000",
          "2024-07-05T00:00:00.000000000",
          "2024-07-06T00:00:00.000000000",
          "2024-07-07T00:00:00.000000000",
          "2024-07-08T00:00:00.000000000",
          "2024-07-09T00:00:00.000000000",
          "2024-07-10T00:00:00.000000000",
          "2024-07-11T00:00:00.000000000",
          "2024-07-12T00:00:00.000000000",
          "2024-07-13T00:00:00.000000000",
          "2024-07-14T00:00:00.000000000",
          "2024-07-15T00:00:00.000000000",
          "2024-07-16T00:00:00.000000000",
          "2024-07-17T00:00:00.000000000",
          "2024-07-18T00:00:00.000000000",
          "2024-07-19T00:00:00.000000000",
          "2024-07-20T00:00:00.000000000",
          "2024-07-21T00:00:00.000000000",
          "2024-07-22T00:00:00.000000000",
          "2024-07-23T00:00:00.000000000",
          "2024-07-24T00:00:00.000000000",
          "2024-07-25T00:00:00.000000000",
          "2024-07-26T00:00:00.000000000",
          "2024-07-27T00:00:00.000000000",
          "2024-07-28T00:00:00.000000000",
          "2024-07-29T00:00:00.000000000",
          "2024-07-30T00:00:00.000000000",
          "2024-07-31T00:00:00.000000000",
          "2024-08-01T00:00:00.000000000",
          "2024-08-02T00:00:00.000000000",
          "2024-08-03T00:00:00.000000000",
          "2024-08-04T00:00:00.000000000",
          "2024-08-05T00:00:00.000000000",
          "2024-08-06T00:00:00.000000000",
          "2024-08-07T00:00:00.000000000",
          "2024-08-08T00:00:00.000000000",
          "2024-08-09T00:00:00.000000000",
          "2024-08-10T00:00:00.000000000",
          "2024-08-11T00:00:00.000000000",
          "2024-08-12T00:00:00.000000000",
          "2024-08-13T00:00:00.000000000",
          "2024-08-14T00:00:00.000000000",
          "2024-08-15T00:00:00.000000000",
          "2024-08-16T00:00:00.000000000",
          "2024-08-17T00:00:00.000000000",
          "2024-08-18T00:00:00.000000000",
          "2024-08-19T00:00:00.000000000",
          "2024-08-20T00:00:00.000000000",
          "2024-08-21T00:00:00.000000000",
          "2024-08-22T00:00:00.000000000",
          "2024-08-23T00:00:00.000000000",
          "2024-08-24T00:00:00.000000000",
          "2024-08-25T00:00:00.000000000",
          "2024-08-26T00:00:00.000000000",
          "2024-08-27T00:00:00.000000000",
          "2024-08-28T00:00:00.000000000",
          "2024-08-29T00:00:00.000000000",
          "2024-08-30T00:00:00.000000000",
          "2024-08-31T00:00:00.000000000",
          "2024-09-01T00:00:00.000000000",
          "2024-09-02T00:00:00.000000000",
          "2024-09-03T00:00:00.000000000",
          "2024-09-04T00:00:00.000000000",
          "2024-09-05T00:00:00.000000000",
          "2024-09-06T00:00:00.000000000",
          "2024-09-07T00:00:00.000000000",
          "2024-09-08T00:00:00.000000000",
          "2024-09-09T00:00:00.000000000",
          "2024-09-10T00:00:00.000000000",
          "2024-09-11T00:00:00.000000000",
          "2024-09-12T00:00:00.000000000",
          "2024-09-13T00:00:00.000000000",
          "2024-09-14T00:00:00.000000000",
          "2024-09-15T00:00:00.000000000",
          "2024-09-16T00:00:00.000000000",
          "2024-09-17T00:00:00.000000000",
          "2024-09-18T00:00:00.000000000",
          "2024-09-19T00:00:00.000000000",
          "2024-09-20T00:00:00.000000000",
          "2024-09-21T00:00:00.000000000",
          "2024-09-22T00:00:00.000000000",
          "2024-09-23T00:00:00.000000000",
          "2024-09-24T00:00:00.000000000",
          "2024-09-25T00:00:00.000000000",
          "2024-09-26T00:00:00.000000000",
          "2024-09-27T00:00:00.000000000",
          "2024-09-28T00:00:00.000000000",
          "2024-09-29T00:00:00.000000000",
          "2024-09-30T00:00:00.000000000",
          "2024-10-01T00:00:00.000000000",
          "2024-10-02T00:00:00.000000000",
          "2024-10-03T00:00:00.000000000",
          "2024-10-04T00:00:00.000000000",
          "2024-10-05T00:00:00.000000000",
          "2024-10-06T00:00:00.000000000",
          "2024-10-07T00:00:00.000000000",
          "2024-10-08T00:00:00.000000000",
          "2024-10-09T00:00:00.000000000",
          "2024-10-10T00:00:00.000000000",
          "2024-10-11T00:00:00.000000000",
          "2024-10-12T00:00:00.000000000",
          "2024-10-13T00:00:00.000000000",
          "2024-10-14T00:00:00.000000000",
          "2024-10-15T00:00:00.000000000",
          "2024-10-16T00:00:00.000000000",
          "2024-10-17T00:00:00.000000000",
          "2024-10-18T00:00:00.000000000",
          "2024-10-19T00:00:00.000000000",
          "2024-10-20T00:00:00.000000000",
          "2024-10-21T00:00:00.000000000",
          "2024-10-22T00:00:00.000000000",
          "2024-10-23T00:00:00.000000000",
          "2024-10-24T00:00:00.000000000",
          "2024-10-25T00:00:00.000000000",
          "2024-10-26T00:00:00.000000000",
          "2024-10-27T00:00:00.000000000",
          "2024-10-28T00:00:00.000000000",
          "2024-10-29T00:00:00.000000000",
          "2024-10-30T00:00:00.000000000",
          "2024-10-31T00:00:00.000000000",
          "2024-11-01T00:00:00.000000000",
          "2024-11-02T00:00:00.000000000",
          "2024-11-03T00:00:00.000000000",
          "2024-11-04T00:00:00.000000000",
          "2024-11-05T00:00:00.000000000",
          "2024-11-06T00:00:00.000000000",
          "2024-11-07T00:00:00.000000000",
          "2024-11-08T00:00:00.000000000",
          "2024-11-09T00:00:00.000000000",
          "2024-11-10T00:00:00.000000000",
          "2024-11-11T00:00:00.000000000",
          "2024-11-12T00:00:00.000000000",
          "2024-11-13T00:00:00.000000000",
          "2024-11-14T00:00:00.000000000",
          "2024-11-15T00:00:00.000000000",
          "2024-11-16T00:00:00.000000000",
          "2024-11-17T00:00:00.000000000",
          "2024-11-18T00:00:00.000000000",
          "2024-11-19T00:00:00.000000000",
          "2024-11-20T00:00:00.000000000",
          "2024-11-21T00:00:00.000000000",
          "2024-11-22T00:00:00.000000000",
          "2024-11-23T00:00:00.000000000",
          "2024-11-24T00:00:00.000000000",
          "2024-11-25T00:00:00.000000000",
          "2024-11-26T00:00:00.000000000",
          "2024-11-27T00:00:00.000000000",
          "2024-11-28T00:00:00.000000000",
          "2024-11-29T00:00:00.000000000",
          "2024-11-30T00:00:00.000000000",
          "2024-12-01T00:00:00.000000000",
          "2024-12-02T00:00:00.000000000",
          "2024-12-03T00:00:00.000000000",
          "2024-12-04T00:00:00.000000000",
          "2024-12-05T00:00:00.000000000",
          "2024-12-06T00:00:00.000000000",
          "2024-12-07T00:00:00.000000000",
          "2024-12-08T00:00:00.000000000",
          "2024-12-09T00:00:00.000000000",
          "2024-12-10T00:00:00.000000000",
          "2024-12-11T00:00:00.000000000",
          "2024-12-12T00:00:00.000000000",
          "2024-12-13T00:00:00.000000000",
          "2024-12-14T00:00:00.000000000",
          "2024-12-15T00:00:00.000000000",
          "2024-12-16T00:00:00.000000000",
          "2024-12-17T00:00:00.000000000",
          "2024-12-18T00:00:00.000000000",
          "2024-12-19T00:00:00.000000000",
          "2024-12-20T00:00:00.000000000",
          "2024-12-21T00:00:00.000000000",
          "2024-12-22T00:00:00.000000000",
          "2024-12-23T00:00:00.000000000",
          "2024-12-24T00:00:00.000000000",
          "2024-12-25T00:00:00.000000000",
          "2024-12-26T00:00:00.000000000",
          "2024-12-27T00:00:00.000000000",
          "2024-12-28T00:00:00.000000000",
          "2024-12-29T00:00:00.000000000",
          "2024-12-30T00:00:00.000000000",
          "2024-12-31T00:00:00.000000000",
          "2025-01-01T00:00:00.000000000",
          "2025-01-02T00:00:00.000000000",
          "2025-01-03T00:00:00.000000000",
          "2025-01-04T00:00:00.000000000",
          "2025-01-05T00:00:00.000000000",
          "2025-01-06T00:00:00.000000000",
          "2025-01-07T00:00:00.000000000",
          "2025-01-08T00:00:00.000000000",
          "2025-01-09T00:00:00.000000000",
          "2025-01-10T00:00:00.000000000",
          "2025-01-11T00:00:00.000000000",
          "2025-01-12T00:00:00.000000000",
          "2025-01-13T00:00:00.000000000",
          "2025-01-14T00:00:00.000000000",
          "2025-01-15T00:00:00.000000000",
          "2025-01-16T00:00:00.000000000",
          "2025-01-17T00:00:00.000000000",
          "2025-01-18T00:00:00.000000000",
          "2025-01-19T00:00:00.000000000",
          "2025-01-20T00:00:00.000000000",
          "2025-01-21T00:00:00.000000000",
          "2025-01-22T00:00:00.000000000",
          "2025-01-23T00:00:00.000000000",
          "2025-01-24T00:00:00.000000000",
          "2025-01-25T00:00:00.000000000",
          "2025-01-26T00:00:00.000000000",
          "2025-01-27T00:00:00.000000000",
          "2025-01-28T00:00:00.000000000",
          "2025-01-29T00:00:00.000000000",
          "2025-01-30T00:00:00.000000000",
          "2025-01-31T00:00:00.000000000",
          "2025-02-01T00:00:00.000000000",
          "2025-02-02T00:00:00.000000000",
          "2025-02-03T00:00:00.000000000",
          "2025-02-04T00:00:00.000000000",
          "2025-02-05T00:00:00.000000000",
          "2025-02-06T00:00:00.000000000",
          "2025-02-07T00:00:00.000000000",
          "2025-02-08T00:00:00.000000000",
          "2025-02-09T00:00:00.000000000",
          "2025-02-10T00:00:00.000000000",
          "2025-02-11T00:00:00.000000000",
          "2025-02-12T00:00:00.000000000",
          "2025-02-13T00:00:00.000000000",
          "2025-02-14T00:00:00.000000000",
          "2025-02-15T00:00:00.000000000",
          "2025-02-16T00:00:00.000000000",
          "2025-02-17T00:00:00.000000000",
          "2025-02-18T00:00:00.000000000",
          "2025-02-19T00:00:00.000000000",
          "2025-02-20T00:00:00.000000000",
          "2025-02-21T00:00:00.000000000",
          "2025-02-22T00:00:00.000000000",
          "2025-02-23T00:00:00.000000000",
          "2025-02-24T00:00:00.000000000",
          "2025-02-25T00:00:00.000000000",
          "2025-02-26T00:00:00.000000000",
          "2025-02-27T00:00:00.000000000",
          "2025-02-28T00:00:00.000000000",
          "2025-03-01T00:00:00.000000000",
          "2025-03-02T00:00:00.000000000",
          "2025-03-03T00:00:00.000000000",
          "2025-03-04T00:00:00.000000000",
          "2025-03-05T00:00:00.000000000",
          "2025-03-06T00:00:00.000000000",
          "2025-03-07T00:00:00.000000000",
          "2025-03-08T00:00:00.000000000",
          "2025-03-09T00:00:00.000000000",
          "2025-03-10T00:00:00.000000000",
          "2025-03-11T00:00:00.000000000",
          "2025-03-12T00:00:00.000000000",
          "2025-03-13T00:00:00.000000000",
          "2025-03-14T00:00:00.000000000",
          "2025-03-15T00:00:00.000000000",
          "2025-03-16T00:00:00.000000000",
          "2025-03-17T00:00:00.000000000",
          "2025-03-18T00:00:00.000000000",
          "2025-03-19T00:00:00.000000000",
          "2025-03-20T00:00:00.000000000",
          "2025-03-21T00:00:00.000000000",
          "2025-03-22T00:00:00.000000000",
          "2025-03-23T00:00:00.000000000",
          "2025-03-24T00:00:00.000000000",
          "2025-03-25T00:00:00.000000000",
          "2025-03-26T00:00:00.000000000",
          "2025-03-27T00:00:00.000000000",
          "2025-03-28T00:00:00.000000000",
          "2025-03-29T00:00:00.000000000",
          "2025-03-30T00:00:00.000000000",
          "2025-03-31T00:00:00.000000000",
          "2025-04-01T00:00:00.000000000",
          "2025-04-02T00:00:00.000000000",
          "2025-04-03T00:00:00.000000000",
          "2025-04-04T00:00:00.000000000",
          "2025-04-05T00:00:00.000000000",
          "2025-04-06T00:00:00.000000000",
          "2025-04-07T00:00:00.000000000",
          "2025-04-08T00:00:00.000000000",
          "2025-04-09T00:00:00.000000000",
          "2025-04-10T00:00:00.000000000",
          "2025-04-11T00:00:00.000000000",
          "2025-04-12T00:00:00.000000000",
          "2025-04-13T00:00:00.000000000",
          "2025-04-14T00:00:00.000000000",
          "2025-04-15T00:00:00.000000000",
          "2025-04-16T00:00:00.000000000",
          "2025-04-17T00:00:00.000000000",
          "2025-04-18T00:00:00.000000000",
          "2025-04-19T00:00:00.000000000",
          "2025-04-20T00:00:00.000000000",
          "2025-04-21T00:00:00.000000000",
          "2025-04-22T00:00:00.000000000",
          "2025-04-23T00:00:00.000000000",
          "2025-04-24T00:00:00.000000000",
          "2025-04-25T00:00:00.000000000",
          "2025-04-26T00:00:00.000000000",
          "2025-04-27T00:00:00.000000000",
          "2025-04-28T00:00:00.000000000",
          "2025-04-29T00:00:00.000000000",
          "2025-04-30T00:00:00.000000000",
          "2025-05-01T00:00:00.000000000",
          "2025-05-02T00:00:00.000000000",
          "2025-05-03T00:00:00.000000000",
          "2025-05-04T00:00:00.000000000",
          "2025-05-05T00:00:00.000000000",
          "2025-05-06T00:00:00.000000000",
          "2025-05-07T00:00:00.000000000",
          "2025-05-08T00:00:00.000000000",
          "2025-05-09T00:00:00.000000000",
          "2025-05-10T00:00:00.000000000",
          "2025-05-11T00:00:00.000000000",
          "2025-05-12T00:00:00.000000000",
          "2025-05-13T00:00:00.000000000",
          "2025-05-14T00:00:00.000000000",
          "2025-05-15T00:00:00.000000000",
          "2025-05-16T00:00:00.000000000",
          "2025-05-17T00:00:00.000000000",
          "2025-05-18T00:00:00.000000000",
          "2025-05-19T00:00:00.000000000",
          "2025-05-20T00:00:00.000000000",
          "2025-05-21T00:00:00.000000000",
          "2025-05-22T00:00:00.000000000",
          "2025-05-23T00:00:00.000000000",
          "2025-05-24T00:00:00.000000000",
          "2025-05-25T00:00:00.000000000",
          "2025-05-26T00:00:00.000000000",
          "2025-05-27T00:00:00.000000000",
          "2025-05-28T00:00:00.000000000",
          "2025-05-29T00:00:00.000000000",
          "2025-05-30T00:00:00.000000000",
          "2025-05-31T00:00:00.000000000",
          "2025-06-01T00:00:00.000000000",
          "2025-06-02T00:00:00.000000000",
          "2025-06-03T00:00:00.000000000"
         ],
         "xaxis": "x",
         "y": {
          "bdata": "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",
          "dtype": "f8"
         },
         "yaxis": "y"
        }
       ],
       "layout": {
        "template": {
         "data": {
          "bar": [
           {
            "error_x": {
             "color": "#2a3f5f"
            },
            "error_y": {
             "color": "#2a3f5f"
            },
            "marker": {
             "line": {
              "color": "#E5ECF6",
              "width": 0.5
             },
             "pattern": {
              "fillmode": "overlay",
              "size": 10,
              "solidity": 0.2
             }
            },
            "type": "bar"
           }
          ],
          "barpolar": [
           {
            "marker": {
             "line": {
              "color": "#E5ECF6",
              "width": 0.5
             },
             "pattern": {
              "fillmode": "overlay",
              "size": 10,
              "solidity": 0.2
             }
            },
            "type": "barpolar"
           }
          ],
          "carpet": [
           {
            "aaxis": {
             "endlinecolor": "#2a3f5f",
             "gridcolor": "white",
             "linecolor": "white",
             "minorgridcolor": "white",
             "startlinecolor": "#2a3f5f"
            },
            "baxis": {
             "endlinecolor": "#2a3f5f",
             "gridcolor": "white",
             "linecolor": "white",
             "minorgridcolor": "white",
             "startlinecolor": "#2a3f5f"
            },
            "type": "carpet"
           }
          ],
          "choropleth": [
           {
            "colorbar": {
             "outlinewidth": 0,
             "ticks": ""
            },
            "type": "choropleth"
           }
          ],
          "contour": [
           {
            "colorbar": {
             "outlinewidth": 0,
             "ticks": ""
            },
            "colorscale": [
             [
              0,
              "#0d0887"
             ],
             [
              0.1111111111111111,
              "#46039f"
             ],
             [
              0.2222222222222222,
              "#7201a8"
             ],
             [
              0.3333333333333333,
              "#9c179e"
             ],
             [
              0.4444444444444444,
              "#bd3786"
             ],
             [
              0.5555555555555556,
              "#d8576b"
             ],
             [
              0.6666666666666666,
              "#ed7953"
             ],
             [
              0.7777777777777778,
              "#fb9f3a"
             ],
             [
              0.8888888888888888,
              "#fdca26"
             ],
             [
              1,
              "#f0f921"
             ]
            ],
            "type": "contour"
           }
          ],
          "contourcarpet": [
           {
            "colorbar": {
             "outlinewidth": 0,
             "ticks": ""
            },
            "type": "contourcarpet"
           }
          ],
          "heatmap": [
           {
            "colorbar": {
             "outlinewidth": 0,
             "ticks": ""
            },
            "colorscale": [
             [
              0,
              "#0d0887"
             ],
             [
              0.1111111111111111,
              "#46039f"
             ],
             [
              0.2222222222222222,
              "#7201a8"
             ],
             [
              0.3333333333333333,
              "#9c179e"
             ],
             [
              0.4444444444444444,
              "#bd3786"
             ],
             [
              0.5555555555555556,
              "#d8576b"
             ],
             [
              0.6666666666666666,
              "#ed7953"
             ],
             [
              0.7777777777777778,
              "#fb9f3a"
             ],
             [
              0.8888888888888888,
              "#fdca26"
             ],
             [
              1,
              "#f0f921"
             ]
            ],
            "type": "heatmap"
           }
          ],
          "histogram": [
           {
            "marker": {
             "pattern": {
              "fillmode": "overlay",
              "size": 10,
              "solidity": 0.2
             }
            },
            "type": "histogram"
           }
          ],
          "histogram2d": [
           {
            "colorbar": {
             "outlinewidth": 0,
             "ticks": ""
            },
            "colorscale": [
             [
              0,
              "#0d0887"
             ],
             [
              0.1111111111111111,
              "#46039f"
             ],
             [
              0.2222222222222222,
              "#7201a8"
             ],
             [
              0.3333333333333333,
              "#9c179e"
             ],
             [
              0.4444444444444444,
              "#bd3786"
             ],
             [
              0.5555555555555556,
              "#d8576b"
             ],
             [
              0.6666666666666666,
              "#ed7953"
             ],
             [
              0.7777777777777778,
              "#fb9f3a"
             ],
             [
              0.8888888888888888,
              "#fdca26"
             ],
             [
              1,
              "#f0f921"
             ]
            ],
            "type": "histogram2d"
           }
          ],
          "histogram2dcontour": [
           {
            "colorbar": {
             "outlinewidth": 0,
             "ticks": ""
            },
            "colorscale": [
             [
              0,
              "#0d0887"
             ],
             [
              0.1111111111111111,
              "#46039f"
             ],
             [
              0.2222222222222222,
              "#7201a8"
             ],
             [
              0.3333333333333333,
              "#9c179e"
             ],
             [
              0.4444444444444444,
              "#bd3786"
             ],
             [
              0.5555555555555556,
              "#d8576b"
             ],
             [
              0.6666666666666666,
              "#ed7953"
             ],
             [
              0.7777777777777778,
              "#fb9f3a"
             ],
             [
              0.8888888888888888,
              "#fdca26"
             ],
             [
              1,
              "#f0f921"
             ]
            ],
            "type": "histogram2dcontour"
           }
          ],
          "mesh3d": [
           {
            "colorbar": {
             "outlinewidth": 0,
             "ticks": ""
            },
            "type": "mesh3d"
           }
          ],
          "parcoords": [
           {
            "line": {
             "colorbar": {
              "outlinewidth": 0,
              "ticks": ""
             }
            },
            "type": "parcoords"
           }
          ],
          "pie": [
           {
            "automargin": true,
            "type": "pie"
           }
          ],
          "scatter": [
           {
            "fillpattern": {
             "fillmode": "overlay",
             "size": 10,
             "solidity": 0.2
            },
            "type": "scatter"
           }
          ],
          "scatter3d": [
           {
            "line": {
             "colorbar": {
              "outlinewidth": 0,
              "ticks": ""
             }
            },
            "marker": {
             "colorbar": {
              "outlinewidth": 0,
              "ticks": ""
             }
            },
            "type": "scatter3d"
           }
          ],
          "scattercarpet": [
           {
            "marker": {
             "colorbar": {
              "outlinewidth": 0,
              "ticks": ""
             }
            },
            "type": "scattercarpet"
           }
          ],
          "scattergeo": [
           {
            "marker": {
             "colorbar": {
              "outlinewidth": 0,
              "ticks": ""
             }
            },
            "type": "scattergeo"
           }
          ],
          "scattergl": [
           {
            "marker": {
             "colorbar": {
              "outlinewidth": 0,
              "ticks": ""
             }
            },
            "type": "scattergl"
           }
          ],
          "scattermap": [
           {
            "marker": {
             "colorbar": {
              "outlinewidth": 0,
              "ticks": ""
             }
            },
            "type": "scattermap"
           }
          ],
          "scattermapbox": [
           {
            "marker": {
             "colorbar": {
              "outlinewidth": 0,
              "ticks": ""
             }
            },
            "type": "scattermapbox"
           }
          ],
          "scatterpolar": [
           {
            "marker": {
             "colorbar": {
              "outlinewidth": 0,
              "ticks": ""
             }
            },
            "type": "scatterpolar"
           }
          ],
          "scatterpolargl": [
           {
            "marker": {
             "colorbar": {
              "outlinewidth": 0,
              "ticks": ""
             }
            },
            "type": "scatterpolargl"
           }
          ],
          "scatterternary": [
           {
            "marker": {
             "colorbar": {
              "outlinewidth": 0,
              "ticks": ""
             }
            },
            "type": "scatterternary"
           }
          ],
          "surface": [
           {
            "colorbar": {
             "outlinewidth": 0,
             "ticks": ""
            },
            "colorscale": [
             [
              0,
              "#0d0887"
             ],
             [
              0.1111111111111111,
              "#46039f"
             ],
             [
              0.2222222222222222,
              "#7201a8"
             ],
             [
              0.3333333333333333,
              "#9c179e"
             ],
             [
              0.4444444444444444,
              "#bd3786"
             ],
             [
              0.5555555555555556,
              "#d8576b"
             ],
             [
              0.6666666666666666,
              "#ed7953"
             ],
             [
              0.7777777777777778,
              "#fb9f3a"
             ],
             [
              0.8888888888888888,
              "#fdca26"
             ],
             [
              1,
              "#f0f921"
             ]
            ],
            "type": "surface"
           }
          ],
          "table": [
           {
            "cells": {
             "fill": {
              "color": "#EBF0F8"
             },
             "line": {
              "color": "white"
             }
            },
            "header": {
             "fill": {
              "color": "#C8D4E3"
             },
             "line": {
              "color": "white"
             }
            },
            "type": "table"
           }
          ]
         },
         "layout": {
          "annotationdefaults": {
           "arrowcolor": "#2a3f5f",
           "arrowhead": 0,
           "arrowwidth": 1
          },
          "autotypenumbers": "strict",
          "coloraxis": {
           "colorbar": {
            "outlinewidth": 0,
            "ticks": ""
           }
          },
          "colorscale": {
           "diverging": [
            [
             0,
             "#8e0152"
            ],
            [
             0.1,
             "#c51b7d"
            ],
            [
             0.2,
             "#de77ae"
            ],
            [
             0.3,
             "#f1b6da"
            ],
            [
             0.4,
             "#fde0ef"
            ],
            [
             0.5,
             "#f7f7f7"
            ],
            [
             0.6,
             "#e6f5d0"
            ],
            [
             0.7,
             "#b8e186"
            ],
            [
             0.8,
             "#7fbc41"
            ],
            [
             0.9,
             "#4d9221"
            ],
            [
             1,
             "#276419"
            ]
           ],
           "sequential": [
            [
             0,
             "#0d0887"
            ],
            [
             0.1111111111111111,
             "#46039f"
            ],
            [
             0.2222222222222222,
             "#7201a8"
            ],
            [
             0.3333333333333333,
             "#9c179e"
            ],
            [
             0.4444444444444444,
             "#bd3786"
            ],
            [
             0.5555555555555556,
             "#d8576b"
            ],
            [
             0.6666666666666666,
             "#ed7953"
            ],
            [
             0.7777777777777778,
             "#fb9f3a"
            ],
            [
             0.8888888888888888,
             "#fdca26"
            ],
            [
             1,
             "#f0f921"
            ]
           ],
           "sequentialminus": [
            [
             0,
             "#0d0887"
            ],
            [
             0.1111111111111111,
             "#46039f"
            ],
            [
             0.2222222222222222,
             "#7201a8"
            ],
            [
             0.3333333333333333,
             "#9c179e"
            ],
            [
             0.4444444444444444,
             "#bd3786"
            ],
            [
             0.5555555555555556,
             "#d8576b"
            ],
            [
             0.6666666666666666,
             "#ed7953"
            ],
            [
             0.7777777777777778,
             "#fb9f3a"
            ],
            [
             0.8888888888888888,
             "#fdca26"
            ],
            [
             1,
             "#f0f921"
            ]
           ]
          },
          "colorway": [
           "#636efa",
           "#EF553B",
           "#00cc96",
           "#ab63fa",
           "#FFA15A",
           "#19d3f3",
           "#FF6692",
           "#B6E880",
           "#FF97FF",
           "#FECB52"
          ],
          "font": {
           "color": "#2a3f5f"
          },
          "geo": {
           "bgcolor": "white",
           "lakecolor": "white",
           "landcolor": "#E5ECF6",
           "showlakes": true,
           "showland": true,
           "subunitcolor": "white"
          },
          "hoverlabel": {
           "align": "left"
          },
          "hovermode": "closest",
          "mapbox": {
           "style": "light"
          },
          "paper_bgcolor": "white",
          "plot_bgcolor": "#E5ECF6",
          "polar": {
           "angularaxis": {
            "gridcolor": "white",
            "linecolor": "white",
            "ticks": ""
           },
           "bgcolor": "#E5ECF6",
           "radialaxis": {
            "gridcolor": "white",
            "linecolor": "white",
            "ticks": ""
           }
          },
          "scene": {
           "xaxis": {
            "backgroundcolor": "#E5ECF6",
            "gridcolor": "white",
            "gridwidth": 2,
            "linecolor": "white",
            "showbackground": true,
            "ticks": "",
            "zerolinecolor": "white"
           },
           "yaxis": {
            "backgroundcolor": "#E5ECF6",
            "gridcolor": "white",
            "gridwidth": 2,
            "linecolor": "white",
            "showbackground": true,
            "ticks": "",
            "zerolinecolor": "white"
           },
           "zaxis": {
            "backgroundcolor": "#E5ECF6",
            "gridcolor": "white",
            "gridwidth": 2,
            "linecolor": "white",
            "showbackground": true,
            "ticks": "",
            "zerolinecolor": "white"
           }
          },
          "shapedefaults": {
           "line": {
            "color": "#2a3f5f"
           }
          },
          "ternary": {
           "aaxis": {
            "gridcolor": "white",
            "linecolor": "white",
            "ticks": ""
           },
           "baxis": {
            "gridcolor": "white",
            "linecolor": "white",
            "ticks": ""
           },
           "bgcolor": "#E5ECF6",
           "caxis": {
            "gridcolor": "white",
            "linecolor": "white",
            "ticks": ""
           }
          },
          "title": {
           "x": 0.05
          },
          "xaxis": {
           "automargin": true,
           "gridcolor": "white",
           "linecolor": "white",
           "ticks": "",
           "title": {
            "standoff": 15
           },
           "zerolinecolor": "white",
           "zerolinewidth": 2
          },
          "yaxis": {
           "automargin": true,
           "gridcolor": "white",
           "linecolor": "white",
           "ticks": "",
           "title": {
            "standoff": 15
           },
           "zerolinecolor": "white",
           "zerolinewidth": 2
          }
         }
        },
        "title": {
         "text": "SOL_USDT.csv Stock High & Low Price"
        },
        "xaxis": {
         "anchor": "y",
         "domain": [
          0,
          0.94
         ],
         "rangeslider": {
          "visible": false
         },
         "title": {
          "text": "Date"
         }
        },
        "yaxis": {
         "anchor": "x",
         "domain": [
          0,
          1
         ],
         "title": {
          "text": "Volume"
         }
        },
        "yaxis2": {
         "anchor": "x",
         "overlaying": "y",
         "side": "right",
         "title": {
          "text": "Price"
         }
        }
       }
      }
     },
     "metadata": {},
     "output_type": "display_data"
    }
   ],
   "source": [
    "import plotly.graph_objects as go\n",
    "from plotly.subplots import make_subplots\n",
    "\n",
    "# Create figure with secondary y-axis\n",
    "fig = make_subplots(specs=[[{\"secondary_y\": True}]])\n",
    "\n",
    "# include candlestick with rangeselector\n",
    "fig.add_trace(go.Candlestick(\n",
    "                x=data.index,\n",
    "                open=data['open'], \n",
    "                high=data['high'],\n",
    "                low=data['low'], \n",
    "                close=data['close'],\n",
    "                name='Candle'),\n",
    "               secondary_y=True)\n",
    "\n",
    "# include a go.Bar trace for volumes\n",
    "fig.add_trace(go.Bar(x=data.index, y=data['volume'],marker_color='gray', opacity=0.5,name='Volume'), secondary_y=False)\n",
    "\n",
    "# Update layout\n",
    "fig.update_layout(\n",
    "    title=f'{file_name} Stock High & Low Price', xaxis_title='Date',\n",
    "    yaxis=dict(title='Volume'),\n",
    "    yaxis2=dict(title='Price', overlaying='y', side='right'),\n",
    "    xaxis_rangeslider_visible=False\n",
    ")\n",
    "\n",
    "fig.show()"
   ]
  },
  {
   "cell_type": "markdown",
   "metadata": {},
   "source": [
    "# LSTM (Long Short-Term Memory)\n",
    "\n",
    "## A popular neural network model used to predict future stock prices."
   ]
  },
  {
   "cell_type": "code",
   "execution_count": 27,
   "metadata": {},
   "outputs": [],
   "source": [
    "import numpy as np\n",
    "from sklearn.preprocessing import MinMaxScaler\n",
    "from sklearn.metrics import mean_squared_error\n",
    "import tensorflow as tf\n",
    "# from tensorflow.keras.models import Sequential\n",
    "# from tensorflow.keras.layers import LSTM, Dense, Dropout, Input\n",
    "import plotly.graph_objects as go\n",
    "\n",
    "from keras.layers import LSTM, Dense, Dropout, Input\n",
    "from keras.models import Sequential\n"
   ]
  },
  {
   "cell_type": "code",
   "execution_count": 28,
   "metadata": {},
   "outputs": [],
   "source": [
    "# split into train and test sets with the ratio of 0.8 \n",
    "train_size = int(len(data) * 0.8)\n",
    "test_size = len(data) - train_size\n",
    "train_data, test_data = data.iloc[0:train_size], data.iloc[train_size:len(data)]\n"
   ]
  },
  {
   "cell_type": "markdown",
   "metadata": {},
   "source": [
    "# Scaling\n",
    "\n",
    "\n",
    "\n",
    "## Deep learning (LSTM/GRU for time-series):\n",
    "1. 👉 MinMaxScaler(feature_range=(-1, 1)) or StandardScaler are most common.\n",
    "2. MinMaxScaler helps if you want bounded activations (e.g., sigmoid/tanh).\n",
    "3. StandardScaler helps if you expect out-of-range values (safer for real-world market data).\n",
    "\n",
    "### Should all OHLC features share the same scale?\n",
    "\n",
    "* Yes ✅ for open, high, low, close (OHLC) you should use the same scaler:\n",
    "* They are in the same units (price).\n",
    "* If you scale them independently, you destroy relative relationships (e.g., “close > open” might be lost after scaling).\n",
    "* Using a shared scaler keeps the ratios and differences consistent.\n",
    "\n",
    "### What about volume?\n",
    "\n",
    "* Volume is on a completely different scale (can be 1e3 vs. 1e8 for different stocks).\n",
    "* 👉 Best practice: scale volume separately (fit another scaler just for volume).\n",
    "* This prevents it from distorting the OHLC scaling.\n",
    "* You can even log-transform volume first (log(1+volume)) to compress heavy-tailed spikes, then scale."
   ]
  },
  {
   "cell_type": "code",
   "execution_count": 29,
   "metadata": {},
   "outputs": [],
   "source": [
    "ohlc_scaler = MinMaxScaler(feature_range=(0, 1))\n",
    "ohlc_scaled_data = ohlc_scaler.fit_transform(train_data[['open', 'high', 'low', 'close']])\n",
    "volume_scaler = MinMaxScaler(feature_range=(0, 1))\n",
    "volume_scaled_data = volume_scaler.fit_transform(train_data[['volume']])\n",
    "\n",
    "scaled_train_data = np.hstack((ohlc_scaled_data, volume_scaled_data))"
   ]
  },
  {
   "cell_type": "code",
   "execution_count": 30,
   "metadata": {},
   "outputs": [],
   "source": [
    "def data_prep(data, sequence_length=5):\n",
    "    \n",
    "    # Prepare data for LSTM\n",
    "    x_train, y_train = [], []\n",
    "    for i in range(sequence_length, len(data)):\n",
    "        x_train.append(data[i-sequence_length:i, :])\n",
    "        y_train.append(data[i, [1, 2]])  # Predict high and low prices\n",
    "\n",
    "    x_train, y_train = np.array(x_train), np.array(y_train)\n",
    "    return x_train, y_train"
   ]
  },
  {
   "cell_type": "code",
   "execution_count": 31,
   "metadata": {},
   "outputs": [
    {
     "name": "stdout",
     "output_type": "stream",
     "text": [
      "Epoch 1/50\n",
      "\u001b[1m56/56\u001b[0m \u001b[32m━━━━━━━━━━━━━━━━━━━━\u001b[0m\u001b[37m\u001b[0m \u001b[1m2s\u001b[0m 10ms/step - loss: 0.0379\n",
      "Epoch 2/50\n",
      "\u001b[1m56/56\u001b[0m \u001b[32m━━━━━━━━━━━━━━━━━━━━\u001b[0m\u001b[37m\u001b[0m \u001b[1m0s\u001b[0m 7ms/step - loss: 0.0129\n",
      "Epoch 3/50\n",
      "\u001b[1m56/56\u001b[0m \u001b[32m━━━━━━━━━━━━━━━━━━━━\u001b[0m\u001b[37m\u001b[0m \u001b[1m0s\u001b[0m 6ms/step - loss: 0.0141\n",
      "Epoch 4/50\n",
      "\u001b[1m56/56\u001b[0m \u001b[32m━━━━━━━━━━━━━━━━━━━━\u001b[0m\u001b[37m\u001b[0m \u001b[1m0s\u001b[0m 8ms/step - loss: 0.0112\n",
      "Epoch 5/50\n",
      "\u001b[1m56/56\u001b[0m \u001b[32m━━━━━━━━━━━━━━━━━━━━\u001b[0m\u001b[37m\u001b[0m \u001b[1m0s\u001b[0m 6ms/step - loss: 0.0099\n",
      "Epoch 6/50\n",
      "\u001b[1m56/56\u001b[0m \u001b[32m━━━━━━━━━━━━━━━━━━━━\u001b[0m\u001b[37m\u001b[0m \u001b[1m0s\u001b[0m 5ms/step - loss: 0.0109\n",
      "Epoch 7/50\n",
      "\u001b[1m56/56\u001b[0m \u001b[32m━━━━━━━━━━━━━━━━━━━━\u001b[0m\u001b[37m\u001b[0m \u001b[1m0s\u001b[0m 6ms/step - loss: 0.0142\n",
      "Epoch 8/50\n",
      "\u001b[1m56/56\u001b[0m \u001b[32m━━━━━━━━━━━━━━━━━━━━\u001b[0m\u001b[37m\u001b[0m \u001b[1m0s\u001b[0m 6ms/step - loss: 0.0102\n",
      "Epoch 9/50\n",
      "\u001b[1m56/56\u001b[0m \u001b[32m━━━━━━━━━━━━━━━━━━━━\u001b[0m\u001b[37m\u001b[0m \u001b[1m0s\u001b[0m 9ms/step - loss: 0.0091\n",
      "Epoch 10/50\n",
      "\u001b[1m56/56\u001b[0m \u001b[32m━━━━━━━━━━━━━━━━━━━━\u001b[0m\u001b[37m\u001b[0m \u001b[1m0s\u001b[0m 8ms/step - loss: 0.0111\n",
      "Epoch 11/50\n",
      "\u001b[1m56/56\u001b[0m \u001b[32m━━━━━━━━━━━━━━━━━━━━\u001b[0m\u001b[37m\u001b[0m \u001b[1m0s\u001b[0m 7ms/step - loss: 0.0092\n",
      "Epoch 12/50\n",
      "\u001b[1m56/56\u001b[0m \u001b[32m━━━━━━━━━━━━━━━━━━━━\u001b[0m\u001b[37m\u001b[0m \u001b[1m0s\u001b[0m 7ms/step - loss: 0.0086\n",
      "Epoch 13/50\n",
      "\u001b[1m56/56\u001b[0m \u001b[32m━━━━━━━━━━━━━━━━━━━━\u001b[0m\u001b[37m\u001b[0m \u001b[1m0s\u001b[0m 7ms/step - loss: 0.0093\n",
      "Epoch 14/50\n",
      "\u001b[1m56/56\u001b[0m \u001b[32m━━━━━━━━━━━━━━━━━━━━\u001b[0m\u001b[37m\u001b[0m \u001b[1m0s\u001b[0m 7ms/step - loss: 0.0089\n",
      "Epoch 15/50\n",
      "\u001b[1m56/56\u001b[0m \u001b[32m━━━━━━━━━━━━━━━━━━━━\u001b[0m\u001b[37m\u001b[0m \u001b[1m0s\u001b[0m 6ms/step - loss: 0.0085\n",
      "Epoch 16/50\n",
      "\u001b[1m56/56\u001b[0m \u001b[32m━━━━━━━━━━━━━━━━━━━━\u001b[0m\u001b[37m\u001b[0m \u001b[1m0s\u001b[0m 8ms/step - loss: 0.0085\n",
      "Epoch 17/50\n",
      "\u001b[1m56/56\u001b[0m \u001b[32m━━━━━━━━━━━━━━━━━━━━\u001b[0m\u001b[37m\u001b[0m \u001b[1m0s\u001b[0m 8ms/step - loss: 0.0083\n",
      "Epoch 18/50\n",
      "\u001b[1m56/56\u001b[0m \u001b[32m━━━━━━━━━━━━━━━━━━━━\u001b[0m\u001b[37m\u001b[0m \u001b[1m0s\u001b[0m 8ms/step - loss: 0.0072\n",
      "Epoch 19/50\n",
      "\u001b[1m56/56\u001b[0m \u001b[32m━━━━━━━━━━━━━━━━━━━━\u001b[0m\u001b[37m\u001b[0m \u001b[1m0s\u001b[0m 7ms/step - loss: 0.0066\n",
      "Epoch 20/50\n",
      "\u001b[1m56/56\u001b[0m \u001b[32m━━━━━━━━━━━━━━━━━━━━\u001b[0m\u001b[37m\u001b[0m \u001b[1m0s\u001b[0m 6ms/step - loss: 0.0063\n",
      "Epoch 21/50\n",
      "\u001b[1m56/56\u001b[0m \u001b[32m━━━━━━━━━━━━━━━━━━━━\u001b[0m\u001b[37m\u001b[0m \u001b[1m0s\u001b[0m 5ms/step - loss: 0.0068\n",
      "Epoch 22/50\n",
      "\u001b[1m56/56\u001b[0m \u001b[32m━━━━━━━━━━━━━━━━━━━━\u001b[0m\u001b[37m\u001b[0m \u001b[1m0s\u001b[0m 8ms/step - loss: 0.0074\n",
      "Epoch 23/50\n",
      "\u001b[1m56/56\u001b[0m \u001b[32m━━━━━━━━━━━━━━━━━━━━\u001b[0m\u001b[37m\u001b[0m \u001b[1m0s\u001b[0m 7ms/step - loss: 0.0058\n",
      "Epoch 24/50\n",
      "\u001b[1m56/56\u001b[0m \u001b[32m━━━━━━━━━━━━━━━━━━━━\u001b[0m\u001b[37m\u001b[0m \u001b[1m0s\u001b[0m 7ms/step - loss: 0.0055\n",
      "Epoch 25/50\n",
      "\u001b[1m56/56\u001b[0m \u001b[32m━━━━━━━━━━━━━━━━━━━━\u001b[0m\u001b[37m\u001b[0m \u001b[1m0s\u001b[0m 5ms/step - loss: 0.0056\n",
      "Epoch 26/50\n",
      "\u001b[1m56/56\u001b[0m \u001b[32m━━━━━━━━━━━━━━━━━━━━\u001b[0m\u001b[37m\u001b[0m \u001b[1m0s\u001b[0m 5ms/step - loss: 0.0055\n",
      "Epoch 27/50\n",
      "\u001b[1m56/56\u001b[0m \u001b[32m━━━━━━━━━━━━━━━━━━━━\u001b[0m\u001b[37m\u001b[0m \u001b[1m0s\u001b[0m 6ms/step - loss: 0.0048\n",
      "Epoch 28/50\n",
      "\u001b[1m56/56\u001b[0m \u001b[32m━━━━━━━━━━━━━━━━━━━━\u001b[0m\u001b[37m\u001b[0m \u001b[1m0s\u001b[0m 7ms/step - loss: 0.0063\n",
      "Epoch 29/50\n",
      "\u001b[1m56/56\u001b[0m \u001b[32m━━━━━━━━━━━━━━━━━━━━\u001b[0m\u001b[37m\u001b[0m \u001b[1m0s\u001b[0m 6ms/step - loss: 0.0048\n",
      "Epoch 30/50\n",
      "\u001b[1m56/56\u001b[0m \u001b[32m━━━━━━━━━━━━━━━━━━━━\u001b[0m\u001b[37m\u001b[0m \u001b[1m0s\u001b[0m 9ms/step - loss: 0.0051\n",
      "Epoch 31/50\n",
      "\u001b[1m56/56\u001b[0m \u001b[32m━━━━━━━━━━━━━━━━━━━━\u001b[0m\u001b[37m\u001b[0m \u001b[1m0s\u001b[0m 6ms/step - loss: 0.0054\n",
      "Epoch 32/50\n",
      "\u001b[1m56/56\u001b[0m \u001b[32m━━━━━━━━━━━━━━━━━━━━\u001b[0m\u001b[37m\u001b[0m \u001b[1m0s\u001b[0m 6ms/step - loss: 0.0054\n",
      "Epoch 33/50\n",
      "\u001b[1m56/56\u001b[0m \u001b[32m━━━━━━━━━━━━━━━━━━━━\u001b[0m\u001b[37m\u001b[0m \u001b[1m0s\u001b[0m 5ms/step - loss: 0.0053 \n",
      "Epoch 34/50\n",
      "\u001b[1m56/56\u001b[0m \u001b[32m━━━━━━━━━━━━━━━━━━━━\u001b[0m\u001b[37m\u001b[0m \u001b[1m0s\u001b[0m 5ms/step - loss: 0.0046\n",
      "Epoch 35/50\n",
      "\u001b[1m56/56\u001b[0m \u001b[32m━━━━━━━━━━━━━━━━━━━━\u001b[0m\u001b[37m\u001b[0m \u001b[1m0s\u001b[0m 6ms/step - loss: 0.0042\n",
      "Epoch 36/50\n",
      "\u001b[1m56/56\u001b[0m \u001b[32m━━━━━━━━━━━━━━━━━━━━\u001b[0m\u001b[37m\u001b[0m \u001b[1m0s\u001b[0m 6ms/step - loss: 0.0042\n",
      "Epoch 37/50\n",
      "\u001b[1m56/56\u001b[0m \u001b[32m━━━━━━━━━━━━━━━━━━━━\u001b[0m\u001b[37m\u001b[0m \u001b[1m0s\u001b[0m 6ms/step - loss: 0.0038\n",
      "Epoch 38/50\n",
      "\u001b[1m56/56\u001b[0m \u001b[32m━━━━━━━━━━━━━━━━━━━━\u001b[0m\u001b[37m\u001b[0m \u001b[1m0s\u001b[0m 6ms/step - loss: 0.0043\n",
      "Epoch 39/50\n",
      "\u001b[1m56/56\u001b[0m \u001b[32m━━━━━━━━━━━━━━━━━━━━\u001b[0m\u001b[37m\u001b[0m \u001b[1m0s\u001b[0m 5ms/step - loss: 0.0043\n",
      "Epoch 40/50\n",
      "\u001b[1m56/56\u001b[0m \u001b[32m━━━━━━━━━━━━━━━━━━━━\u001b[0m\u001b[37m\u001b[0m \u001b[1m0s\u001b[0m 6ms/step - loss: 0.0040\n",
      "Epoch 41/50\n",
      "\u001b[1m56/56\u001b[0m \u001b[32m━━━━━━━━━━━━━━━━━━━━\u001b[0m\u001b[37m\u001b[0m \u001b[1m0s\u001b[0m 6ms/step - loss: 0.0037\n",
      "Epoch 42/50\n",
      "\u001b[1m56/56\u001b[0m \u001b[32m━━━━━━━━━━━━━━━━━━━━\u001b[0m\u001b[37m\u001b[0m \u001b[1m0s\u001b[0m 5ms/step - loss: 0.0039\n",
      "Epoch 43/50\n",
      "\u001b[1m56/56\u001b[0m \u001b[32m━━━━━━━━━━━━━━━━━━━━\u001b[0m\u001b[37m\u001b[0m \u001b[1m0s\u001b[0m 7ms/step - loss: 0.0031\n",
      "Epoch 44/50\n",
      "\u001b[1m56/56\u001b[0m \u001b[32m━━━━━━━━━━━━━━━━━━━━\u001b[0m\u001b[37m\u001b[0m \u001b[1m0s\u001b[0m 5ms/step - loss: 0.0031\n",
      "Epoch 45/50\n",
      "\u001b[1m56/56\u001b[0m \u001b[32m━━━━━━━━━━━━━━━━━━━━\u001b[0m\u001b[37m\u001b[0m \u001b[1m0s\u001b[0m 4ms/step - loss: 0.0039\n",
      "Epoch 46/50\n",
      "\u001b[1m56/56\u001b[0m \u001b[32m━━━━━━━━━━━━━━━━━━━━\u001b[0m\u001b[37m\u001b[0m \u001b[1m0s\u001b[0m 4ms/step - loss: 0.0034\n",
      "Epoch 47/50\n",
      "\u001b[1m56/56\u001b[0m \u001b[32m━━━━━━━━━━━━━━━━━━━━\u001b[0m\u001b[37m\u001b[0m \u001b[1m0s\u001b[0m 6ms/step - loss: 0.0032\n",
      "Epoch 48/50\n",
      "\u001b[1m56/56\u001b[0m \u001b[32m━━━━━━━━━━━━━━━━━━━━\u001b[0m\u001b[37m\u001b[0m \u001b[1m0s\u001b[0m 6ms/step - loss: 0.0034\n",
      "Epoch 49/50\n",
      "\u001b[1m56/56\u001b[0m \u001b[32m━━━━━━━━━━━━━━━━━━━━\u001b[0m\u001b[37m\u001b[0m \u001b[1m0s\u001b[0m 5ms/step - loss: 0.0028\n",
      "Epoch 50/50\n",
      "\u001b[1m56/56\u001b[0m \u001b[32m━━━━━━━━━━━━━━━━━━━━\u001b[0m\u001b[37m\u001b[0m \u001b[1m0s\u001b[0m 6ms/step - loss: 0.0031\n"
     ]
    },
    {
     "data": {
      "text/plain": [
       "<keras.src.callbacks.history.History at 0x78a3045ceb50>"
      ]
     },
     "execution_count": 31,
     "metadata": {},
     "output_type": "execute_result"
    }
   ],
   "source": [
    "\n",
    "x_train, y_train = data_prep(scaled_train_data, sequence_length=5)\n",
    "x_train = np.reshape(x_train, (x_train.shape[0], x_train.shape[1], x_train.shape[2]))\n",
    "\n",
    "# %%\n",
    "# Build LSTM model\n",
    "model = Sequential()\n",
    "model.add(Input(shape=(x_train.shape[1], x_train.shape[2])))\n",
    "model.add(LSTM(units=50, return_sequences=True))\n",
    "model.add(Dropout(0.2))\n",
    "model.add(LSTM(units=50, return_sequences=True))\n",
    "model.add(Dropout(0.2))\n",
    "model.add(LSTM(units=50, return_sequences=False))\n",
    "model.add(Dropout(0.2))\n",
    "model.add(Dense(25, activation='relu'))\n",
    "model.add(Dense(units=2))  # Predict high and low prices\n",
    "\n",
    "# Compile the model\n",
    "model.compile(loss='mse', optimizer='adam')\n",
    "\n",
    "# Fit the model\n",
    "model.fit(x_train, y_train, epochs=50, batch_size=5)\n"
   ]
  },
  {
   "cell_type": "code",
   "execution_count": 32,
   "metadata": {},
   "outputs": [
    {
     "name": "stdout",
     "output_type": "stream",
     "text": [
      "\u001b[1m1/1\u001b[0m \u001b[32m━━━━━━━━━━━━━━━━━━━━\u001b[0m\u001b[37m\u001b[0m \u001b[1m0s\u001b[0m 128ms/step\n",
      "Forecasted High: 127.00782259911298, Low: 116.91701499044895\n",
      "\u001b[1m1/1\u001b[0m \u001b[32m━━━━━━━━━━━━━━━━━━━━\u001b[0m\u001b[37m\u001b[0m \u001b[1m0s\u001b[0m 20ms/step\n",
      "Forecasted High: 125.61177188068629, Low: 115.3798077750206\n",
      "\u001b[1m1/1\u001b[0m \u001b[32m━━━━━━━━━━━━━━━━━━━━\u001b[0m\u001b[37m\u001b[0m \u001b[1m0s\u001b[0m 21ms/step\n",
      "Forecasted High: 125.47997852772474, Low: 115.22915116488933\n",
      "\u001b[1m1/1\u001b[0m \u001b[32m━━━━━━━━━━━━━━━━━━━━\u001b[0m\u001b[37m\u001b[0m \u001b[1m0s\u001b[0m 21ms/step\n",
      "Forecasted High: 127.4315529024601, Low: 117.46083360493184\n",
      "\u001b[1m1/1\u001b[0m \u001b[32m━━━━━━━━━━━━━━━━━━━━\u001b[0m\u001b[37m\u001b[0m \u001b[1m0s\u001b[0m 21ms/step\n",
      "Forecasted High: 124.28736405581236, Low: 113.69369606852531\n",
      "\u001b[1m1/1\u001b[0m \u001b[32m━━━━━━━━━━━━━━━━━━━━\u001b[0m\u001b[37m\u001b[0m \u001b[1m0s\u001b[0m 22ms/step\n",
      "Forecasted High: 120.55861691489817, Low: 108.46081307709217\n",
      "\u001b[1m1/1\u001b[0m \u001b[32m━━━━━━━━━━━━━━━━━━━━\u001b[0m\u001b[37m\u001b[0m \u001b[1m0s\u001b[0m 22ms/step\n",
      "Forecasted High: 121.96262944832445, Low: 110.0856378954649\n",
      "\u001b[1m1/1\u001b[0m \u001b[32m━━━━━━━━━━━━━━━━━━━━\u001b[0m\u001b[37m\u001b[0m \u001b[1m0s\u001b[0m 22ms/step\n",
      "Forecasted High: 123.28533469036222, Low: 111.96517935276032\n",
      "\u001b[1m1/1\u001b[0m \u001b[32m━━━━━━━━━━━━━━━━━━━━\u001b[0m\u001b[37m\u001b[0m \u001b[1m0s\u001b[0m 21ms/step\n",
      "Forecasted High: 118.43896009020507, Low: 104.10638014197349\n",
      "\u001b[1m1/1\u001b[0m \u001b[32m━━━━━━━━━━━━━━━━━━━━\u001b[0m\u001b[37m\u001b[0m \u001b[1m0s\u001b[0m 21ms/step\n",
      "Forecasted High: 115.8923845397681, Low: 101.70365465059876\n",
      "\u001b[1m1/1\u001b[0m \u001b[32m━━━━━━━━━━━━━━━━━━━━\u001b[0m\u001b[37m\u001b[0m \u001b[1m0s\u001b[0m 21ms/step\n",
      "Forecasted High: 116.67458049785346, Low: 103.09103762894868\n",
      "\u001b[1m1/1\u001b[0m \u001b[32m━━━━━━━━━━━━━━━━━━━━\u001b[0m\u001b[37m\u001b[0m \u001b[1m0s\u001b[0m 20ms/step\n",
      "Forecasted High: 119.91190874651075, Low: 106.75590569972992\n",
      "\u001b[1m1/1\u001b[0m \u001b[32m━━━━━━━━━━━━━━━━━━━━\u001b[0m\u001b[37m\u001b[0m \u001b[1m0s\u001b[0m 20ms/step\n",
      "Forecasted High: 122.84545001223684, Low: 109.4044946193695\n",
      "\u001b[1m1/1\u001b[0m \u001b[32m━━━━━━━━━━━━━━━━━━━━\u001b[0m\u001b[37m\u001b[0m \u001b[1m0s\u001b[0m 20ms/step\n",
      "Forecasted High: 124.9318476653099, Low: 111.88425102353096\n",
      "\u001b[1m1/1\u001b[0m \u001b[32m━━━━━━━━━━━━━━━━━━━━\u001b[0m\u001b[37m\u001b[0m \u001b[1m0s\u001b[0m 21ms/step\n",
      "Forecasted High: 131.08761543795467, Low: 119.96190901100636\n",
      "\u001b[1m1/1\u001b[0m \u001b[32m━━━━━━━━━━━━━━━━━━━━\u001b[0m\u001b[37m\u001b[0m \u001b[1m0s\u001b[0m 20ms/step\n",
      "Forecasted High: 131.75366696357727, Low: 120.89619621276856\n",
      "\u001b[1m1/1\u001b[0m \u001b[32m━━━━━━━━━━━━━━━━━━━━\u001b[0m\u001b[37m\u001b[0m \u001b[1m0s\u001b[0m 20ms/step\n",
      "Forecasted High: 131.84582822054625, Low: 121.51534662723542\n",
      "\u001b[1m1/1\u001b[0m \u001b[32m━━━━━━━━━━━━━━━━━━━━\u001b[0m\u001b[37m\u001b[0m \u001b[1m0s\u001b[0m 20ms/step\n",
      "Forecasted High: 129.92229605719447, Low: 119.55647984325886\n",
      "\u001b[1m1/1\u001b[0m \u001b[32m━━━━━━━━━━━━━━━━━━━━\u001b[0m\u001b[37m\u001b[0m \u001b[1m0s\u001b[0m 21ms/step\n",
      "Forecasted High: 130.51550504043698, Low: 120.29655443251133\n",
      "\u001b[1m1/1\u001b[0m \u001b[32m━━━━━━━━━━━━━━━━━━━━\u001b[0m\u001b[37m\u001b[0m \u001b[1m0s\u001b[0m 21ms/step\n",
      "Forecasted High: 134.32393529832362, Low: 124.44402995288372\n",
      "\u001b[1m1/1\u001b[0m \u001b[32m━━━━━━━━━━━━━━━━━━━━\u001b[0m\u001b[37m\u001b[0m \u001b[1m0s\u001b[0m 21ms/step\n",
      "Forecasted High: 135.14196362435817, Low: 125.33798579692841\n",
      "\u001b[1m1/1\u001b[0m \u001b[32m━━━━━━━━━━━━━━━━━━━━\u001b[0m\u001b[37m\u001b[0m \u001b[1m0s\u001b[0m 21ms/step\n",
      "Forecasted High: 138.2671977955103, Low: 128.83636411249637\n",
      "\u001b[1m1/1\u001b[0m \u001b[32m━━━━━━━━━━━━━━━━━━━━\u001b[0m\u001b[37m\u001b[0m \u001b[1m0s\u001b[0m 21ms/step\n",
      "Forecasted High: 138.17308528900148, Low: 128.8192180430889\n",
      "\u001b[1m1/1\u001b[0m \u001b[32m━━━━━━━━━━━━━━━━━━━━\u001b[0m\u001b[37m\u001b[0m \u001b[1m0s\u001b[0m 21ms/step\n",
      "Forecasted High: 136.8452498960495, Low: 127.63647243618965\n",
      "\u001b[1m1/1\u001b[0m \u001b[32m━━━━━━━━━━━━━━━━━━━━\u001b[0m\u001b[37m\u001b[0m \u001b[1m0s\u001b[0m 21ms/step\n",
      "Forecasted High: 144.32807905852795, Low: 136.0681260430813\n",
      "\u001b[1m1/1\u001b[0m \u001b[32m━━━━━━━━━━━━━━━━━━━━\u001b[0m\u001b[37m\u001b[0m \u001b[1m0s\u001b[0m 20ms/step\n",
      "Forecasted High: 148.77919065237046, Low: 140.49787912845613\n",
      "\u001b[1m1/1\u001b[0m \u001b[32m━━━━━━━━━━━━━━━━━━━━\u001b[0m\u001b[37m\u001b[0m \u001b[1m0s\u001b[0m 21ms/step\n",
      "Forecasted High: 148.35704419910908, Low: 139.8795861339569\n",
      "\u001b[1m1/1\u001b[0m \u001b[32m━━━━━━━━━━━━━━━━━━━━\u001b[0m\u001b[37m\u001b[0m \u001b[1m0s\u001b[0m 21ms/step\n",
      "Forecasted High: 149.07023822724818, Low: 140.73471343517303\n",
      "\u001b[1m1/1\u001b[0m \u001b[32m━━━━━━━━━━━━━━━━━━━━\u001b[0m\u001b[37m\u001b[0m \u001b[1m0s\u001b[0m 21ms/step\n",
      "Forecasted High: 147.51345920860769, Low: 139.2851145029068\n",
      "\u001b[1m1/1\u001b[0m \u001b[32m━━━━━━━━━━━━━━━━━━━━\u001b[0m\u001b[37m\u001b[0m \u001b[1m0s\u001b[0m 21ms/step\n",
      "Forecasted High: 145.68877878069878, Low: 137.52262718081474\n",
      "\u001b[1m1/1\u001b[0m \u001b[32m━━━━━━━━━━━━━━━━━━━━\u001b[0m\u001b[37m\u001b[0m \u001b[1m0s\u001b[0m 21ms/step\n",
      "Forecasted High: 145.5902440392971, Low: 137.49020365834235\n",
      "\u001b[1m1/1\u001b[0m \u001b[32m━━━━━━━━━━━━━━━━━━━━\u001b[0m\u001b[37m\u001b[0m \u001b[1m0s\u001b[0m 22ms/step\n",
      "Forecasted High: 144.7639537060261, Low: 136.62114794254305\n",
      "\u001b[1m1/1\u001b[0m \u001b[32m━━━━━━━━━━━━━━━━━━━━\u001b[0m\u001b[37m\u001b[0m \u001b[1m0s\u001b[0m 20ms/step\n",
      "Forecasted High: 143.9950448948145, Low: 135.78059212088584\n",
      "\u001b[1m1/1\u001b[0m \u001b[32m━━━━━━━━━━━━━━━━━━━━\u001b[0m\u001b[37m\u001b[0m \u001b[1m0s\u001b[0m 20ms/step\n",
      "Forecasted High: 147.87474728643895, Low: 139.83467410326006\n",
      "\u001b[1m1/1\u001b[0m \u001b[32m━━━━━━━━━━━━━━━━━━━━\u001b[0m\u001b[37m\u001b[0m \u001b[1m0s\u001b[0m 20ms/step\n",
      "Forecasted High: 146.23000746190547, Low: 138.02424116134645\n",
      "\u001b[1m1/1\u001b[0m \u001b[32m━━━━━━━━━━━━━━━━━━━━\u001b[0m\u001b[37m\u001b[0m \u001b[1m0s\u001b[0m 21ms/step\n",
      "Forecasted High: 144.8734028995037, Low: 136.6719034767151\n",
      "\u001b[1m1/1\u001b[0m \u001b[32m━━━━━━━━━━━━━━━━━━━━\u001b[0m\u001b[37m\u001b[0m \u001b[1m0s\u001b[0m 20ms/step\n",
      "Forecasted High: 142.89311088085174, Low: 134.60607122182847\n",
      "\u001b[1m1/1\u001b[0m \u001b[32m━━━━━━━━━━━━━━━━━━━━\u001b[0m\u001b[37m\u001b[0m \u001b[1m0s\u001b[0m 21ms/step\n",
      "Forecasted High: 143.5010091215372, Low: 135.4174281656742\n",
      "\u001b[1m1/1\u001b[0m \u001b[32m━━━━━━━━━━━━━━━━━━━━\u001b[0m\u001b[37m\u001b[0m \u001b[1m0s\u001b[0m 20ms/step\n",
      "Forecasted High: 143.43590324997902, Low: 135.4506531894207\n",
      "\u001b[1m1/1\u001b[0m \u001b[32m━━━━━━━━━━━━━━━━━━━━\u001b[0m\u001b[37m\u001b[0m \u001b[1m0s\u001b[0m 20ms/step\n",
      "Forecasted High: 144.50064478993417, Low: 136.5959985101223\n",
      "\u001b[1m1/1\u001b[0m \u001b[32m━━━━━━━━━━━━━━━━━━━━\u001b[0m\u001b[37m\u001b[0m \u001b[1m0s\u001b[0m 23ms/step\n",
      "Forecasted High: 156.14232376098636, Low: 149.2001046538353\n",
      "\u001b[1m1/1\u001b[0m \u001b[32m━━━━━━━━━━━━━━━━━━━━\u001b[0m\u001b[37m\u001b[0m \u001b[1m0s\u001b[0m 22ms/step\n",
      "Forecasted High: 163.7863606351614, Low: 156.91596636414528\n",
      "\u001b[1m1/1\u001b[0m \u001b[32m━━━━━━━━━━━━━━━━━━━━\u001b[0m\u001b[37m\u001b[0m \u001b[1m0s\u001b[0m 21ms/step\n",
      "Forecasted High: 166.39025498092175, Low: 159.74549885630609\n",
      "\u001b[1m1/1\u001b[0m \u001b[32m━━━━━━━━━━━━━━━━━━━━\u001b[0m\u001b[37m\u001b[0m \u001b[1m0s\u001b[0m 22ms/step\n",
      "Forecasted High: 163.69871794342995, Low: 157.16183619976044\n",
      "\u001b[1m1/1\u001b[0m \u001b[32m━━━━━━━━━━━━━━━━━━━━\u001b[0m\u001b[37m\u001b[0m \u001b[1m0s\u001b[0m 28ms/step\n",
      "Forecasted High: 165.22499832689763, Low: 159.00902636289598\n",
      "\u001b[1m1/1\u001b[0m \u001b[32m━━━━━━━━━━━━━━━━━━━━\u001b[0m\u001b[37m\u001b[0m \u001b[1m0s\u001b[0m 25ms/step\n",
      "Forecasted High: 170.4035563594103, Low: 164.68095730662347\n",
      "\u001b[1m1/1\u001b[0m \u001b[32m━━━━━━━━━━━━━━━━━━━━\u001b[0m\u001b[37m\u001b[0m \u001b[1m0s\u001b[0m 23ms/step\n",
      "Forecasted High: 165.91988510906697, Low: 160.03664419412613\n",
      "\u001b[1m1/1\u001b[0m \u001b[32m━━━━━━━━━━━━━━━━━━━━\u001b[0m\u001b[37m\u001b[0m \u001b[1m0s\u001b[0m 20ms/step\n",
      "Forecasted High: 161.64558674275875, Low: 155.5868395972252\n",
      "\u001b[1m1/1\u001b[0m \u001b[32m━━━━━━━━━━━━━━━━━━━━\u001b[0m\u001b[37m\u001b[0m \u001b[1m0s\u001b[0m 20ms/step\n",
      "Forecasted High: 161.93867741703988, Low: 155.83740660309792\n",
      "\u001b[1m1/1\u001b[0m \u001b[32m━━━━━━━━━━━━━━━━━━━━\u001b[0m\u001b[37m\u001b[0m \u001b[1m0s\u001b[0m 21ms/step\n",
      "Forecasted High: 159.42791435241702, Low: 153.14014512062073\n",
      "\u001b[1m1/1\u001b[0m \u001b[32m━━━━━━━━━━━━━━━━━━━━\u001b[0m\u001b[37m\u001b[0m \u001b[1m0s\u001b[0m 22ms/step\n",
      "Forecasted High: 164.5514341545105, Low: 158.4870533180237\n",
      "\u001b[1m1/1\u001b[0m \u001b[32m━━━━━━━━━━━━━━━━━━━━\u001b[0m\u001b[37m\u001b[0m \u001b[1m0s\u001b[0m 21ms/step\n",
      "Forecasted High: 158.64817621827126, Low: 152.08190714478494\n",
      "\u001b[1m1/1\u001b[0m \u001b[32m━━━━━━━━━━━━━━━━━━━━\u001b[0m\u001b[37m\u001b[0m \u001b[1m0s\u001b[0m 21ms/step\n",
      "Forecasted High: 161.95697570204737, Low: 155.62712901592255\n",
      "\u001b[1m1/1\u001b[0m \u001b[32m━━━━━━━━━━━━━━━━━━━━\u001b[0m\u001b[37m\u001b[0m \u001b[1m0s\u001b[0m 21ms/step\n",
      "Forecasted High: 163.62869698405268, Low: 157.32267700195314\n",
      "\u001b[1m1/1\u001b[0m \u001b[32m━━━━━━━━━━━━━━━━━━━━\u001b[0m\u001b[37m\u001b[0m \u001b[1m0s\u001b[0m 23ms/step\n",
      "Forecasted High: 168.63199203550818, Low: 162.66702225923538\n",
      "\u001b[1m1/1\u001b[0m \u001b[32m━━━━━━━━━━━━━━━━━━━━\u001b[0m\u001b[37m\u001b[0m \u001b[1m0s\u001b[0m 21ms/step\n",
      "Forecasted High: 165.3445241224766, Low: 159.16777021408083\n",
      "\u001b[1m1/1\u001b[0m \u001b[32m━━━━━━━━━━━━━━━━━━━━\u001b[0m\u001b[37m\u001b[0m \u001b[1m0s\u001b[0m 21ms/step\n",
      "Forecasted High: 166.5114027106762, Low: 160.54488453984263\n",
      "\u001b[1m1/1\u001b[0m \u001b[32m━━━━━━━━━━━━━━━━━━━━\u001b[0m\u001b[37m\u001b[0m \u001b[1m0s\u001b[0m 21ms/step\n",
      "Forecasted High: 164.6298515355587, Low: 158.65993527889253\n",
      "\u001b[1m1/1\u001b[0m \u001b[32m━━━━━━━━━━━━━━━━━━━━\u001b[0m\u001b[37m\u001b[0m \u001b[1m0s\u001b[0m 21ms/step\n",
      "Forecasted High: 165.70181561112406, Low: 159.8741118514538\n",
      "\u001b[1m1/1\u001b[0m \u001b[32m━━━━━━━━━━━━━━━━━━━━\u001b[0m\u001b[37m\u001b[0m \u001b[1m0s\u001b[0m 20ms/step\n",
      "Forecasted High: 165.46111520290376, Low: 159.6379858481884\n",
      "\u001b[1m1/1\u001b[0m \u001b[32m━━━━━━━━━━━━━━━━━━━━\u001b[0m\u001b[37m\u001b[0m \u001b[1m0s\u001b[0m 21ms/step\n",
      "Forecasted High: 162.92033291459086, Low: 156.9909440124035\n",
      "\u001b[1m1/1\u001b[0m \u001b[32m━━━━━━━━━━━━━━━━━━━━\u001b[0m\u001b[37m\u001b[0m \u001b[1m0s\u001b[0m 21ms/step\n",
      "Forecasted High: 160.41375909984114, Low: 154.27776434183122\n",
      "\u001b[1m1/1\u001b[0m \u001b[32m━━━━━━━━━━━━━━━━━━━━\u001b[0m\u001b[37m\u001b[0m \u001b[1m0s\u001b[0m 20ms/step\n",
      "Forecasted High: 153.03957712471487, Low: 146.46770293235778\n",
      "\u001b[1m1/1\u001b[0m \u001b[32m━━━━━━━━━━━━━━━━━━━━\u001b[0m\u001b[37m\u001b[0m \u001b[1m0s\u001b[0m 22ms/step\n",
      "Forecasted High: 152.33983350098134, Low: 145.467541179657\n",
      "\u001b[1m1/1\u001b[0m \u001b[32m━━━━━━━━━━━━━━━━━━━━\u001b[0m\u001b[37m\u001b[0m \u001b[1m0s\u001b[0m 21ms/step\n",
      "Forecasted High: 152.33642833530905, Low: 145.21888472914696\n",
      "\u001b[1m1/1\u001b[0m \u001b[32m━━━━━━━━━━━━━━━━━━━━\u001b[0m\u001b[37m\u001b[0m \u001b[1m0s\u001b[0m 22ms/step\n",
      "Forecasted High: 151.83793000280858, Low: 144.51397833824157\n"
     ]
    }
   ],
   "source": [
    "ohlc_scaled_data = ohlc_scaler.fit_transform(test_data[['open', 'high', 'low', 'close']])\n",
    "volume_scaled_data = volume_scaler.fit_transform(test_data[['volume']])\n",
    "scaled_test_data = np.hstack((ohlc_scaled_data, volume_scaled_data))\n",
    "x_test, y_test = data_prep(scaled_test_data, sequence_length=5)\n",
    "\n",
    "\n",
    "# Forecast future prices\n",
    "forecast_length = len(y_test)\n",
    "# last_x = x_test[-1]\n",
    "forecast_prices = []\n",
    "\n",
    "for i in range(forecast_length):\n",
    "    test_row = x_test[i]\n",
    "    # Predict high and low prices\n",
    "    scaled_pred = model.predict(np.array([test_row]))  # shape (1, 2)\n",
    "    scaled_high, scaled_low = scaled_pred[0]\n",
    "    # create a dummy row for inverse transform\n",
    "    dummy = np.zeros((1, 4))  # because ohlc_scaler was fit on (open, high, low, close)\n",
    "    dummy[0, 1] = scaled_high  # place high at index 1\n",
    "    dummy[0, 2] = scaled_low   # place low at index 2\n",
    "    # inverse transform\n",
    "    inversed = ohlc_scaler.inverse_transform(dummy)\n",
    "    high_price, low_price = inversed[0, 1], inversed[0, 2]\n",
    "    print(f\"Forecasted High: {high_price}, Low: {low_price}\")\n",
    "    # append to results\n",
    "    forecast_prices.append([high_price, low_price])\n",
    "\n",
    "\n",
    "forecast_prices = np.array(forecast_prices)\n"
   ]
  },
  {
   "cell_type": "code",
   "execution_count": 33,
   "metadata": {},
   "outputs": [
    {
     "name": "stderr",
     "output_type": "stream",
     "text": [
      "/tmp/ipykernel_48648/3415770437.py:1: SettingWithCopyWarning:\n",
      "\n",
      "\n",
      "A value is trying to be set on a copy of a slice from a DataFrame.\n",
      "Try using .loc[row_indexer,col_indexer] = value instead\n",
      "\n",
      "See the caveats in the documentation: https://pandas.pydata.org/pandas-docs/stable/user_guide/indexing.html#returning-a-view-versus-a-copy\n",
      "\n",
      "/tmp/ipykernel_48648/3415770437.py:2: SettingWithCopyWarning:\n",
      "\n",
      "\n",
      "A value is trying to be set on a copy of a slice from a DataFrame.\n",
      "Try using .loc[row_indexer,col_indexer] = value instead\n",
      "\n",
      "See the caveats in the documentation: https://pandas.pydata.org/pandas-docs/stable/user_guide/indexing.html#returning-a-view-versus-a-copy\n",
      "\n"
     ]
    }
   ],
   "source": [
    "test_data.loc[test_data.index[-forecast_length:], 'forecast_high'] = forecast_prices[:,0]\n",
    "test_data.loc[test_data.index[-forecast_length:], 'forecast_low'] = forecast_prices[:,1]\n",
    "forecast_df = test_data\n"
   ]
  },
  {
   "cell_type": "code",
   "execution_count": 34,
   "metadata": {},
   "outputs": [
    {
     "data": {
      "application/vnd.plotly.v1+json": {
       "config": {
        "plotlyServerURL": "https://plot.ly"
       },
       "data": [
        {
         "name": "Actual High Price",
         "type": "scatter",
         "x": [
          "2025-03-25T00:00:00.000000000",
          "2025-03-26T00:00:00.000000000",
          "2025-03-27T00:00:00.000000000",
          "2025-03-28T00:00:00.000000000",
          "2025-03-29T00:00:00.000000000",
          "2025-03-30T00:00:00.000000000",
          "2025-03-31T00:00:00.000000000",
          "2025-04-01T00:00:00.000000000",
          "2025-04-02T00:00:00.000000000",
          "2025-04-03T00:00:00.000000000",
          "2025-04-04T00:00:00.000000000",
          "2025-04-05T00:00:00.000000000",
          "2025-04-06T00:00:00.000000000",
          "2025-04-07T00:00:00.000000000",
          "2025-04-08T00:00:00.000000000",
          "2025-04-09T00:00:00.000000000",
          "2025-04-10T00:00:00.000000000",
          "2025-04-11T00:00:00.000000000",
          "2025-04-12T00:00:00.000000000",
          "2025-04-13T00:00:00.000000000",
          "2025-04-14T00:00:00.000000000",
          "2025-04-15T00:00:00.000000000",
          "2025-04-16T00:00:00.000000000",
          "2025-04-17T00:00:00.000000000",
          "2025-04-18T00:00:00.000000000",
          "2025-04-19T00:00:00.000000000",
          "2025-04-20T00:00:00.000000000",
          "2025-04-21T00:00:00.000000000",
          "2025-04-22T00:00:00.000000000",
          "2025-04-23T00:00:00.000000000",
          "2025-04-24T00:00:00.000000000",
          "2025-04-25T00:00:00.000000000",
          "2025-04-26T00:00:00.000000000",
          "2025-04-27T00:00:00.000000000",
          "2025-04-28T00:00:00.000000000",
          "2025-04-29T00:00:00.000000000",
          "2025-04-30T00:00:00.000000000",
          "2025-05-01T00:00:00.000000000",
          "2025-05-02T00:00:00.000000000",
          "2025-05-03T00:00:00.000000000",
          "2025-05-04T00:00:00.000000000",
          "2025-05-05T00:00:00.000000000",
          "2025-05-06T00:00:00.000000000",
          "2025-05-07T00:00:00.000000000",
          "2025-05-08T00:00:00.000000000",
          "2025-05-09T00:00:00.000000000",
          "2025-05-10T00:00:00.000000000",
          "2025-05-11T00:00:00.000000000",
          "2025-05-12T00:00:00.000000000",
          "2025-05-13T00:00:00.000000000",
          "2025-05-14T00:00:00.000000000",
          "2025-05-15T00:00:00.000000000",
          "2025-05-16T00:00:00.000000000",
          "2025-05-17T00:00:00.000000000",
          "2025-05-18T00:00:00.000000000",
          "2025-05-19T00:00:00.000000000",
          "2025-05-20T00:00:00.000000000",
          "2025-05-21T00:00:00.000000000",
          "2025-05-22T00:00:00.000000000",
          "2025-05-23T00:00:00.000000000",
          "2025-05-24T00:00:00.000000000",
          "2025-05-25T00:00:00.000000000",
          "2025-05-26T00:00:00.000000000",
          "2025-05-27T00:00:00.000000000",
          "2025-05-28T00:00:00.000000000",
          "2025-05-29T00:00:00.000000000",
          "2025-05-30T00:00:00.000000000",
          "2025-05-31T00:00:00.000000000",
          "2025-06-01T00:00:00.000000000",
          "2025-06-02T00:00:00.000000000",
          "2025-06-03T00:00:00.000000000"
         ],
         "y": {
          "bdata": "hetRuB5tYkCF61G4Hi1iQBSuR+F6hGFAj8L1KFxfYUBmZmZmZk5gQHE9CtejwF9ApHA9CtfzX0AUrkfhekxgQGZmZmZmBmFAKVyPwvU4XkA9CtejcP1eQDMzMzMzs15AhetRuB5FXkDsUbgehUtcQAAAAAAAIFxAXI/C9SgsXkDD9Shcj9JdQJqZmZmZqV5AAAAAAADAYECuR+F6FL5gQHsUrkfhAmFAhetRuB7NYEBcj8L1KLxgQLgehetRCGFAZmZmZmb+YEAfhetRuJZhQKRwPQrXu2FAAAAAAADoYUDhehSuR8liQBSuR+F6RGNAH4XrUbgeY0BI4XoUrqdjQM3MzMzMJGNApHA9CtfLYkAzMzMzMytjQKRwPQrXy2JAFK5H4XqUYkBcj8L1KDxjQOxRuB6F+2JAAAAAAACgYkDhehSuR3liQD0K16NwdWJAPQrXo3BlYkDXo3A9Cq9iQOxRuB6Fk2RAhetRuB4FZkD2KFyPwl1mQOF6FK5HiWZArkfhehSuZkCamZmZmRlnQKRwPQrXG2dAj8L1KFxHZkCF61G4HsVlQGZmZmZmPmVAj8L1KFwXZkCkcD0K17tlQFK4HoXroWVAPQrXo3D9ZUAK16NwPZpmQD0K16NwdWdA16NwPQpHZkAK16NwPRpmQB+F61G4XmZApHA9CtdrZkBcj8L1KCxmQClcj8L16GVAhetRuB7tZEA9CtejcL1jQDMzMzMzu2NAexSuR+HaY0AK16NwPXJkQA==",
          "dtype": "f8"
         }
        },
        {
         "name": "Forecast High Price",
         "type": "scatter",
         "x": [
          "2025-03-25T00:00:00.000000000",
          "2025-03-26T00:00:00.000000000",
          "2025-03-27T00:00:00.000000000",
          "2025-03-28T00:00:00.000000000",
          "2025-03-29T00:00:00.000000000",
          "2025-03-30T00:00:00.000000000",
          "2025-03-31T00:00:00.000000000",
          "2025-04-01T00:00:00.000000000",
          "2025-04-02T00:00:00.000000000",
          "2025-04-03T00:00:00.000000000",
          "2025-04-04T00:00:00.000000000",
          "2025-04-05T00:00:00.000000000",
          "2025-04-06T00:00:00.000000000",
          "2025-04-07T00:00:00.000000000",
          "2025-04-08T00:00:00.000000000",
          "2025-04-09T00:00:00.000000000",
          "2025-04-10T00:00:00.000000000",
          "2025-04-11T00:00:00.000000000",
          "2025-04-12T00:00:00.000000000",
          "2025-04-13T00:00:00.000000000",
          "2025-04-14T00:00:00.000000000",
          "2025-04-15T00:00:00.000000000",
          "2025-04-16T00:00:00.000000000",
          "2025-04-17T00:00:00.000000000",
          "2025-04-18T00:00:00.000000000",
          "2025-04-19T00:00:00.000000000",
          "2025-04-20T00:00:00.000000000",
          "2025-04-21T00:00:00.000000000",
          "2025-04-22T00:00:00.000000000",
          "2025-04-23T00:00:00.000000000",
          "2025-04-24T00:00:00.000000000",
          "2025-04-25T00:00:00.000000000",
          "2025-04-26T00:00:00.000000000",
          "2025-04-27T00:00:00.000000000",
          "2025-04-28T00:00:00.000000000",
          "2025-04-29T00:00:00.000000000",
          "2025-04-30T00:00:00.000000000",
          "2025-05-01T00:00:00.000000000",
          "2025-05-02T00:00:00.000000000",
          "2025-05-03T00:00:00.000000000",
          "2025-05-04T00:00:00.000000000",
          "2025-05-05T00:00:00.000000000",
          "2025-05-06T00:00:00.000000000",
          "2025-05-07T00:00:00.000000000",
          "2025-05-08T00:00:00.000000000",
          "2025-05-09T00:00:00.000000000",
          "2025-05-10T00:00:00.000000000",
          "2025-05-11T00:00:00.000000000",
          "2025-05-12T00:00:00.000000000",
          "2025-05-13T00:00:00.000000000",
          "2025-05-14T00:00:00.000000000",
          "2025-05-15T00:00:00.000000000",
          "2025-05-16T00:00:00.000000000",
          "2025-05-17T00:00:00.000000000",
          "2025-05-18T00:00:00.000000000",
          "2025-05-19T00:00:00.000000000",
          "2025-05-20T00:00:00.000000000",
          "2025-05-21T00:00:00.000000000",
          "2025-05-22T00:00:00.000000000",
          "2025-05-23T00:00:00.000000000",
          "2025-05-24T00:00:00.000000000",
          "2025-05-25T00:00:00.000000000",
          "2025-05-26T00:00:00.000000000",
          "2025-05-27T00:00:00.000000000",
          "2025-05-28T00:00:00.000000000",
          "2025-05-29T00:00:00.000000000",
          "2025-05-30T00:00:00.000000000",
          "2025-05-31T00:00:00.000000000",
          "2025-06-01T00:00:00.000000000",
          "2025-06-02T00:00:00.000000000",
          "2025-06-03T00:00:00.000000000"
         ],
         "y": {
          "bdata": "AAAAAAAA+H8AAAAAAAD4fwAAAAAAAPh/AAAAAAAA+H8AAAAAAAD4fwrXWyqAwF9APgo/RSdnX0AK19v3t15fQNejEJCe219ApHA1LGQSX0C5HilhwCNeQBWui7ibfV5ASOFu7ELSXkCF6w/sF5xdQKRwC9Qc+VxAMzOuUywrXUDNzIC2XPpdQHE9Xtobtl5ACtdjZKM7X0B7FOS+zWJgQHsULgoeeGBA9ihYBhF7YEApXAVzgz1gQDMzbQR/UGBAPQqPrV3KYEDhekz3iuRgQPYoZOKMSGFAw/Uo6olFYUBcj4JJDBthQClcp59/CmJA9ig8Ie+YYkDNzPTnbItiQLgePWQ/omJAmpkBQm5wYkD2KMx5CjZiQBSud0fjMmJASOEKT3IYYkD2KGRo1/9hQKRwBe79e2JACtebOFxHYkAzM6Pq8htiQLgeRV2U3GFAAABIRAjwYUApXF/r8u1hQMP1OEgFEGJAKlyP6o2EY0ApXMfdKXlkQB+FA/h8zGRAH4W75Vt2ZEDD9bAvM6dkQFK4Bu/pTGVApHDlsm+9ZEApXIelqDRkQMP1OKUJPmRA2KNwebHtY0CkcD1ZpZFkQKRwDdy91GNAhuuBi58+ZEA0MyNJHnRkQOJ6XEc5FGVAC9dzVwarZEAVrjdpXdBkQOxRaL4nlGRANDMDRnW2ZEAfhat0wa5kQDQzA15zXWRAr0e5gz0NZEA+Cj83RCFjQJqZgerfCmNANDNbBcQKY0DNzJRS0PpiQA==",
          "dtype": "f8"
         }
        },
        {
         "name": "Actual Low Price",
         "type": "scatter",
         "x": [
          "2025-03-25T00:00:00.000000000",
          "2025-03-26T00:00:00.000000000",
          "2025-03-27T00:00:00.000000000",
          "2025-03-28T00:00:00.000000000",
          "2025-03-29T00:00:00.000000000",
          "2025-03-30T00:00:00.000000000",
          "2025-03-31T00:00:00.000000000",
          "2025-04-01T00:00:00.000000000",
          "2025-04-02T00:00:00.000000000",
          "2025-04-03T00:00:00.000000000",
          "2025-04-04T00:00:00.000000000",
          "2025-04-05T00:00:00.000000000",
          "2025-04-06T00:00:00.000000000",
          "2025-04-07T00:00:00.000000000",
          "2025-04-08T00:00:00.000000000",
          "2025-04-09T00:00:00.000000000",
          "2025-04-10T00:00:00.000000000",
          "2025-04-11T00:00:00.000000000",
          "2025-04-12T00:00:00.000000000",
          "2025-04-13T00:00:00.000000000",
          "2025-04-14T00:00:00.000000000",
          "2025-04-15T00:00:00.000000000",
          "2025-04-16T00:00:00.000000000",
          "2025-04-17T00:00:00.000000000",
          "2025-04-18T00:00:00.000000000",
          "2025-04-19T00:00:00.000000000",
          "2025-04-20T00:00:00.000000000",
          "2025-04-21T00:00:00.000000000",
          "2025-04-22T00:00:00.000000000",
          "2025-04-23T00:00:00.000000000",
          "2025-04-24T00:00:00.000000000",
          "2025-04-25T00:00:00.000000000",
          "2025-04-26T00:00:00.000000000",
          "2025-04-27T00:00:00.000000000",
          "2025-04-28T00:00:00.000000000",
          "2025-04-29T00:00:00.000000000",
          "2025-04-30T00:00:00.000000000",
          "2025-05-01T00:00:00.000000000",
          "2025-05-02T00:00:00.000000000",
          "2025-05-03T00:00:00.000000000",
          "2025-05-04T00:00:00.000000000",
          "2025-05-05T00:00:00.000000000",
          "2025-05-06T00:00:00.000000000",
          "2025-05-07T00:00:00.000000000",
          "2025-05-08T00:00:00.000000000",
          "2025-05-09T00:00:00.000000000",
          "2025-05-10T00:00:00.000000000",
          "2025-05-11T00:00:00.000000000",
          "2025-05-12T00:00:00.000000000",
          "2025-05-13T00:00:00.000000000",
          "2025-05-14T00:00:00.000000000",
          "2025-05-15T00:00:00.000000000",
          "2025-05-16T00:00:00.000000000",
          "2025-05-17T00:00:00.000000000",
          "2025-05-18T00:00:00.000000000",
          "2025-05-19T00:00:00.000000000",
          "2025-05-20T00:00:00.000000000",
          "2025-05-21T00:00:00.000000000",
          "2025-05-22T00:00:00.000000000",
          "2025-05-23T00:00:00.000000000",
          "2025-05-24T00:00:00.000000000",
          "2025-05-25T00:00:00.000000000",
          "2025-05-26T00:00:00.000000000",
          "2025-05-27T00:00:00.000000000",
          "2025-05-28T00:00:00.000000000",
          "2025-05-29T00:00:00.000000000",
          "2025-05-30T00:00:00.000000000",
          "2025-05-31T00:00:00.000000000",
          "2025-06-01T00:00:00.000000000",
          "2025-06-02T00:00:00.000000000",
          "2025-06-03T00:00:00.000000000"
         ],
         "y": {
          "bdata": "exSuR+FCYUApXI/C9fhgQAAAAAAA8GBAH4XrUbjeX0DhehSuR6FeQKRwPQrXs15AhetRuB6lXkCamZmZmeleQOF6FK5HQV1AexSuR+EKXEBcj8L1KExcQIXrUbgeRV1AcT0K16PwWUBcj8L1KMxXQEjhehSut1lAH4XrUbhOWUA9CtejcA1bQPYoXI/CBVxAw/UoXI/SXUBSuB6F61FfQJqZmZmZ+V9AH4XrUbhuX0AK16NwPdpeQM3MzMzMLGBA7FG4HoWLYEAAAAAAALBgQAAAAAAA8GBAAAAAAAC4YEDNzMzMzMxgQAAAAAAAYGJAUrgeheshYkAAAAAAALhiQIXrUbgedWJAFK5H4XosYkApXI/C9RBiQOF6FK5HGWJAAAAAAACIYUDXo3A9Cm9iQGZmZmZmZmJASOF6FK43YkCamZmZmfFhQD0K16NwzWFAmpmZmZmpYUB7FK5H4RJiQLgehetRYGJAcT0K16MgZED2KFyPwhVlQFyPwvUoJGVAcT0K16MIZUCkcD0K18NkQM3MzMzMpGVAmpmZmZnRZEDXo3A9CsdkQIXrUbgefWRAAAAAAACQZEApXI/C9ehjQM3MzMzMjGRAexSuR+GqZEDNzMzMzIxlQPYoXI/CpWVAcT0K16OQZUCamZmZmSFlQKRwPQrXq2VAUrgehethZUCamZmZmRllQKRwPQrXu2RAuB6F61FgY0BSuB6F6wFjQI/C9Shcz2JAcT0K16PwYkAAAAAAAEBjQA==",
          "dtype": "f8"
         }
        },
        {
         "name": "Forecast Low Price",
         "type": "scatter",
         "x": [
          "2025-03-25T00:00:00.000000000",
          "2025-03-26T00:00:00.000000000",
          "2025-03-27T00:00:00.000000000",
          "2025-03-28T00:00:00.000000000",
          "2025-03-29T00:00:00.000000000",
          "2025-03-30T00:00:00.000000000",
          "2025-03-31T00:00:00.000000000",
          "2025-04-01T00:00:00.000000000",
          "2025-04-02T00:00:00.000000000",
          "2025-04-03T00:00:00.000000000",
          "2025-04-04T00:00:00.000000000",
          "2025-04-05T00:00:00.000000000",
          "2025-04-06T00:00:00.000000000",
          "2025-04-07T00:00:00.000000000",
          "2025-04-08T00:00:00.000000000",
          "2025-04-09T00:00:00.000000000",
          "2025-04-10T00:00:00.000000000",
          "2025-04-11T00:00:00.000000000",
          "2025-04-12T00:00:00.000000000",
          "2025-04-13T00:00:00.000000000",
          "2025-04-14T00:00:00.000000000",
          "2025-04-15T00:00:00.000000000",
          "2025-04-16T00:00:00.000000000",
          "2025-04-17T00:00:00.000000000",
          "2025-04-18T00:00:00.000000000",
          "2025-04-19T00:00:00.000000000",
          "2025-04-20T00:00:00.000000000",
          "2025-04-21T00:00:00.000000000",
          "2025-04-22T00:00:00.000000000",
          "2025-04-23T00:00:00.000000000",
          "2025-04-24T00:00:00.000000000",
          "2025-04-25T00:00:00.000000000",
          "2025-04-26T00:00:00.000000000",
          "2025-04-27T00:00:00.000000000",
          "2025-04-28T00:00:00.000000000",
          "2025-04-29T00:00:00.000000000",
          "2025-04-30T00:00:00.000000000",
          "2025-05-01T00:00:00.000000000",
          "2025-05-02T00:00:00.000000000",
          "2025-05-03T00:00:00.000000000",
          "2025-05-04T00:00:00.000000000",
          "2025-05-05T00:00:00.000000000",
          "2025-05-06T00:00:00.000000000",
          "2025-05-07T00:00:00.000000000",
          "2025-05-08T00:00:00.000000000",
          "2025-05-09T00:00:00.000000000",
          "2025-05-10T00:00:00.000000000",
          "2025-05-11T00:00:00.000000000",
          "2025-05-12T00:00:00.000000000",
          "2025-05-13T00:00:00.000000000",
          "2025-05-14T00:00:00.000000000",
          "2025-05-15T00:00:00.000000000",
          "2025-05-16T00:00:00.000000000",
          "2025-05-17T00:00:00.000000000",
          "2025-05-18T00:00:00.000000000",
          "2025-05-19T00:00:00.000000000",
          "2025-05-20T00:00:00.000000000",
          "2025-05-21T00:00:00.000000000",
          "2025-05-22T00:00:00.000000000",
          "2025-05-23T00:00:00.000000000",
          "2025-05-24T00:00:00.000000000",
          "2025-05-25T00:00:00.000000000",
          "2025-05-26T00:00:00.000000000",
          "2025-05-27T00:00:00.000000000",
          "2025-05-28T00:00:00.000000000",
          "2025-05-29T00:00:00.000000000",
          "2025-05-30T00:00:00.000000000",
          "2025-05-31T00:00:00.000000000",
          "2025-06-01T00:00:00.000000000",
          "2025-06-02T00:00:00.000000000",
          "2025-06-03T00:00:00.000000000"
         ],
         "y": {
          "bdata": "AAAAAAAA+H8AAAAAAAD4fwAAAAAAAPh/AAAAAAAA+H8AAAAAAAD4f+F6pF+wOl1AuB5FxU7YXECPwqVpqs5cQB+FO0x+XV1AhesxhGVsXECF6yH2fR1bQHsUXhd7hVtAUrief8X9W0AUrqfuzgZaQAAAhK0IbVlAj8J9j9PFWUDNzEzCYLBaQGZmZj3jWVtASOGakZf4W0AAANDqj/1dQPYoXEdbOV5AH4VrcPtgXkCF66FdneNdQK5Hcb/6El5AH4Wb/GocX0B7FC6PoVVfQArXq37DGmBAhevBCDcaYEBcj+L2u+hfQEjhqhYuAmFAkMI1oO6PYUCF69GRJXxhQAAAwMWCl2FAMzNzqB9pYUAzM6NcuTBhQLgelb+vL2FAZ2amceATYUAK11Oc+vhgQD4Kd6a1emFAZ2ZmlcZAYUDsUbg7gBVhQJqZee9k02BAAABQklvtYEDNzDzAa+5gQBWud2sSE2FAAADgQWemYkCuR7GYT51jQEjhaiDb92NA9igcwy2lY0AVrqfxSeBjQHE9+mbKlWRAhetxMCwBZECQwtVjx3JjQFK47gjMemNAUrieEXwkY0A+Ctfwlc9jQB+Fu/ueAmNAUrjecBF0Y0DsUbheU6pjQNejED9YVWRAC9ejX17lY0AL17OxbxFkQD4KlzAe1WNASOFqufj7Y0D2KExhavRjQBWuN9C1n2NAH4ULcuNIY0AK1yNs905iQB+F6xj2LmJA9iiMGgEnYkAzM7OCchBiQA==",
          "dtype": "f8"
         }
        }
       ],
       "layout": {
        "template": {
         "data": {
          "bar": [
           {
            "error_x": {
             "color": "#2a3f5f"
            },
            "error_y": {
             "color": "#2a3f5f"
            },
            "marker": {
             "line": {
              "color": "#E5ECF6",
              "width": 0.5
             },
             "pattern": {
              "fillmode": "overlay",
              "size": 10,
              "solidity": 0.2
             }
            },
            "type": "bar"
           }
          ],
          "barpolar": [
           {
            "marker": {
             "line": {
              "color": "#E5ECF6",
              "width": 0.5
             },
             "pattern": {
              "fillmode": "overlay",
              "size": 10,
              "solidity": 0.2
             }
            },
            "type": "barpolar"
           }
          ],
          "carpet": [
           {
            "aaxis": {
             "endlinecolor": "#2a3f5f",
             "gridcolor": "white",
             "linecolor": "white",
             "minorgridcolor": "white",
             "startlinecolor": "#2a3f5f"
            },
            "baxis": {
             "endlinecolor": "#2a3f5f",
             "gridcolor": "white",
             "linecolor": "white",
             "minorgridcolor": "white",
             "startlinecolor": "#2a3f5f"
            },
            "type": "carpet"
           }
          ],
          "choropleth": [
           {
            "colorbar": {
             "outlinewidth": 0,
             "ticks": ""
            },
            "type": "choropleth"
           }
          ],
          "contour": [
           {
            "colorbar": {
             "outlinewidth": 0,
             "ticks": ""
            },
            "colorscale": [
             [
              0,
              "#0d0887"
             ],
             [
              0.1111111111111111,
              "#46039f"
             ],
             [
              0.2222222222222222,
              "#7201a8"
             ],
             [
              0.3333333333333333,
              "#9c179e"
             ],
             [
              0.4444444444444444,
              "#bd3786"
             ],
             [
              0.5555555555555556,
              "#d8576b"
             ],
             [
              0.6666666666666666,
              "#ed7953"
             ],
             [
              0.7777777777777778,
              "#fb9f3a"
             ],
             [
              0.8888888888888888,
              "#fdca26"
             ],
             [
              1,
              "#f0f921"
             ]
            ],
            "type": "contour"
           }
          ],
          "contourcarpet": [
           {
            "colorbar": {
             "outlinewidth": 0,
             "ticks": ""
            },
            "type": "contourcarpet"
           }
          ],
          "heatmap": [
           {
            "colorbar": {
             "outlinewidth": 0,
             "ticks": ""
            },
            "colorscale": [
             [
              0,
              "#0d0887"
             ],
             [
              0.1111111111111111,
              "#46039f"
             ],
             [
              0.2222222222222222,
              "#7201a8"
             ],
             [
              0.3333333333333333,
              "#9c179e"
             ],
             [
              0.4444444444444444,
              "#bd3786"
             ],
             [
              0.5555555555555556,
              "#d8576b"
             ],
             [
              0.6666666666666666,
              "#ed7953"
             ],
             [
              0.7777777777777778,
              "#fb9f3a"
             ],
             [
              0.8888888888888888,
              "#fdca26"
             ],
             [
              1,
              "#f0f921"
             ]
            ],
            "type": "heatmap"
           }
          ],
          "histogram": [
           {
            "marker": {
             "pattern": {
              "fillmode": "overlay",
              "size": 10,
              "solidity": 0.2
             }
            },
            "type": "histogram"
           }
          ],
          "histogram2d": [
           {
            "colorbar": {
             "outlinewidth": 0,
             "ticks": ""
            },
            "colorscale": [
             [
              0,
              "#0d0887"
             ],
             [
              0.1111111111111111,
              "#46039f"
             ],
             [
              0.2222222222222222,
              "#7201a8"
             ],
             [
              0.3333333333333333,
              "#9c179e"
             ],
             [
              0.4444444444444444,
              "#bd3786"
             ],
             [
              0.5555555555555556,
              "#d8576b"
             ],
             [
              0.6666666666666666,
              "#ed7953"
             ],
             [
              0.7777777777777778,
              "#fb9f3a"
             ],
             [
              0.8888888888888888,
              "#fdca26"
             ],
             [
              1,
              "#f0f921"
             ]
            ],
            "type": "histogram2d"
           }
          ],
          "histogram2dcontour": [
           {
            "colorbar": {
             "outlinewidth": 0,
             "ticks": ""
            },
            "colorscale": [
             [
              0,
              "#0d0887"
             ],
             [
              0.1111111111111111,
              "#46039f"
             ],
             [
              0.2222222222222222,
              "#7201a8"
             ],
             [
              0.3333333333333333,
              "#9c179e"
             ],
             [
              0.4444444444444444,
              "#bd3786"
             ],
             [
              0.5555555555555556,
              "#d8576b"
             ],
             [
              0.6666666666666666,
              "#ed7953"
             ],
             [
              0.7777777777777778,
              "#fb9f3a"
             ],
             [
              0.8888888888888888,
              "#fdca26"
             ],
             [
              1,
              "#f0f921"
             ]
            ],
            "type": "histogram2dcontour"
           }
          ],
          "mesh3d": [
           {
            "colorbar": {
             "outlinewidth": 0,
             "ticks": ""
            },
            "type": "mesh3d"
           }
          ],
          "parcoords": [
           {
            "line": {
             "colorbar": {
              "outlinewidth": 0,
              "ticks": ""
             }
            },
            "type": "parcoords"
           }
          ],
          "pie": [
           {
            "automargin": true,
            "type": "pie"
           }
          ],
          "scatter": [
           {
            "fillpattern": {
             "fillmode": "overlay",
             "size": 10,
             "solidity": 0.2
            },
            "type": "scatter"
           }
          ],
          "scatter3d": [
           {
            "line": {
             "colorbar": {
              "outlinewidth": 0,
              "ticks": ""
             }
            },
            "marker": {
             "colorbar": {
              "outlinewidth": 0,
              "ticks": ""
             }
            },
            "type": "scatter3d"
           }
          ],
          "scattercarpet": [
           {
            "marker": {
             "colorbar": {
              "outlinewidth": 0,
              "ticks": ""
             }
            },
            "type": "scattercarpet"
           }
          ],
          "scattergeo": [
           {
            "marker": {
             "colorbar": {
              "outlinewidth": 0,
              "ticks": ""
             }
            },
            "type": "scattergeo"
           }
          ],
          "scattergl": [
           {
            "marker": {
             "colorbar": {
              "outlinewidth": 0,
              "ticks": ""
             }
            },
            "type": "scattergl"
           }
          ],
          "scattermap": [
           {
            "marker": {
             "colorbar": {
              "outlinewidth": 0,
              "ticks": ""
             }
            },
            "type": "scattermap"
           }
          ],
          "scattermapbox": [
           {
            "marker": {
             "colorbar": {
              "outlinewidth": 0,
              "ticks": ""
             }
            },
            "type": "scattermapbox"
           }
          ],
          "scatterpolar": [
           {
            "marker": {
             "colorbar": {
              "outlinewidth": 0,
              "ticks": ""
             }
            },
            "type": "scatterpolar"
           }
          ],
          "scatterpolargl": [
           {
            "marker": {
             "colorbar": {
              "outlinewidth": 0,
              "ticks": ""
             }
            },
            "type": "scatterpolargl"
           }
          ],
          "scatterternary": [
           {
            "marker": {
             "colorbar": {
              "outlinewidth": 0,
              "ticks": ""
             }
            },
            "type": "scatterternary"
           }
          ],
          "surface": [
           {
            "colorbar": {
             "outlinewidth": 0,
             "ticks": ""
            },
            "colorscale": [
             [
              0,
              "#0d0887"
             ],
             [
              0.1111111111111111,
              "#46039f"
             ],
             [
              0.2222222222222222,
              "#7201a8"
             ],
             [
              0.3333333333333333,
              "#9c179e"
             ],
             [
              0.4444444444444444,
              "#bd3786"
             ],
             [
              0.5555555555555556,
              "#d8576b"
             ],
             [
              0.6666666666666666,
              "#ed7953"
             ],
             [
              0.7777777777777778,
              "#fb9f3a"
             ],
             [
              0.8888888888888888,
              "#fdca26"
             ],
             [
              1,
              "#f0f921"
             ]
            ],
            "type": "surface"
           }
          ],
          "table": [
           {
            "cells": {
             "fill": {
              "color": "#EBF0F8"
             },
             "line": {
              "color": "white"
             }
            },
            "header": {
             "fill": {
              "color": "#C8D4E3"
             },
             "line": {
              "color": "white"
             }
            },
            "type": "table"
           }
          ]
         },
         "layout": {
          "annotationdefaults": {
           "arrowcolor": "#2a3f5f",
           "arrowhead": 0,
           "arrowwidth": 1
          },
          "autotypenumbers": "strict",
          "coloraxis": {
           "colorbar": {
            "outlinewidth": 0,
            "ticks": ""
           }
          },
          "colorscale": {
           "diverging": [
            [
             0,
             "#8e0152"
            ],
            [
             0.1,
             "#c51b7d"
            ],
            [
             0.2,
             "#de77ae"
            ],
            [
             0.3,
             "#f1b6da"
            ],
            [
             0.4,
             "#fde0ef"
            ],
            [
             0.5,
             "#f7f7f7"
            ],
            [
             0.6,
             "#e6f5d0"
            ],
            [
             0.7,
             "#b8e186"
            ],
            [
             0.8,
             "#7fbc41"
            ],
            [
             0.9,
             "#4d9221"
            ],
            [
             1,
             "#276419"
            ]
           ],
           "sequential": [
            [
             0,
             "#0d0887"
            ],
            [
             0.1111111111111111,
             "#46039f"
            ],
            [
             0.2222222222222222,
             "#7201a8"
            ],
            [
             0.3333333333333333,
             "#9c179e"
            ],
            [
             0.4444444444444444,
             "#bd3786"
            ],
            [
             0.5555555555555556,
             "#d8576b"
            ],
            [
             0.6666666666666666,
             "#ed7953"
            ],
            [
             0.7777777777777778,
             "#fb9f3a"
            ],
            [
             0.8888888888888888,
             "#fdca26"
            ],
            [
             1,
             "#f0f921"
            ]
           ],
           "sequentialminus": [
            [
             0,
             "#0d0887"
            ],
            [
             0.1111111111111111,
             "#46039f"
            ],
            [
             0.2222222222222222,
             "#7201a8"
            ],
            [
             0.3333333333333333,
             "#9c179e"
            ],
            [
             0.4444444444444444,
             "#bd3786"
            ],
            [
             0.5555555555555556,
             "#d8576b"
            ],
            [
             0.6666666666666666,
             "#ed7953"
            ],
            [
             0.7777777777777778,
             "#fb9f3a"
            ],
            [
             0.8888888888888888,
             "#fdca26"
            ],
            [
             1,
             "#f0f921"
            ]
           ]
          },
          "colorway": [
           "#636efa",
           "#EF553B",
           "#00cc96",
           "#ab63fa",
           "#FFA15A",
           "#19d3f3",
           "#FF6692",
           "#B6E880",
           "#FF97FF",
           "#FECB52"
          ],
          "font": {
           "color": "#2a3f5f"
          },
          "geo": {
           "bgcolor": "white",
           "lakecolor": "white",
           "landcolor": "#E5ECF6",
           "showlakes": true,
           "showland": true,
           "subunitcolor": "white"
          },
          "hoverlabel": {
           "align": "left"
          },
          "hovermode": "closest",
          "mapbox": {
           "style": "light"
          },
          "paper_bgcolor": "white",
          "plot_bgcolor": "#E5ECF6",
          "polar": {
           "angularaxis": {
            "gridcolor": "white",
            "linecolor": "white",
            "ticks": ""
           },
           "bgcolor": "#E5ECF6",
           "radialaxis": {
            "gridcolor": "white",
            "linecolor": "white",
            "ticks": ""
           }
          },
          "scene": {
           "xaxis": {
            "backgroundcolor": "#E5ECF6",
            "gridcolor": "white",
            "gridwidth": 2,
            "linecolor": "white",
            "showbackground": true,
            "ticks": "",
            "zerolinecolor": "white"
           },
           "yaxis": {
            "backgroundcolor": "#E5ECF6",
            "gridcolor": "white",
            "gridwidth": 2,
            "linecolor": "white",
            "showbackground": true,
            "ticks": "",
            "zerolinecolor": "white"
           },
           "zaxis": {
            "backgroundcolor": "#E5ECF6",
            "gridcolor": "white",
            "gridwidth": 2,
            "linecolor": "white",
            "showbackground": true,
            "ticks": "",
            "zerolinecolor": "white"
           }
          },
          "shapedefaults": {
           "line": {
            "color": "#2a3f5f"
           }
          },
          "ternary": {
           "aaxis": {
            "gridcolor": "white",
            "linecolor": "white",
            "ticks": ""
           },
           "baxis": {
            "gridcolor": "white",
            "linecolor": "white",
            "ticks": ""
           },
           "bgcolor": "#E5ECF6",
           "caxis": {
            "gridcolor": "white",
            "linecolor": "white",
            "ticks": ""
           }
          },
          "title": {
           "x": 0.05
          },
          "xaxis": {
           "automargin": true,
           "gridcolor": "white",
           "linecolor": "white",
           "ticks": "",
           "title": {
            "standoff": 15
           },
           "zerolinecolor": "white",
           "zerolinewidth": 2
          },
          "yaxis": {
           "automargin": true,
           "gridcolor": "white",
           "linecolor": "white",
           "ticks": "",
           "title": {
            "standoff": 15
           },
           "zerolinecolor": "white",
           "zerolinewidth": 2
          }
         }
        },
        "title": {
         "text": "SOL_USDT.csv Stock Price Prediction using LSTM"
        },
        "xaxis": {
         "title": {
          "text": "Date"
         }
        },
        "yaxis": {
         "title": {
          "text": "Price"
         }
        }
       }
      }
     },
     "metadata": {},
     "output_type": "display_data"
    }
   ],
   "source": [
    "# Create Plotly graph\n",
    "fig = go.Figure()\n",
    "fig.add_trace(go.Scatter(x=forecast_df.index, y=forecast_df['high'], name='Actual High Price'))\n",
    "fig.add_trace(go.Scatter(x=forecast_df.index, y=forecast_df['forecast_high'], name='Forecast High Price'))\n",
    "fig.add_trace(go.Scatter(x=forecast_df.index, y=forecast_df['low'], name='Actual Low Price'))\n",
    "fig.add_trace(go.Scatter(x=forecast_df.index, y=forecast_df['forecast_low'], name='Forecast Low Price'))\n",
    "fig.update_layout(title=f'{file_name} Stock Price Prediction using LSTM', xaxis_title='Date', yaxis_title='Price')\n",
    "fig.show()\n",
    "\n"
   ]
  },
  {
   "cell_type": "code",
   "execution_count": 35,
   "metadata": {},
   "outputs": [
    {
     "data": {
      "application/vnd.plotly.v1+json": {
       "config": {
        "plotlyServerURL": "https://plot.ly"
       },
       "data": [
        {
         "name": "Forecast High Price",
         "type": "scatter",
         "x": [
          "2025-03-25T00:00:00.000000000",
          "2025-03-26T00:00:00.000000000",
          "2025-03-27T00:00:00.000000000",
          "2025-03-28T00:00:00.000000000",
          "2025-03-29T00:00:00.000000000",
          "2025-03-30T00:00:00.000000000",
          "2025-03-31T00:00:00.000000000",
          "2025-04-01T00:00:00.000000000",
          "2025-04-02T00:00:00.000000000",
          "2025-04-03T00:00:00.000000000",
          "2025-04-04T00:00:00.000000000",
          "2025-04-05T00:00:00.000000000",
          "2025-04-06T00:00:00.000000000",
          "2025-04-07T00:00:00.000000000",
          "2025-04-08T00:00:00.000000000",
          "2025-04-09T00:00:00.000000000",
          "2025-04-10T00:00:00.000000000",
          "2025-04-11T00:00:00.000000000",
          "2025-04-12T00:00:00.000000000",
          "2025-04-13T00:00:00.000000000",
          "2025-04-14T00:00:00.000000000",
          "2025-04-15T00:00:00.000000000",
          "2025-04-16T00:00:00.000000000",
          "2025-04-17T00:00:00.000000000",
          "2025-04-18T00:00:00.000000000",
          "2025-04-19T00:00:00.000000000",
          "2025-04-20T00:00:00.000000000",
          "2025-04-21T00:00:00.000000000",
          "2025-04-22T00:00:00.000000000",
          "2025-04-23T00:00:00.000000000",
          "2025-04-24T00:00:00.000000000",
          "2025-04-25T00:00:00.000000000",
          "2025-04-26T00:00:00.000000000",
          "2025-04-27T00:00:00.000000000",
          "2025-04-28T00:00:00.000000000",
          "2025-04-29T00:00:00.000000000",
          "2025-04-30T00:00:00.000000000",
          "2025-05-01T00:00:00.000000000",
          "2025-05-02T00:00:00.000000000",
          "2025-05-03T00:00:00.000000000",
          "2025-05-04T00:00:00.000000000",
          "2025-05-05T00:00:00.000000000",
          "2025-05-06T00:00:00.000000000",
          "2025-05-07T00:00:00.000000000",
          "2025-05-08T00:00:00.000000000",
          "2025-05-09T00:00:00.000000000",
          "2025-05-10T00:00:00.000000000",
          "2025-05-11T00:00:00.000000000",
          "2025-05-12T00:00:00.000000000",
          "2025-05-13T00:00:00.000000000",
          "2025-05-14T00:00:00.000000000",
          "2025-05-15T00:00:00.000000000",
          "2025-05-16T00:00:00.000000000",
          "2025-05-17T00:00:00.000000000",
          "2025-05-18T00:00:00.000000000",
          "2025-05-19T00:00:00.000000000",
          "2025-05-20T00:00:00.000000000",
          "2025-05-21T00:00:00.000000000",
          "2025-05-22T00:00:00.000000000",
          "2025-05-23T00:00:00.000000000",
          "2025-05-24T00:00:00.000000000",
          "2025-05-25T00:00:00.000000000",
          "2025-05-26T00:00:00.000000000",
          "2025-05-27T00:00:00.000000000",
          "2025-05-28T00:00:00.000000000",
          "2025-05-29T00:00:00.000000000",
          "2025-05-30T00:00:00.000000000",
          "2025-05-31T00:00:00.000000000",
          "2025-06-01T00:00:00.000000000",
          "2025-06-02T00:00:00.000000000",
          "2025-06-03T00:00:00.000000000"
         ],
         "y": {
          "bdata": "AAAAAAAA+H8AAAAAAAD4fwAAAAAAAPh/AAAAAAAA+H8AAAAAAAD4fwrXWyqAwF9APgo/RSdnX0AK19v3t15fQNejEJCe219ApHA1LGQSX0C5HilhwCNeQBWui7ibfV5ASOFu7ELSXkCF6w/sF5xdQKRwC9Qc+VxAMzOuUywrXUDNzIC2XPpdQHE9Xtobtl5ACtdjZKM7X0B7FOS+zWJgQHsULgoeeGBA9ihYBhF7YEApXAVzgz1gQDMzbQR/UGBAPQqPrV3KYEDhekz3iuRgQPYoZOKMSGFAw/Uo6olFYUBcj4JJDBthQClcp59/CmJA9ig8Ie+YYkDNzPTnbItiQLgePWQ/omJAmpkBQm5wYkD2KMx5CjZiQBSud0fjMmJASOEKT3IYYkD2KGRo1/9hQKRwBe79e2JACtebOFxHYkAzM6Pq8htiQLgeRV2U3GFAAABIRAjwYUApXF/r8u1hQMP1OEgFEGJAKlyP6o2EY0ApXMfdKXlkQB+FA/h8zGRAH4W75Vt2ZEDD9bAvM6dkQFK4Bu/pTGVApHDlsm+9ZEApXIelqDRkQMP1OKUJPmRA2KNwebHtY0CkcD1ZpZFkQKRwDdy91GNAhuuBi58+ZEA0MyNJHnRkQOJ6XEc5FGVAC9dzVwarZEAVrjdpXdBkQOxRaL4nlGRANDMDRnW2ZEAfhat0wa5kQDQzA15zXWRAr0e5gz0NZEA+Cj83RCFjQJqZgerfCmNANDNbBcQKY0DNzJRS0PpiQA==",
          "dtype": "f8"
         }
        },
        {
         "name": "Forecast Low Price",
         "type": "scatter",
         "x": [
          "2025-03-25T00:00:00.000000000",
          "2025-03-26T00:00:00.000000000",
          "2025-03-27T00:00:00.000000000",
          "2025-03-28T00:00:00.000000000",
          "2025-03-29T00:00:00.000000000",
          "2025-03-30T00:00:00.000000000",
          "2025-03-31T00:00:00.000000000",
          "2025-04-01T00:00:00.000000000",
          "2025-04-02T00:00:00.000000000",
          "2025-04-03T00:00:00.000000000",
          "2025-04-04T00:00:00.000000000",
          "2025-04-05T00:00:00.000000000",
          "2025-04-06T00:00:00.000000000",
          "2025-04-07T00:00:00.000000000",
          "2025-04-08T00:00:00.000000000",
          "2025-04-09T00:00:00.000000000",
          "2025-04-10T00:00:00.000000000",
          "2025-04-11T00:00:00.000000000",
          "2025-04-12T00:00:00.000000000",
          "2025-04-13T00:00:00.000000000",
          "2025-04-14T00:00:00.000000000",
          "2025-04-15T00:00:00.000000000",
          "2025-04-16T00:00:00.000000000",
          "2025-04-17T00:00:00.000000000",
          "2025-04-18T00:00:00.000000000",
          "2025-04-19T00:00:00.000000000",
          "2025-04-20T00:00:00.000000000",
          "2025-04-21T00:00:00.000000000",
          "2025-04-22T00:00:00.000000000",
          "2025-04-23T00:00:00.000000000",
          "2025-04-24T00:00:00.000000000",
          "2025-04-25T00:00:00.000000000",
          "2025-04-26T00:00:00.000000000",
          "2025-04-27T00:00:00.000000000",
          "2025-04-28T00:00:00.000000000",
          "2025-04-29T00:00:00.000000000",
          "2025-04-30T00:00:00.000000000",
          "2025-05-01T00:00:00.000000000",
          "2025-05-02T00:00:00.000000000",
          "2025-05-03T00:00:00.000000000",
          "2025-05-04T00:00:00.000000000",
          "2025-05-05T00:00:00.000000000",
          "2025-05-06T00:00:00.000000000",
          "2025-05-07T00:00:00.000000000",
          "2025-05-08T00:00:00.000000000",
          "2025-05-09T00:00:00.000000000",
          "2025-05-10T00:00:00.000000000",
          "2025-05-11T00:00:00.000000000",
          "2025-05-12T00:00:00.000000000",
          "2025-05-13T00:00:00.000000000",
          "2025-05-14T00:00:00.000000000",
          "2025-05-15T00:00:00.000000000",
          "2025-05-16T00:00:00.000000000",
          "2025-05-17T00:00:00.000000000",
          "2025-05-18T00:00:00.000000000",
          "2025-05-19T00:00:00.000000000",
          "2025-05-20T00:00:00.000000000",
          "2025-05-21T00:00:00.000000000",
          "2025-05-22T00:00:00.000000000",
          "2025-05-23T00:00:00.000000000",
          "2025-05-24T00:00:00.000000000",
          "2025-05-25T00:00:00.000000000",
          "2025-05-26T00:00:00.000000000",
          "2025-05-27T00:00:00.000000000",
          "2025-05-28T00:00:00.000000000",
          "2025-05-29T00:00:00.000000000",
          "2025-05-30T00:00:00.000000000",
          "2025-05-31T00:00:00.000000000",
          "2025-06-01T00:00:00.000000000",
          "2025-06-02T00:00:00.000000000",
          "2025-06-03T00:00:00.000000000"
         ],
         "y": {
          "bdata": "AAAAAAAA+H8AAAAAAAD4fwAAAAAAAPh/AAAAAAAA+H8AAAAAAAD4f+F6pF+wOl1AuB5FxU7YXECPwqVpqs5cQB+FO0x+XV1AhesxhGVsXECF6yH2fR1bQHsUXhd7hVtAUrief8X9W0AUrqfuzgZaQAAAhK0IbVlAj8J9j9PFWUDNzEzCYLBaQGZmZj3jWVtASOGakZf4W0AAANDqj/1dQPYoXEdbOV5AH4VrcPtgXkCF66FdneNdQK5Hcb/6El5AH4Wb/GocX0B7FC6PoVVfQArXq37DGmBAhevBCDcaYEBcj+L2u+hfQEjhqhYuAmFAkMI1oO6PYUCF69GRJXxhQAAAwMWCl2FAMzNzqB9pYUAzM6NcuTBhQLgelb+vL2FAZ2amceATYUAK11Oc+vhgQD4Kd6a1emFAZ2ZmlcZAYUDsUbg7gBVhQJqZee9k02BAAABQklvtYEDNzDzAa+5gQBWud2sSE2FAAADgQWemYkCuR7GYT51jQEjhaiDb92NA9igcwy2lY0AVrqfxSeBjQHE9+mbKlWRAhetxMCwBZECQwtVjx3JjQFK47gjMemNAUrieEXwkY0A+Ctfwlc9jQB+Fu/ueAmNAUrjecBF0Y0DsUbheU6pjQNejED9YVWRAC9ejX17lY0AL17OxbxFkQD4KlzAe1WNASOFqufj7Y0D2KExhavRjQBWuN9C1n2NAH4ULcuNIY0AK1yNs905iQB+F6xj2LmJA9iiMGgEnYkAzM7OCchBiQA==",
          "dtype": "f8"
         }
        },
        {
         "close": {
          "bdata": "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",
          "dtype": "f8"
         },
         "high": {
          "bdata": "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",
          "dtype": "f8"
         },
         "low": {
          "bdata": "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",
          "dtype": "f8"
         },
         "name": "Candle",
         "open": {
          "bdata": "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",
          "dtype": "f8"
         },
         "type": "candlestick",
         "x": [
          "2024-06-15T00:00:00.000000000",
          "2024-06-16T00:00:00.000000000",
          "2024-06-17T00:00:00.000000000",
          "2024-06-18T00:00:00.000000000",
          "2024-06-19T00:00:00.000000000",
          "2024-06-20T00:00:00.000000000",
          "2024-06-21T00:00:00.000000000",
          "2024-06-22T00:00:00.000000000",
          "2024-06-23T00:00:00.000000000",
          "2024-06-24T00:00:00.000000000",
          "2024-06-25T00:00:00.000000000",
          "2024-06-26T00:00:00.000000000",
          "2024-06-27T00:00:00.000000000",
          "2024-06-28T00:00:00.000000000",
          "2024-06-29T00:00:00.000000000",
          "2024-06-30T00:00:00.000000000",
          "2024-07-01T00:00:00.000000000",
          "2024-07-02T00:00:00.000000000",
          "2024-07-03T00:00:00.000000000",
          "2024-07-04T00:00:00.000000000",
          "2024-07-05T00:00:00.000000000",
          "2024-07-06T00:00:00.000000000",
          "2024-07-07T00:00:00.000000000",
          "2024-07-08T00:00:00.000000000",
          "2024-07-09T00:00:00.000000000",
          "2024-07-10T00:00:00.000000000",
          "2024-07-11T00:00:00.000000000",
          "2024-07-12T00:00:00.000000000",
          "2024-07-13T00:00:00.000000000",
          "2024-07-14T00:00:00.000000000",
          "2024-07-15T00:00:00.000000000",
          "2024-07-16T00:00:00.000000000",
          "2024-07-17T00:00:00.000000000",
          "2024-07-18T00:00:00.000000000",
          "2024-07-19T00:00:00.000000000",
          "2024-07-20T00:00:00.000000000",
          "2024-07-21T00:00:00.000000000",
          "2024-07-22T00:00:00.000000000",
          "2024-07-23T00:00:00.000000000",
          "2024-07-24T00:00:00.000000000",
          "2024-07-25T00:00:00.000000000",
          "2024-07-26T00:00:00.000000000",
          "2024-07-27T00:00:00.000000000",
          "2024-07-28T00:00:00.000000000",
          "2024-07-29T00:00:00.000000000",
          "2024-07-30T00:00:00.000000000",
          "2024-07-31T00:00:00.000000000",
          "2024-08-01T00:00:00.000000000",
          "2024-08-02T00:00:00.000000000",
          "2024-08-03T00:00:00.000000000",
          "2024-08-04T00:00:00.000000000",
          "2024-08-05T00:00:00.000000000",
          "2024-08-06T00:00:00.000000000",
          "2024-08-07T00:00:00.000000000",
          "2024-08-08T00:00:00.000000000",
          "2024-08-09T00:00:00.000000000",
          "2024-08-10T00:00:00.000000000",
          "2024-08-11T00:00:00.000000000",
          "2024-08-12T00:00:00.000000000",
          "2024-08-13T00:00:00.000000000",
          "2024-08-14T00:00:00.000000000",
          "2024-08-15T00:00:00.000000000",
          "2024-08-16T00:00:00.000000000",
          "2024-08-17T00:00:00.000000000",
          "2024-08-18T00:00:00.000000000",
          "2024-08-19T00:00:00.000000000",
          "2024-08-20T00:00:00.000000000",
          "2024-08-21T00:00:00.000000000",
          "2024-08-22T00:00:00.000000000",
          "2024-08-23T00:00:00.000000000",
          "2024-08-24T00:00:00.000000000",
          "2024-08-25T00:00:00.000000000",
          "2024-08-26T00:00:00.000000000",
          "2024-08-27T00:00:00.000000000",
          "2024-08-28T00:00:00.000000000",
          "2024-08-29T00:00:00.000000000",
          "2024-08-30T00:00:00.000000000",
          "2024-08-31T00:00:00.000000000",
          "2024-09-01T00:00:00.000000000",
          "2024-09-02T00:00:00.000000000",
          "2024-09-03T00:00:00.000000000",
          "2024-09-04T00:00:00.000000000",
          "2024-09-05T00:00:00.000000000",
          "2024-09-06T00:00:00.000000000",
          "2024-09-07T00:00:00.000000000",
          "2024-09-08T00:00:00.000000000",
          "2024-09-09T00:00:00.000000000",
          "2024-09-10T00:00:00.000000000",
          "2024-09-11T00:00:00.000000000",
          "2024-09-12T00:00:00.000000000",
          "2024-09-13T00:00:00.000000000",
          "2024-09-14T00:00:00.000000000",
          "2024-09-15T00:00:00.000000000",
          "2024-09-16T00:00:00.000000000",
          "2024-09-17T00:00:00.000000000",
          "2024-09-18T00:00:00.000000000",
          "2024-09-19T00:00:00.000000000",
          "2024-09-20T00:00:00.000000000",
          "2024-09-21T00:00:00.000000000",
          "2024-09-22T00:00:00.000000000",
          "2024-09-23T00:00:00.000000000",
          "2024-09-24T00:00:00.000000000",
          "2024-09-25T00:00:00.000000000",
          "2024-09-26T00:00:00.000000000",
          "2024-09-27T00:00:00.000000000",
          "2024-09-28T00:00:00.000000000",
          "2024-09-29T00:00:00.000000000",
          "2024-09-30T00:00:00.000000000",
          "2024-10-01T00:00:00.000000000",
          "2024-10-02T00:00:00.000000000",
          "2024-10-03T00:00:00.000000000",
          "2024-10-04T00:00:00.000000000",
          "2024-10-05T00:00:00.000000000",
          "2024-10-06T00:00:00.000000000",
          "2024-10-07T00:00:00.000000000",
          "2024-10-08T00:00:00.000000000",
          "2024-10-09T00:00:00.000000000",
          "2024-10-10T00:00:00.000000000",
          "2024-10-11T00:00:00.000000000",
          "2024-10-12T00:00:00.000000000",
          "2024-10-13T00:00:00.000000000",
          "2024-10-14T00:00:00.000000000",
          "2024-10-15T00:00:00.000000000",
          "2024-10-16T00:00:00.000000000",
          "2024-10-17T00:00:00.000000000",
          "2024-10-18T00:00:00.000000000",
          "2024-10-19T00:00:00.000000000",
          "2024-10-20T00:00:00.000000000",
          "2024-10-21T00:00:00.000000000",
          "2024-10-22T00:00:00.000000000",
          "2024-10-23T00:00:00.000000000",
          "2024-10-24T00:00:00.000000000",
          "2024-10-25T00:00:00.000000000",
          "2024-10-26T00:00:00.000000000",
          "2024-10-27T00:00:00.000000000",
          "2024-10-28T00:00:00.000000000",
          "2024-10-29T00:00:00.000000000",
          "2024-10-30T00:00:00.000000000",
          "2024-10-31T00:00:00.000000000",
          "2024-11-01T00:00:00.000000000",
          "2024-11-02T00:00:00.000000000",
          "2024-11-03T00:00:00.000000000",
          "2024-11-04T00:00:00.000000000",
          "2024-11-05T00:00:00.000000000",
          "2024-11-06T00:00:00.000000000",
          "2024-11-07T00:00:00.000000000",
          "2024-11-08T00:00:00.000000000",
          "2024-11-09T00:00:00.000000000",
          "2024-11-10T00:00:00.000000000",
          "2024-11-11T00:00:00.000000000",
          "2024-11-12T00:00:00.000000000",
          "2024-11-13T00:00:00.000000000",
          "2024-11-14T00:00:00.000000000",
          "2024-11-15T00:00:00.000000000",
          "2024-11-16T00:00:00.000000000",
          "2024-11-17T00:00:00.000000000",
          "2024-11-18T00:00:00.000000000",
          "2024-11-19T00:00:00.000000000",
          "2024-11-20T00:00:00.000000000",
          "2024-11-21T00:00:00.000000000",
          "2024-11-22T00:00:00.000000000",
          "2024-11-23T00:00:00.000000000",
          "2024-11-24T00:00:00.000000000",
          "2024-11-25T00:00:00.000000000",
          "2024-11-26T00:00:00.000000000",
          "2024-11-27T00:00:00.000000000",
          "2024-11-28T00:00:00.000000000",
          "2024-11-29T00:00:00.000000000",
          "2024-11-30T00:00:00.000000000",
          "2024-12-01T00:00:00.000000000",
          "2024-12-02T00:00:00.000000000",
          "2024-12-03T00:00:00.000000000",
          "2024-12-04T00:00:00.000000000",
          "2024-12-05T00:00:00.000000000",
          "2024-12-06T00:00:00.000000000",
          "2024-12-07T00:00:00.000000000",
          "2024-12-08T00:00:00.000000000",
          "2024-12-09T00:00:00.000000000",
          "2024-12-10T00:00:00.000000000",
          "2024-12-11T00:00:00.000000000",
          "2024-12-12T00:00:00.000000000",
          "2024-12-13T00:00:00.000000000",
          "2024-12-14T00:00:00.000000000",
          "2024-12-15T00:00:00.000000000",
          "2024-12-16T00:00:00.000000000",
          "2024-12-17T00:00:00.000000000",
          "2024-12-18T00:00:00.000000000",
          "2024-12-19T00:00:00.000000000",
          "2024-12-20T00:00:00.000000000",
          "2024-12-21T00:00:00.000000000",
          "2024-12-22T00:00:00.000000000",
          "2024-12-23T00:00:00.000000000",
          "2024-12-24T00:00:00.000000000",
          "2024-12-25T00:00:00.000000000",
          "2024-12-26T00:00:00.000000000",
          "2024-12-27T00:00:00.000000000",
          "2024-12-28T00:00:00.000000000",
          "2024-12-29T00:00:00.000000000",
          "2024-12-30T00:00:00.000000000",
          "2024-12-31T00:00:00.000000000",
          "2025-01-01T00:00:00.000000000",
          "2025-01-02T00:00:00.000000000",
          "2025-01-03T00:00:00.000000000",
          "2025-01-04T00:00:00.000000000",
          "2025-01-05T00:00:00.000000000",
          "2025-01-06T00:00:00.000000000",
          "2025-01-07T00:00:00.000000000",
          "2025-01-08T00:00:00.000000000",
          "2025-01-09T00:00:00.000000000",
          "2025-01-10T00:00:00.000000000",
          "2025-01-11T00:00:00.000000000",
          "2025-01-12T00:00:00.000000000",
          "2025-01-13T00:00:00.000000000",
          "2025-01-14T00:00:00.000000000",
          "2025-01-15T00:00:00.000000000",
          "2025-01-16T00:00:00.000000000",
          "2025-01-17T00:00:00.000000000",
          "2025-01-18T00:00:00.000000000",
          "2025-01-19T00:00:00.000000000",
          "2025-01-20T00:00:00.000000000",
          "2025-01-21T00:00:00.000000000",
          "2025-01-22T00:00:00.000000000",
          "2025-01-23T00:00:00.000000000",
          "2025-01-24T00:00:00.000000000",
          "2025-01-25T00:00:00.000000000",
          "2025-01-26T00:00:00.000000000",
          "2025-01-27T00:00:00.000000000",
          "2025-01-28T00:00:00.000000000",
          "2025-01-29T00:00:00.000000000",
          "2025-01-30T00:00:00.000000000",
          "2025-01-31T00:00:00.000000000",
          "2025-02-01T00:00:00.000000000",
          "2025-02-02T00:00:00.000000000",
          "2025-02-03T00:00:00.000000000",
          "2025-02-04T00:00:00.000000000",
          "2025-02-05T00:00:00.000000000",
          "2025-02-06T00:00:00.000000000",
          "2025-02-07T00:00:00.000000000",
          "2025-02-08T00:00:00.000000000",
          "2025-02-09T00:00:00.000000000",
          "2025-02-10T00:00:00.000000000",
          "2025-02-11T00:00:00.000000000",
          "2025-02-12T00:00:00.000000000",
          "2025-02-13T00:00:00.000000000",
          "2025-02-14T00:00:00.000000000",
          "2025-02-15T00:00:00.000000000",
          "2025-02-16T00:00:00.000000000",
          "2025-02-17T00:00:00.000000000",
          "2025-02-18T00:00:00.000000000",
          "2025-02-19T00:00:00.000000000",
          "2025-02-20T00:00:00.000000000",
          "2025-02-21T00:00:00.000000000",
          "2025-02-22T00:00:00.000000000",
          "2025-02-23T00:00:00.000000000",
          "2025-02-24T00:00:00.000000000",
          "2025-02-25T00:00:00.000000000",
          "2025-02-26T00:00:00.000000000",
          "2025-02-27T00:00:00.000000000",
          "2025-02-28T00:00:00.000000000",
          "2025-03-01T00:00:00.000000000",
          "2025-03-02T00:00:00.000000000",
          "2025-03-03T00:00:00.000000000",
          "2025-03-04T00:00:00.000000000",
          "2025-03-05T00:00:00.000000000",
          "2025-03-06T00:00:00.000000000",
          "2025-03-07T00:00:00.000000000",
          "2025-03-08T00:00:00.000000000",
          "2025-03-09T00:00:00.000000000",
          "2025-03-10T00:00:00.000000000",
          "2025-03-11T00:00:00.000000000",
          "2025-03-12T00:00:00.000000000",
          "2025-03-13T00:00:00.000000000",
          "2025-03-14T00:00:00.000000000",
          "2025-03-15T00:00:00.000000000",
          "2025-03-16T00:00:00.000000000",
          "2025-03-17T00:00:00.000000000",
          "2025-03-18T00:00:00.000000000",
          "2025-03-19T00:00:00.000000000",
          "2025-03-20T00:00:00.000000000",
          "2025-03-21T00:00:00.000000000",
          "2025-03-22T00:00:00.000000000",
          "2025-03-23T00:00:00.000000000",
          "2025-03-24T00:00:00.000000000",
          "2025-03-25T00:00:00.000000000",
          "2025-03-26T00:00:00.000000000",
          "2025-03-27T00:00:00.000000000",
          "2025-03-28T00:00:00.000000000",
          "2025-03-29T00:00:00.000000000",
          "2025-03-30T00:00:00.000000000",
          "2025-03-31T00:00:00.000000000",
          "2025-04-01T00:00:00.000000000",
          "2025-04-02T00:00:00.000000000",
          "2025-04-03T00:00:00.000000000",
          "2025-04-04T00:00:00.000000000",
          "2025-04-05T00:00:00.000000000",
          "2025-04-06T00:00:00.000000000",
          "2025-04-07T00:00:00.000000000",
          "2025-04-08T00:00:00.000000000",
          "2025-04-09T00:00:00.000000000",
          "2025-04-10T00:00:00.000000000",
          "2025-04-11T00:00:00.000000000",
          "2025-04-12T00:00:00.000000000",
          "2025-04-13T00:00:00.000000000",
          "2025-04-14T00:00:00.000000000",
          "2025-04-15T00:00:00.000000000",
          "2025-04-16T00:00:00.000000000",
          "2025-04-17T00:00:00.000000000",
          "2025-04-18T00:00:00.000000000",
          "2025-04-19T00:00:00.000000000",
          "2025-04-20T00:00:00.000000000",
          "2025-04-21T00:00:00.000000000",
          "2025-04-22T00:00:00.000000000",
          "2025-04-23T00:00:00.000000000",
          "2025-04-24T00:00:00.000000000",
          "2025-04-25T00:00:00.000000000",
          "2025-04-26T00:00:00.000000000",
          "2025-04-27T00:00:00.000000000",
          "2025-04-28T00:00:00.000000000",
          "2025-04-29T00:00:00.000000000",
          "2025-04-30T00:00:00.000000000",
          "2025-05-01T00:00:00.000000000",
          "2025-05-02T00:00:00.000000000",
          "2025-05-03T00:00:00.000000000",
          "2025-05-04T00:00:00.000000000",
          "2025-05-05T00:00:00.000000000",
          "2025-05-06T00:00:00.000000000",
          "2025-05-07T00:00:00.000000000",
          "2025-05-08T00:00:00.000000000",
          "2025-05-09T00:00:00.000000000",
          "2025-05-10T00:00:00.000000000",
          "2025-05-11T00:00:00.000000000",
          "2025-05-12T00:00:00.000000000",
          "2025-05-13T00:00:00.000000000",
          "2025-05-14T00:00:00.000000000",
          "2025-05-15T00:00:00.000000000",
          "2025-05-16T00:00:00.000000000",
          "2025-05-17T00:00:00.000000000",
          "2025-05-18T00:00:00.000000000",
          "2025-05-19T00:00:00.000000000",
          "2025-05-20T00:00:00.000000000",
          "2025-05-21T00:00:00.000000000",
          "2025-05-22T00:00:00.000000000",
          "2025-05-23T00:00:00.000000000",
          "2025-05-24T00:00:00.000000000",
          "2025-05-25T00:00:00.000000000",
          "2025-05-26T00:00:00.000000000",
          "2025-05-27T00:00:00.000000000",
          "2025-05-28T00:00:00.000000000",
          "2025-05-29T00:00:00.000000000",
          "2025-05-30T00:00:00.000000000",
          "2025-05-31T00:00:00.000000000",
          "2025-06-01T00:00:00.000000000",
          "2025-06-02T00:00:00.000000000",
          "2025-06-03T00:00:00.000000000"
         ]
        }
       ],
       "layout": {
        "template": {
         "data": {
          "bar": [
           {
            "error_x": {
             "color": "#2a3f5f"
            },
            "error_y": {
             "color": "#2a3f5f"
            },
            "marker": {
             "line": {
              "color": "#E5ECF6",
              "width": 0.5
             },
             "pattern": {
              "fillmode": "overlay",
              "size": 10,
              "solidity": 0.2
             }
            },
            "type": "bar"
           }
          ],
          "barpolar": [
           {
            "marker": {
             "line": {
              "color": "#E5ECF6",
              "width": 0.5
             },
             "pattern": {
              "fillmode": "overlay",
              "size": 10,
              "solidity": 0.2
             }
            },
            "type": "barpolar"
           }
          ],
          "carpet": [
           {
            "aaxis": {
             "endlinecolor": "#2a3f5f",
             "gridcolor": "white",
             "linecolor": "white",
             "minorgridcolor": "white",
             "startlinecolor": "#2a3f5f"
            },
            "baxis": {
             "endlinecolor": "#2a3f5f",
             "gridcolor": "white",
             "linecolor": "white",
             "minorgridcolor": "white",
             "startlinecolor": "#2a3f5f"
            },
            "type": "carpet"
           }
          ],
          "choropleth": [
           {
            "colorbar": {
             "outlinewidth": 0,
             "ticks": ""
            },
            "type": "choropleth"
           }
          ],
          "contour": [
           {
            "colorbar": {
             "outlinewidth": 0,
             "ticks": ""
            },
            "colorscale": [
             [
              0,
              "#0d0887"
             ],
             [
              0.1111111111111111,
              "#46039f"
             ],
             [
              0.2222222222222222,
              "#7201a8"
             ],
             [
              0.3333333333333333,
              "#9c179e"
             ],
             [
              0.4444444444444444,
              "#bd3786"
             ],
             [
              0.5555555555555556,
              "#d8576b"
             ],
             [
              0.6666666666666666,
              "#ed7953"
             ],
             [
              0.7777777777777778,
              "#fb9f3a"
             ],
             [
              0.8888888888888888,
              "#fdca26"
             ],
             [
              1,
              "#f0f921"
             ]
            ],
            "type": "contour"
           }
          ],
          "contourcarpet": [
           {
            "colorbar": {
             "outlinewidth": 0,
             "ticks": ""
            },
            "type": "contourcarpet"
           }
          ],
          "heatmap": [
           {
            "colorbar": {
             "outlinewidth": 0,
             "ticks": ""
            },
            "colorscale": [
             [
              0,
              "#0d0887"
             ],
             [
              0.1111111111111111,
              "#46039f"
             ],
             [
              0.2222222222222222,
              "#7201a8"
             ],
             [
              0.3333333333333333,
              "#9c179e"
             ],
             [
              0.4444444444444444,
              "#bd3786"
             ],
             [
              0.5555555555555556,
              "#d8576b"
             ],
             [
              0.6666666666666666,
              "#ed7953"
             ],
             [
              0.7777777777777778,
              "#fb9f3a"
             ],
             [
              0.8888888888888888,
              "#fdca26"
             ],
             [
              1,
              "#f0f921"
             ]
            ],
            "type": "heatmap"
           }
          ],
          "histogram": [
           {
            "marker": {
             "pattern": {
              "fillmode": "overlay",
              "size": 10,
              "solidity": 0.2
             }
            },
            "type": "histogram"
           }
          ],
          "histogram2d": [
           {
            "colorbar": {
             "outlinewidth": 0,
             "ticks": ""
            },
            "colorscale": [
             [
              0,
              "#0d0887"
             ],
             [
              0.1111111111111111,
              "#46039f"
             ],
             [
              0.2222222222222222,
              "#7201a8"
             ],
             [
              0.3333333333333333,
              "#9c179e"
             ],
             [
              0.4444444444444444,
              "#bd3786"
             ],
             [
              0.5555555555555556,
              "#d8576b"
             ],
             [
              0.6666666666666666,
              "#ed7953"
             ],
             [
              0.7777777777777778,
              "#fb9f3a"
             ],
             [
              0.8888888888888888,
              "#fdca26"
             ],
             [
              1,
              "#f0f921"
             ]
            ],
            "type": "histogram2d"
           }
          ],
          "histogram2dcontour": [
           {
            "colorbar": {
             "outlinewidth": 0,
             "ticks": ""
            },
            "colorscale": [
             [
              0,
              "#0d0887"
             ],
             [
              0.1111111111111111,
              "#46039f"
             ],
             [
              0.2222222222222222,
              "#7201a8"
             ],
             [
              0.3333333333333333,
              "#9c179e"
             ],
             [
              0.4444444444444444,
              "#bd3786"
             ],
             [
              0.5555555555555556,
              "#d8576b"
             ],
             [
              0.6666666666666666,
              "#ed7953"
             ],
             [
              0.7777777777777778,
              "#fb9f3a"
             ],
             [
              0.8888888888888888,
              "#fdca26"
             ],
             [
              1,
              "#f0f921"
             ]
            ],
            "type": "histogram2dcontour"
           }
          ],
          "mesh3d": [
           {
            "colorbar": {
             "outlinewidth": 0,
             "ticks": ""
            },
            "type": "mesh3d"
           }
          ],
          "parcoords": [
           {
            "line": {
             "colorbar": {
              "outlinewidth": 0,
              "ticks": ""
             }
            },
            "type": "parcoords"
           }
          ],
          "pie": [
           {
            "automargin": true,
            "type": "pie"
           }
          ],
          "scatter": [
           {
            "fillpattern": {
             "fillmode": "overlay",
             "size": 10,
             "solidity": 0.2
            },
            "type": "scatter"
           }
          ],
          "scatter3d": [
           {
            "line": {
             "colorbar": {
              "outlinewidth": 0,
              "ticks": ""
             }
            },
            "marker": {
             "colorbar": {
              "outlinewidth": 0,
              "ticks": ""
             }
            },
            "type": "scatter3d"
           }
          ],
          "scattercarpet": [
           {
            "marker": {
             "colorbar": {
              "outlinewidth": 0,
              "ticks": ""
             }
            },
            "type": "scattercarpet"
           }
          ],
          "scattergeo": [
           {
            "marker": {
             "colorbar": {
              "outlinewidth": 0,
              "ticks": ""
             }
            },
            "type": "scattergeo"
           }
          ],
          "scattergl": [
           {
            "marker": {
             "colorbar": {
              "outlinewidth": 0,
              "ticks": ""
             }
            },
            "type": "scattergl"
           }
          ],
          "scattermap": [
           {
            "marker": {
             "colorbar": {
              "outlinewidth": 0,
              "ticks": ""
             }
            },
            "type": "scattermap"
           }
          ],
          "scattermapbox": [
           {
            "marker": {
             "colorbar": {
              "outlinewidth": 0,
              "ticks": ""
             }
            },
            "type": "scattermapbox"
           }
          ],
          "scatterpolar": [
           {
            "marker": {
             "colorbar": {
              "outlinewidth": 0,
              "ticks": ""
             }
            },
            "type": "scatterpolar"
           }
          ],
          "scatterpolargl": [
           {
            "marker": {
             "colorbar": {
              "outlinewidth": 0,
              "ticks": ""
             }
            },
            "type": "scatterpolargl"
           }
          ],
          "scatterternary": [
           {
            "marker": {
             "colorbar": {
              "outlinewidth": 0,
              "ticks": ""
             }
            },
            "type": "scatterternary"
           }
          ],
          "surface": [
           {
            "colorbar": {
             "outlinewidth": 0,
             "ticks": ""
            },
            "colorscale": [
             [
              0,
              "#0d0887"
             ],
             [
              0.1111111111111111,
              "#46039f"
             ],
             [
              0.2222222222222222,
              "#7201a8"
             ],
             [
              0.3333333333333333,
              "#9c179e"
             ],
             [
              0.4444444444444444,
              "#bd3786"
             ],
             [
              0.5555555555555556,
              "#d8576b"
             ],
             [
              0.6666666666666666,
              "#ed7953"
             ],
             [
              0.7777777777777778,
              "#fb9f3a"
             ],
             [
              0.8888888888888888,
              "#fdca26"
             ],
             [
              1,
              "#f0f921"
             ]
            ],
            "type": "surface"
           }
          ],
          "table": [
           {
            "cells": {
             "fill": {
              "color": "#EBF0F8"
             },
             "line": {
              "color": "white"
             }
            },
            "header": {
             "fill": {
              "color": "#C8D4E3"
             },
             "line": {
              "color": "white"
             }
            },
            "type": "table"
           }
          ]
         },
         "layout": {
          "annotationdefaults": {
           "arrowcolor": "#2a3f5f",
           "arrowhead": 0,
           "arrowwidth": 1
          },
          "autotypenumbers": "strict",
          "coloraxis": {
           "colorbar": {
            "outlinewidth": 0,
            "ticks": ""
           }
          },
          "colorscale": {
           "diverging": [
            [
             0,
             "#8e0152"
            ],
            [
             0.1,
             "#c51b7d"
            ],
            [
             0.2,
             "#de77ae"
            ],
            [
             0.3,
             "#f1b6da"
            ],
            [
             0.4,
             "#fde0ef"
            ],
            [
             0.5,
             "#f7f7f7"
            ],
            [
             0.6,
             "#e6f5d0"
            ],
            [
             0.7,
             "#b8e186"
            ],
            [
             0.8,
             "#7fbc41"
            ],
            [
             0.9,
             "#4d9221"
            ],
            [
             1,
             "#276419"
            ]
           ],
           "sequential": [
            [
             0,
             "#0d0887"
            ],
            [
             0.1111111111111111,
             "#46039f"
            ],
            [
             0.2222222222222222,
             "#7201a8"
            ],
            [
             0.3333333333333333,
             "#9c179e"
            ],
            [
             0.4444444444444444,
             "#bd3786"
            ],
            [
             0.5555555555555556,
             "#d8576b"
            ],
            [
             0.6666666666666666,
             "#ed7953"
            ],
            [
             0.7777777777777778,
             "#fb9f3a"
            ],
            [
             0.8888888888888888,
             "#fdca26"
            ],
            [
             1,
             "#f0f921"
            ]
           ],
           "sequentialminus": [
            [
             0,
             "#0d0887"
            ],
            [
             0.1111111111111111,
             "#46039f"
            ],
            [
             0.2222222222222222,
             "#7201a8"
            ],
            [
             0.3333333333333333,
             "#9c179e"
            ],
            [
             0.4444444444444444,
             "#bd3786"
            ],
            [
             0.5555555555555556,
             "#d8576b"
            ],
            [
             0.6666666666666666,
             "#ed7953"
            ],
            [
             0.7777777777777778,
             "#fb9f3a"
            ],
            [
             0.8888888888888888,
             "#fdca26"
            ],
            [
             1,
             "#f0f921"
            ]
           ]
          },
          "colorway": [
           "#636efa",
           "#EF553B",
           "#00cc96",
           "#ab63fa",
           "#FFA15A",
           "#19d3f3",
           "#FF6692",
           "#B6E880",
           "#FF97FF",
           "#FECB52"
          ],
          "font": {
           "color": "#2a3f5f"
          },
          "geo": {
           "bgcolor": "white",
           "lakecolor": "white",
           "landcolor": "#E5ECF6",
           "showlakes": true,
           "showland": true,
           "subunitcolor": "white"
          },
          "hoverlabel": {
           "align": "left"
          },
          "hovermode": "closest",
          "mapbox": {
           "style": "light"
          },
          "paper_bgcolor": "white",
          "plot_bgcolor": "#E5ECF6",
          "polar": {
           "angularaxis": {
            "gridcolor": "white",
            "linecolor": "white",
            "ticks": ""
           },
           "bgcolor": "#E5ECF6",
           "radialaxis": {
            "gridcolor": "white",
            "linecolor": "white",
            "ticks": ""
           }
          },
          "scene": {
           "xaxis": {
            "backgroundcolor": "#E5ECF6",
            "gridcolor": "white",
            "gridwidth": 2,
            "linecolor": "white",
            "showbackground": true,
            "ticks": "",
            "zerolinecolor": "white"
           },
           "yaxis": {
            "backgroundcolor": "#E5ECF6",
            "gridcolor": "white",
            "gridwidth": 2,
            "linecolor": "white",
            "showbackground": true,
            "ticks": "",
            "zerolinecolor": "white"
           },
           "zaxis": {
            "backgroundcolor": "#E5ECF6",
            "gridcolor": "white",
            "gridwidth": 2,
            "linecolor": "white",
            "showbackground": true,
            "ticks": "",
            "zerolinecolor": "white"
           }
          },
          "shapedefaults": {
           "line": {
            "color": "#2a3f5f"
           }
          },
          "ternary": {
           "aaxis": {
            "gridcolor": "white",
            "linecolor": "white",
            "ticks": ""
           },
           "baxis": {
            "gridcolor": "white",
            "linecolor": "white",
            "ticks": ""
           },
           "bgcolor": "#E5ECF6",
           "caxis": {
            "gridcolor": "white",
            "linecolor": "white",
            "ticks": ""
           }
          },
          "title": {
           "x": 0.05
          },
          "xaxis": {
           "automargin": true,
           "gridcolor": "white",
           "linecolor": "white",
           "ticks": "",
           "title": {
            "standoff": 15
           },
           "zerolinecolor": "white",
           "zerolinewidth": 2
          },
          "yaxis": {
           "automargin": true,
           "gridcolor": "white",
           "linecolor": "white",
           "ticks": "",
           "title": {
            "standoff": 15
           },
           "zerolinecolor": "white",
           "zerolinewidth": 2
          }
         }
        },
        "title": {
         "text": "SOL_USDT.csv Stock Price Prediction using LSTM"
        },
        "xaxis": {
         "rangeslider": {
          "visible": false
         },
         "title": {
          "text": "Date"
         }
        },
        "yaxis": {
         "title": {
          "text": "Price"
         }
        }
       }
      }
     },
     "metadata": {},
     "output_type": "display_data"
    }
   ],
   "source": [
    "fig = go.Figure()\n",
    "\n",
    "fig.add_trace(go.Scatter(x=forecast_df.index, y=forecast_df['forecast_high'], name='Forecast High Price'))\n",
    "fig.add_trace(go.Scatter(x=forecast_df.index, y=forecast_df['forecast_low'], name='Forecast Low Price'))\n",
    "\n",
    "fig.add_trace(go.Candlestick(\n",
    "                x=data.index,\n",
    "                open=data['open'], \n",
    "                high=data['high'],\n",
    "                low=data['low'], \n",
    "                close=data['close'],\n",
    "                name='Candle'),)\n",
    "\n",
    "fig.update_layout(title=f'{file_name} Stock Price Prediction using LSTM', xaxis_title='Date', yaxis_title='Price',    xaxis_rangeslider_visible=False )\n",
    "fig.show()\n"
   ]
  },
  {
   "cell_type": "code",
   "execution_count": 36,
   "metadata": {},
   "outputs": [
    {
     "data": {
      "text/html": [
       "<div>\n",
       "<style scoped>\n",
       "    .dataframe tbody tr th:only-of-type {\n",
       "        vertical-align: middle;\n",
       "    }\n",
       "\n",
       "    .dataframe tbody tr th {\n",
       "        vertical-align: top;\n",
       "    }\n",
       "\n",
       "    .dataframe thead th {\n",
       "        text-align: right;\n",
       "    }\n",
       "</style>\n",
       "<table border=\"1\" class=\"dataframe\">\n",
       "  <thead>\n",
       "    <tr style=\"text-align: right;\">\n",
       "      <th></th>\n",
       "      <th>open</th>\n",
       "      <th>high</th>\n",
       "      <th>low</th>\n",
       "      <th>close</th>\n",
       "      <th>volume</th>\n",
       "      <th>forecast_high</th>\n",
       "      <th>forecast_low</th>\n",
       "    </tr>\n",
       "    <tr>\n",
       "      <th>datetime</th>\n",
       "      <th></th>\n",
       "      <th></th>\n",
       "      <th></th>\n",
       "      <th></th>\n",
       "      <th></th>\n",
       "      <th></th>\n",
       "      <th></th>\n",
       "    </tr>\n",
       "  </thead>\n",
       "  <tbody>\n",
       "    <tr>\n",
       "      <th>2025-05-15</th>\n",
       "      <td>176.51</td>\n",
       "      <td>178.23</td>\n",
       "      <td>166.55</td>\n",
       "      <td>169.06</td>\n",
       "      <td>25491932.66</td>\n",
       "      <td>165.919885</td>\n",
       "      <td>160.036644</td>\n",
       "    </tr>\n",
       "    <tr>\n",
       "      <th>2025-05-16</th>\n",
       "      <td>169.06</td>\n",
       "      <td>174.16</td>\n",
       "      <td>166.22</td>\n",
       "      <td>167.33</td>\n",
       "      <td>18061064.71</td>\n",
       "      <td>161.645587</td>\n",
       "      <td>155.586840</td>\n",
       "    </tr>\n",
       "    <tr>\n",
       "      <th>2025-05-17</th>\n",
       "      <td>167.33</td>\n",
       "      <td>169.95</td>\n",
       "      <td>163.91</td>\n",
       "      <td>165.87</td>\n",
       "      <td>16744002.36</td>\n",
       "      <td>161.938677</td>\n",
       "      <td>155.837407</td>\n",
       "    </tr>\n",
       "    <tr>\n",
       "      <th>2025-05-18</th>\n",
       "      <td>165.87</td>\n",
       "      <td>176.73</td>\n",
       "      <td>164.50</td>\n",
       "      <td>173.24</td>\n",
       "      <td>22124057.51</td>\n",
       "      <td>159.427914</td>\n",
       "      <td>153.140145</td>\n",
       "    </tr>\n",
       "    <tr>\n",
       "      <th>2025-05-19</th>\n",
       "      <td>173.25</td>\n",
       "      <td>173.87</td>\n",
       "      <td>159.28</td>\n",
       "      <td>166.76</td>\n",
       "      <td>27244529.53</td>\n",
       "      <td>164.551434</td>\n",
       "      <td>158.487053</td>\n",
       "    </tr>\n",
       "    <tr>\n",
       "      <th>2025-05-20</th>\n",
       "      <td>166.76</td>\n",
       "      <td>173.06</td>\n",
       "      <td>164.40</td>\n",
       "      <td>168.51</td>\n",
       "      <td>21947126.47</td>\n",
       "      <td>158.648176</td>\n",
       "      <td>152.081907</td>\n",
       "    </tr>\n",
       "    <tr>\n",
       "      <th>2025-05-21</th>\n",
       "      <td>168.51</td>\n",
       "      <td>175.92</td>\n",
       "      <td>165.34</td>\n",
       "      <td>173.50</td>\n",
       "      <td>33065481.41</td>\n",
       "      <td>161.956976</td>\n",
       "      <td>155.627129</td>\n",
       "    </tr>\n",
       "    <tr>\n",
       "      <th>2025-05-22</th>\n",
       "      <td>173.50</td>\n",
       "      <td>180.82</td>\n",
       "      <td>172.40</td>\n",
       "      <td>179.60</td>\n",
       "      <td>23205120.54</td>\n",
       "      <td>163.628697</td>\n",
       "      <td>157.322677</td>\n",
       "    </tr>\n",
       "    <tr>\n",
       "      <th>2025-05-23</th>\n",
       "      <td>179.61</td>\n",
       "      <td>187.67</td>\n",
       "      <td>173.18</td>\n",
       "      <td>173.92</td>\n",
       "      <td>37351156.03</td>\n",
       "      <td>168.631992</td>\n",
       "      <td>162.667022</td>\n",
       "    </tr>\n",
       "    <tr>\n",
       "      <th>2025-05-24</th>\n",
       "      <td>173.92</td>\n",
       "      <td>178.22</td>\n",
       "      <td>172.52</td>\n",
       "      <td>175.81</td>\n",
       "      <td>14265329.48</td>\n",
       "      <td>165.344524</td>\n",
       "      <td>159.167770</td>\n",
       "    </tr>\n",
       "    <tr>\n",
       "      <th>2025-05-25</th>\n",
       "      <td>175.82</td>\n",
       "      <td>176.82</td>\n",
       "      <td>169.05</td>\n",
       "      <td>175.65</td>\n",
       "      <td>18127420.56</td>\n",
       "      <td>166.511403</td>\n",
       "      <td>160.544885</td>\n",
       "    </tr>\n",
       "    <tr>\n",
       "      <th>2025-05-26</th>\n",
       "      <td>175.64</td>\n",
       "      <td>178.96</td>\n",
       "      <td>173.37</td>\n",
       "      <td>174.80</td>\n",
       "      <td>14813072.89</td>\n",
       "      <td>164.629852</td>\n",
       "      <td>158.659935</td>\n",
       "    </tr>\n",
       "    <tr>\n",
       "      <th>2025-05-27</th>\n",
       "      <td>174.80</td>\n",
       "      <td>179.37</td>\n",
       "      <td>171.06</td>\n",
       "      <td>176.64</td>\n",
       "      <td>18734251.84</td>\n",
       "      <td>165.701816</td>\n",
       "      <td>159.874112</td>\n",
       "    </tr>\n",
       "    <tr>\n",
       "      <th>2025-05-28</th>\n",
       "      <td>176.64</td>\n",
       "      <td>177.38</td>\n",
       "      <td>168.80</td>\n",
       "      <td>172.11</td>\n",
       "      <td>16915674.20</td>\n",
       "      <td>165.461115</td>\n",
       "      <td>159.637986</td>\n",
       "    </tr>\n",
       "    <tr>\n",
       "      <th>2025-05-29</th>\n",
       "      <td>172.12</td>\n",
       "      <td>175.28</td>\n",
       "      <td>165.87</td>\n",
       "      <td>166.62</td>\n",
       "      <td>18527620.84</td>\n",
       "      <td>162.920333</td>\n",
       "      <td>156.990944</td>\n",
       "    </tr>\n",
       "    <tr>\n",
       "      <th>2025-05-30</th>\n",
       "      <td>166.61</td>\n",
       "      <td>167.41</td>\n",
       "      <td>155.01</td>\n",
       "      <td>156.12</td>\n",
       "      <td>25265495.15</td>\n",
       "      <td>160.413759</td>\n",
       "      <td>154.277764</td>\n",
       "    </tr>\n",
       "    <tr>\n",
       "      <th>2025-05-31</th>\n",
       "      <td>156.11</td>\n",
       "      <td>157.92</td>\n",
       "      <td>152.06</td>\n",
       "      <td>156.35</td>\n",
       "      <td>16603647.07</td>\n",
       "      <td>153.039577</td>\n",
       "      <td>146.467703</td>\n",
       "    </tr>\n",
       "    <tr>\n",
       "      <th>2025-06-01</th>\n",
       "      <td>156.36</td>\n",
       "      <td>157.85</td>\n",
       "      <td>150.48</td>\n",
       "      <td>157.62</td>\n",
       "      <td>15529303.58</td>\n",
       "      <td>152.339834</td>\n",
       "      <td>145.467541</td>\n",
       "    </tr>\n",
       "    <tr>\n",
       "      <th>2025-06-02</th>\n",
       "      <td>157.61</td>\n",
       "      <td>158.84</td>\n",
       "      <td>151.52</td>\n",
       "      <td>156.74</td>\n",
       "      <td>19012258.20</td>\n",
       "      <td>152.336428</td>\n",
       "      <td>145.218885</td>\n",
       "    </tr>\n",
       "    <tr>\n",
       "      <th>2025-06-03</th>\n",
       "      <td>156.75</td>\n",
       "      <td>163.57</td>\n",
       "      <td>154.00</td>\n",
       "      <td>155.08</td>\n",
       "      <td>21721022.99</td>\n",
       "      <td>151.837930</td>\n",
       "      <td>144.513978</td>\n",
       "    </tr>\n",
       "  </tbody>\n",
       "</table>\n",
       "</div>"
      ],
      "text/plain": [
       "              open    high     low   close       volume  forecast_high  \\\n",
       "datetime                                                                 \n",
       "2025-05-15  176.51  178.23  166.55  169.06  25491932.66     165.919885   \n",
       "2025-05-16  169.06  174.16  166.22  167.33  18061064.71     161.645587   \n",
       "2025-05-17  167.33  169.95  163.91  165.87  16744002.36     161.938677   \n",
       "2025-05-18  165.87  176.73  164.50  173.24  22124057.51     159.427914   \n",
       "2025-05-19  173.25  173.87  159.28  166.76  27244529.53     164.551434   \n",
       "2025-05-20  166.76  173.06  164.40  168.51  21947126.47     158.648176   \n",
       "2025-05-21  168.51  175.92  165.34  173.50  33065481.41     161.956976   \n",
       "2025-05-22  173.50  180.82  172.40  179.60  23205120.54     163.628697   \n",
       "2025-05-23  179.61  187.67  173.18  173.92  37351156.03     168.631992   \n",
       "2025-05-24  173.92  178.22  172.52  175.81  14265329.48     165.344524   \n",
       "2025-05-25  175.82  176.82  169.05  175.65  18127420.56     166.511403   \n",
       "2025-05-26  175.64  178.96  173.37  174.80  14813072.89     164.629852   \n",
       "2025-05-27  174.80  179.37  171.06  176.64  18734251.84     165.701816   \n",
       "2025-05-28  176.64  177.38  168.80  172.11  16915674.20     165.461115   \n",
       "2025-05-29  172.12  175.28  165.87  166.62  18527620.84     162.920333   \n",
       "2025-05-30  166.61  167.41  155.01  156.12  25265495.15     160.413759   \n",
       "2025-05-31  156.11  157.92  152.06  156.35  16603647.07     153.039577   \n",
       "2025-06-01  156.36  157.85  150.48  157.62  15529303.58     152.339834   \n",
       "2025-06-02  157.61  158.84  151.52  156.74  19012258.20     152.336428   \n",
       "2025-06-03  156.75  163.57  154.00  155.08  21721022.99     151.837930   \n",
       "\n",
       "            forecast_low  \n",
       "datetime                  \n",
       "2025-05-15    160.036644  \n",
       "2025-05-16    155.586840  \n",
       "2025-05-17    155.837407  \n",
       "2025-05-18    153.140145  \n",
       "2025-05-19    158.487053  \n",
       "2025-05-20    152.081907  \n",
       "2025-05-21    155.627129  \n",
       "2025-05-22    157.322677  \n",
       "2025-05-23    162.667022  \n",
       "2025-05-24    159.167770  \n",
       "2025-05-25    160.544885  \n",
       "2025-05-26    158.659935  \n",
       "2025-05-27    159.874112  \n",
       "2025-05-28    159.637986  \n",
       "2025-05-29    156.990944  \n",
       "2025-05-30    154.277764  \n",
       "2025-05-31    146.467703  \n",
       "2025-06-01    145.467541  \n",
       "2025-06-02    145.218885  \n",
       "2025-06-03    144.513978  "
      ]
     },
     "execution_count": 36,
     "metadata": {},
     "output_type": "execute_result"
    }
   ],
   "source": [
    "forecast_df.tail(20)\n"
   ]
  }
 ],
 "metadata": {
  "kernelspec": {
   "display_name": "stock-prediction",
   "language": "python",
   "name": "python3"
  },
  "language_info": {
   "codemirror_mode": {
    "name": "ipython",
    "version": 3
   },
   "file_extension": ".py",
   "mimetype": "text/x-python",
   "name": "python",
   "nbconvert_exporter": "python",
   "pygments_lexer": "ipython3",
   "version": "3.11.13"
  }
 },
 "nbformat": 4,
 "nbformat_minor": 2
}
